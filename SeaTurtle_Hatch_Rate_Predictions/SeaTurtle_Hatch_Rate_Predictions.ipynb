{
  "cells": [
    {
      "cell_type": "markdown",
      "metadata": {
        "id": "W7c0ERoMyaKO"
      },
      "source": [
        "# ER131 Final Project Template\n",
        "\n",
        "Fall 2023"
      ]
    },
    {
      "cell_type": "markdown",
      "metadata": {
        "id": "DgHOfxkGyaKQ"
      },
      "source": [
        "# Predicting Sea Turtle Nest Success Rates and Relocation on Cumberland Island, GA\n",
        "\n",
        "Fister, Alex: Background section, Accessing nesting data, searching for data, Classification, EDA, interpretation and conclusion for classification ~ 8-10 hours (a lot of the nesting data and background info were things I had already from my thesis)\n",
        "Menting, Joshua: Searching for data, writing abstract, project objectives, presentation slides, help on modeling and debugging ~ 9 hours\n",
        "Rosal Calit, Gabriella: Searching for data, Cleaning (especially matching lon and lat), EDA, Help on modeling and debugging ~ 7-10 hours\n",
        "Weinberger, Benjamin: Searching for data, cleaning, organizing the notebook, Regression, EDA, data description, interpretation and conclusion for regression ~ 8-12 hours (not sure how long i spent googling sources)"
      ]
    },
    {
      "cell_type": "markdown",
      "metadata": {
        "id": "Vj6m6B5AyaKQ"
      },
      "source": [
        "## Abstract (5 points)\n",
        "\n",
        "Turtle nest-site erosion could influence sea turtle egg and hatchling survival as nesting habitats include beaches on barrier islands, which undergo extreme erosion/accretion at different rates at different times of the year. This could potentially submerge nest sites. Washover events can increase egg mortality by saltwater inundation. Also, temperatures rising from climate change can cause feminization of hatchlings. A solution is nest relocation. The goal, then, is to predict success rates for nests where this data is missing and predict whether these nests would require relocation.\n",
        "\n",
        "The primary prediction problem was approached by looking at three target variables: hatch success rate (corrected) which was modeled with regression analysis, emergence success rate (corrected) which was also modeled with regression analysis, and relocation which was analyzed using a classification model. The features included erosion, temperature, washovers, date, time, location, and relocation. 4 data sets were cleaned. Regression models included OLS, ridge, and lasso, and classification models included logistic regression, KKN, and decision trees. MSE from k-fold cross-validation and the classification validation score were used for measures of test error.\n",
        "\n",
        "In all of our regression models, the RMSE found from cross validation was substantial, and adjusting the hyperparameters did not improve the model's prediction. Additionally, our predictions for nests where there was no recorded emergence were unrealistic in their range. In classification we were able to build models that scored above 50% on the validation scores, but these models likely would need more data on distance from nearest predators to be more effective at predicting relocation.\n"
      ]
    },
    {
      "cell_type": "markdown",
      "metadata": {
        "id": "Y7HDHAskyaKQ"
      },
      "source": [
        "## Project Background (5 points)\n",
        "\n",
        "\tGreen turtles (Chelonia mydas), loggerhead turtles (Caretta caretta) and leatherback turtles (Dermochelys coriacea) nest on US Atlantic coast beaches (Carroll et al. 2022). Turtles hatch on these beaches and inhabit ocean ecosystems until they reach sexual maturity. Nesting sea turtles return to their natal beaches to lay eggs in the same nest-sites they were born in (Varela et al. 2019).\n",
        "    \n",
        "    \n",
        "\tNest-site erosion could influence sea turtle egg and hatchling survival. Sea turtle nesting habitats include beaches on barrier islands. These areas are constantly undergoing extreme erosion and accretion over a given year, causing dramatic changes in shoreline composition (Lamont and Carthy, 2007). The dynamic nature of these beaches are a challenge for the stability of sea turtle nesting sites. Erosional shorelines have decreased habitat availability at different times of the year (Lamont and Carthy, 2007), which could submerge historical nesting sites. Cumberland Island, Little St. Simons Island, and St. Catherines Island are all barrier islands that include sea turtle nesting sites.\n",
        "    \n",
        "    \n",
        "\tWhen beaches are flooded, nest washover events could increase egg mortality. Saltwater inundation for prolonged periods of time has been found to decrease egg and hatchling survival rates in all stages of embryonic development (Pike et al. 2015). Islands with severe rates of erosion place nest-sites at a greater risk for washover events.\n",
        "    \n",
        "    \n",
        "\tLight pollution and temperature are other factors influencing survival. Light pollution is positively correlated with coastal urbanization (such as beach houses and restaurants) (Hu et al. 2018). Unfortunately we were unable to find a light pollution dataset that we could feasibly convert into a csv file to analyze, so this was left out of our models. Sea turtle hatchlings rely on moonlight to guide them to the ocean, so anthropogenic light can disorient hatchlings and lead to mortality (Bourgeois et al. 2009). Temperatures of the air and sand determine the sex of sea turtle eggs, so nesting in a warmer climate could cause widespread feminization of hatchlings, or even mortality (Hamann et al. 2007).\n",
        "    \n",
        "    \n",
        "\tA mitigation strategy for egg mortality caused by beach erosion is nest relocation. Sea turtle nest relocation involves moving nests to stretches of beach that are not at risk for flooding (Pfaller et al. 2008). This management strategy is beneficial because it places nests in habitats more favorable for egg and hatchling survival, which nesting sea turtles cannot find using only natal knowledge. Potential drawbacks of nest relocation are mortality from human handling and hotter sand temperature further inland. Sea turtle nesting sites are categorized as in situ or relocated.\n",
        "    \n",
        "    \n",
        "\tQuantitative analysis would be useful for predicting hatch and emergence success rates for nests where these data are missing, and whether these nests require relocation. Data about erosion, washovers, and temperature can be used to identify sites with high risks of egg and hatchling mortality. This information could help predict whether or not a nest will need to be relocated, and which nest-sites can ensure the highest possible rates of emergence and hatch success. These predictions could be used as a framework for nest relocation management strategies.\n",
        "\n",
        "\n",
        "Varela, MR. Patrício, AR. Anderson, K. 2019. Assessing climate change associated sea-level rise impacts on sea turtle nesting beaches using drones, photogrammetry and a novel GPS system. Glob Change Biol. 2019; 25: 753– 762.\n",
        "\n",
        "\n",
        "Carroll, J. M. Whitesell, M. J. Hunter, E. A. Rostal, D. C. 2022. First time’s a charm? Loggerhead neophyte mothers have higher hatch success. Southeastern Naturalist. 21(4): 291-298\n",
        "\n",
        "\n",
        "Pike, D. Roznik, E. Bell, I. 2015. Nest inundation from sea-level rise threatens sea turtle population viability. R. Soc. open sci., volume 2: 150127\n",
        "Lamont, M. M. Carthy, R. R. 2007. Response of nesting sea turtles to barrier island dynamics. Chelonian Conservation and Biology, 6(2): 206-212\n",
        "\n",
        "Bourgeois, E. Gilot-Fromont, A. Viallefont, F. Boussamba, S.L. Deem. 2009. Influence of artificial lights, logs and erosion on leatherback sea turtle hatchling orientation at Pongara National Park. Gabon. Biol. Conser., 142, pp. 85-93\n",
        "\n",
        "\n",
        "Hu, Z., H. Hu, and Y. Huang. 2018. Association between nighttime artificial light pollution and sea turtle nest density along Florida coast: A geospatial study using VIIRS remote sensing data. Environmental Pollution 239:30–42.\n",
        "\n",
        "Hamann, M. Limpus, C.J. Read,  M.A. 2007. Vulnerability of marine reptiles in the Great Barrier Reef to climate change. J. Johnson, P. Marshall (Eds.), Climate Change and The Great Barrier Reef: A Vulnerability Assessment, Great Barrier Reef Marine Park Authority and Australian Greenhouse Office, Townsville, pp. 667-716\n",
        "\n",
        "\n",
        "Pfaller JB, Limpus CJ, Bjorndal KA. Nest-site selection in individual loggerhead turtles and consequences for doomed-egg relocation. Conserv Biol. 2009 Feb;23(1):72-80. doi: 10.1111/j.1523-1739.2008.01055.x. Epub 2008 Sep 15. PMID: 18798862.\n"
      ]
    },
    {
      "cell_type": "markdown",
      "metadata": {
        "id": "yKZtZDhiyaKR"
      },
      "source": [
        "## Project Objective (5 points)\n",
        "\n",
        "Our first objective in this project is to predict both hatch and emergence success rates for nest observations where emergence was not recorded. This will allow for a better understanding of the typical patterns of hatching and emergence and how they relate to our potential feature variables (this part relates more to inferences). Our second objective is to predict the probability of relocation for nests where there was no opportunity to relocate. This would be a helpful model to aid conservation efforts by defining criteria or relying on modeling to identify nests that should be relocated in order to improve success rates.\n"
      ]
    },
    {
      "cell_type": "markdown",
      "metadata": {
        "id": "X2n_WYTKyaKR"
      },
      "source": [
        "## Data Description (5 points)\n",
        "\n",
        "The data on sea turtle nesting on Cumberland Island is collected by the Georgia Department of Natural Resources (GDNR) Sea Turtle Conservation Program. We received somewhat cleaned data from GDNR contacts for three islands in the State of Georgia, and we used the island with the largest number of observations and corresponding weather data. Wather data was collected from NOAA's website, which publishes data collected from weather stations across the country. Vertical land movement, which we used as a proxy for erosion rates, were collected from the USGS website and subset outside of Jupyterhub as the file prompted a warning when an upload was attempted. After the data was subset to only the area of Cumberland Island, it was sucessfully uploaded to the notebook.\n",
        "\n",
        "\n",
        "1. Structure: The data all came in the form of csv files.\n",
        "2. Granularity: For the GDNR turtle nesting dataset, each row represents a single nest over the nesting season, with different features of different aspects of the nest and its location, as well as its progress over time. For the monthly weather dataset, weather was aggregated at the monthly scale and each row reported weather observations for each month. For daily weather data, weather data was aggregated by the day. Vertical land movement data was a single value, aggregated from 2007 to 2021 which covers most of our nesting data.\n",
        "3. Scope: Both types of weather data cover a single point at the weather station on the island. The nesting data covers most of the beach area of the island. Vertical land movement data is approximately 75 m resolution and mm-level precision along the coastline, as was subset to only include the area of the island where turtles nest.\n",
        "4. Temporality: The nesting data includes dates for when nests are first recorded after being created by the turtles, as well as dates for emergence and inventory. We can see that nesting dates occur only between June and August. Monthly weather data ranges from 2003 to the present, while daily weather data was subset from 2008 to 2023 before being uploaded. Vertical land movement is aggregated over the period from 2007 to 2021, and thus has no temporal values.\n",
        "5. Faithfulness: The nesting data is the most unreliable out of our datasets. We see that there are strange dates and other inconsistencies in the dataframe which may have come from human error. Somes nests are labeled as \"Final Status Unknown\". We will predict our target variables for these nests, as there was no data collected.\n",
        "\n",
        "\n",
        "We will use the 'Relocation' column, Hatch Success Rate and Emergence Success Rate as our target variables."
      ]
    },
    {
      "cell_type": "code",
      "execution_count": null,
      "metadata": {
        "id": "84-Hbt0iyaKS"
      },
      "outputs": [],
      "source": [
        "import pandas as pd\n",
        "import numpy as np\n",
        "import seaborn as sns\n",
        "\n",
        "import matplotlib.pyplot as plt\n",
        "%matplotlib inline\n",
        "pd.set_option('display.max_columns', 500)"
      ]
    },
    {
      "cell_type": "code",
      "execution_count": null,
      "metadata": {
        "id": "XCFvSaPOyaKS"
      },
      "outputs": [],
      "source": [
        "cuis = pd.read_csv('CUIS_2008_2023.csv')\n",
        "dw = pd.read_csv('daily_weather_cuis_08_23.csv')\n",
        "mw = pd.read_csv('USR0000GSTA.csv')\n",
        "vlm = pd.read_csv('VerticalLandMotion_Rate_CUIS_GA.csv')\n"
      ]
    },
    {
      "cell_type": "code",
      "execution_count": null,
      "metadata": {
        "scrolled": true,
        "id": "6nK0UfeoyaKS",
        "outputId": "b799b84a-15f0-4ced-96e3-567aee3f9953"
      },
      "outputs": [
        {
          "data": {
            "text/html": [
              "<div>\n",
              "<style scoped>\n",
              "    .dataframe tbody tr th:only-of-type {\n",
              "        vertical-align: middle;\n",
              "    }\n",
              "\n",
              "    .dataframe tbody tr th {\n",
              "        vertical-align: top;\n",
              "    }\n",
              "\n",
              "    .dataframe thead th {\n",
              "        text-align: right;\n",
              "    }\n",
              "</style>\n",
              "<table border=\"1\" class=\"dataframe\">\n",
              "  <thead>\n",
              "    <tr style=\"text-align: right;\">\n",
              "      <th></th>\n",
              "      <th>UID</th>\n",
              "      <th>Beach</th>\n",
              "      <th>County</th>\n",
              "      <th>Activity #</th>\n",
              "      <th>Activity</th>\n",
              "      <th>Nest #</th>\n",
              "      <th>Ref #</th>\n",
              "      <th>Activity Date</th>\n",
              "      <th>Year</th>\n",
              "      <th>Month</th>\n",
              "      <th>Week</th>\n",
              "      <th>Dayofyear</th>\n",
              "      <th>JulianDate</th>\n",
              "      <th>Latitude</th>\n",
              "      <th>Longitude</th>\n",
              "      <th>Relocation</th>\n",
              "      <th>Relocation Latitude</th>\n",
              "      <th>Relocation Longitude</th>\n",
              "      <th>Relocation Location</th>\n",
              "      <th>Washovers</th>\n",
              "      <th>Loss Reports</th>\n",
              "      <th>Prerelocations</th>\n",
              "      <th>Total Lost Eggs</th>\n",
              "      <th>Total Lost Hatchlings</th>\n",
              "      <th>Lost Nest</th>\n",
              "      <th>Emerge Date</th>\n",
              "      <th>Inventory Date</th>\n",
              "      <th>Incubation (days)</th>\n",
              "      <th>Clutch Count</th>\n",
              "      <th>Shells&gt;50%</th>\n",
              "      <th>Unhatched Eggs</th>\n",
              "      <th>Dead Hatchlings</th>\n",
              "      <th>Live Hatchlings</th>\n",
              "      <th>Misoriented Hatchlings</th>\n",
              "      <th>Final Status Unknown</th>\n",
              "      <th>Exclude From Calc</th>\n",
              "      <th>Hatch Success</th>\n",
              "      <th>Emergence Success</th>\n",
              "    </tr>\n",
              "  </thead>\n",
              "  <tbody>\n",
              "    <tr>\n",
              "      <th>437</th>\n",
              "      <td>2472</td>\n",
              "      <td>Cumberland</td>\n",
              "      <td>Camden</td>\n",
              "      <td>142</td>\n",
              "      <td>N</td>\n",
              "      <td>103</td>\n",
              "      <td>NaN</td>\n",
              "      <td>6/23/09</td>\n",
              "      <td>2009</td>\n",
              "      <td>6</td>\n",
              "      <td>25.0</td>\n",
              "      <td>174.0</td>\n",
              "      <td>2455005.5</td>\n",
              "      <td>30.8715</td>\n",
              "      <td>-81.4185</td>\n",
              "      <td>in situ</td>\n",
              "      <td>NaN</td>\n",
              "      <td>NaN</td>\n",
              "      <td>NaN</td>\n",
              "      <td>NaN</td>\n",
              "      <td>1</td>\n",
              "      <td>0</td>\n",
              "      <td>1.0</td>\n",
              "      <td>NaN</td>\n",
              "      <td>NaN</td>\n",
              "      <td>8/21/09</td>\n",
              "      <td>NaN</td>\n",
              "      <td>59.0</td>\n",
              "      <td>NaN</td>\n",
              "      <td>NaN</td>\n",
              "      <td>NaN</td>\n",
              "      <td>NaN</td>\n",
              "      <td>NaN</td>\n",
              "      <td>NaN</td>\n",
              "      <td>1.0</td>\n",
              "      <td>NaN</td>\n",
              "      <td>NaN</td>\n",
              "      <td>NaN</td>\n",
              "    </tr>\n",
              "    <tr>\n",
              "      <th>1476</th>\n",
              "      <td>63599</td>\n",
              "      <td>Cumberland</td>\n",
              "      <td>Camden</td>\n",
              "      <td>1286</td>\n",
              "      <td>UN</td>\n",
              "      <td>698</td>\n",
              "      <td>NaN</td>\n",
              "      <td>2012-00-00</td>\n",
              "      <td>2012</td>\n",
              "      <td>0</td>\n",
              "      <td>NaN</td>\n",
              "      <td>NaN</td>\n",
              "      <td>NaN</td>\n",
              "      <td>30.7194</td>\n",
              "      <td>-81.4696</td>\n",
              "      <td>in situ</td>\n",
              "      <td>NaN</td>\n",
              "      <td>NaN</td>\n",
              "      <td>NaN</td>\n",
              "      <td>NaN</td>\n",
              "      <td>0</td>\n",
              "      <td>0</td>\n",
              "      <td>NaN</td>\n",
              "      <td>NaN</td>\n",
              "      <td>NaN</td>\n",
              "      <td>NaN</td>\n",
              "      <td>NaN</td>\n",
              "      <td>NaN</td>\n",
              "      <td>NaN</td>\n",
              "      <td>NaN</td>\n",
              "      <td>NaN</td>\n",
              "      <td>NaN</td>\n",
              "      <td>NaN</td>\n",
              "      <td>NaN</td>\n",
              "      <td>1.0</td>\n",
              "      <td>NaN</td>\n",
              "      <td>NaN</td>\n",
              "      <td>NaN</td>\n",
              "    </tr>\n",
              "    <tr>\n",
              "      <th>1477</th>\n",
              "      <td>63600</td>\n",
              "      <td>Cumberland</td>\n",
              "      <td>Camden</td>\n",
              "      <td>1287</td>\n",
              "      <td>UN</td>\n",
              "      <td>699</td>\n",
              "      <td>NaN</td>\n",
              "      <td>2012-00-00</td>\n",
              "      <td>2012</td>\n",
              "      <td>0</td>\n",
              "      <td>NaN</td>\n",
              "      <td>NaN</td>\n",
              "      <td>NaN</td>\n",
              "      <td>30.7196</td>\n",
              "      <td>-81.4698</td>\n",
              "      <td>in situ</td>\n",
              "      <td>NaN</td>\n",
              "      <td>NaN</td>\n",
              "      <td>NaN</td>\n",
              "      <td>NaN</td>\n",
              "      <td>0</td>\n",
              "      <td>0</td>\n",
              "      <td>NaN</td>\n",
              "      <td>NaN</td>\n",
              "      <td>NaN</td>\n",
              "      <td>NaN</td>\n",
              "      <td>NaN</td>\n",
              "      <td>NaN</td>\n",
              "      <td>NaN</td>\n",
              "      <td>NaN</td>\n",
              "      <td>NaN</td>\n",
              "      <td>NaN</td>\n",
              "      <td>NaN</td>\n",
              "      <td>NaN</td>\n",
              "      <td>1.0</td>\n",
              "      <td>NaN</td>\n",
              "      <td>NaN</td>\n",
              "      <td>NaN</td>\n",
              "    </tr>\n",
              "    <tr>\n",
              "      <th>2212</th>\n",
              "      <td>67209</td>\n",
              "      <td>Cumberland</td>\n",
              "      <td>Camden</td>\n",
              "      <td>114</td>\n",
              "      <td>N</td>\n",
              "      <td>547</td>\n",
              "      <td>NaN</td>\n",
              "      <td>6/6/13</td>\n",
              "      <td>2013</td>\n",
              "      <td>6</td>\n",
              "      <td>22.0</td>\n",
              "      <td>157.0</td>\n",
              "      <td>2456449.5</td>\n",
              "      <td>30.8630</td>\n",
              "      <td>-81.4210</td>\n",
              "      <td>in situ</td>\n",
              "      <td>NaN</td>\n",
              "      <td>NaN</td>\n",
              "      <td>NaN</td>\n",
              "      <td>NaN</td>\n",
              "      <td>0</td>\n",
              "      <td>0</td>\n",
              "      <td>NaN</td>\n",
              "      <td>NaN</td>\n",
              "      <td>NaN</td>\n",
              "      <td>8/9/13</td>\n",
              "      <td>NaN</td>\n",
              "      <td>64.0</td>\n",
              "      <td>NaN</td>\n",
              "      <td>NaN</td>\n",
              "      <td>NaN</td>\n",
              "      <td>NaN</td>\n",
              "      <td>NaN</td>\n",
              "      <td>NaN</td>\n",
              "      <td>1.0</td>\n",
              "      <td>NaN</td>\n",
              "      <td>NaN</td>\n",
              "      <td>NaN</td>\n",
              "    </tr>\n",
              "    <tr>\n",
              "      <th>2350</th>\n",
              "      <td>71249</td>\n",
              "      <td>Cumberland</td>\n",
              "      <td>Camden</td>\n",
              "      <td>335</td>\n",
              "      <td>N</td>\n",
              "      <td>216</td>\n",
              "      <td>NaN</td>\n",
              "      <td>6/22/13</td>\n",
              "      <td>2013</td>\n",
              "      <td>6</td>\n",
              "      <td>24.0</td>\n",
              "      <td>173.0</td>\n",
              "      <td>2456465.5</td>\n",
              "      <td>30.7993</td>\n",
              "      <td>-81.4514</td>\n",
              "      <td>in situ</td>\n",
              "      <td>NaN</td>\n",
              "      <td>NaN</td>\n",
              "      <td>NaN</td>\n",
              "      <td>NaN</td>\n",
              "      <td>1</td>\n",
              "      <td>0</td>\n",
              "      <td>1.0</td>\n",
              "      <td>NaN</td>\n",
              "      <td>NaN</td>\n",
              "      <td>NaN</td>\n",
              "      <td>NaN</td>\n",
              "      <td>NaN</td>\n",
              "      <td>NaN</td>\n",
              "      <td>NaN</td>\n",
              "      <td>NaN</td>\n",
              "      <td>NaN</td>\n",
              "      <td>NaN</td>\n",
              "      <td>NaN</td>\n",
              "      <td>1.0</td>\n",
              "      <td>NaN</td>\n",
              "      <td>NaN</td>\n",
              "      <td>NaN</td>\n",
              "    </tr>\n",
              "  </tbody>\n",
              "</table>\n",
              "</div>"
            ],
            "text/plain": [
              "        UID       Beach  County  Activity # Activity  Nest # Ref #  \\\n",
              "437    2472  Cumberland  Camden         142        N     103   NaN   \n",
              "1476  63599  Cumberland  Camden        1286       UN     698   NaN   \n",
              "1477  63600  Cumberland  Camden        1287       UN     699   NaN   \n",
              "2212  67209  Cumberland  Camden         114        N     547   NaN   \n",
              "2350  71249  Cumberland  Camden         335        N     216   NaN   \n",
              "\n",
              "     Activity Date  Year  Month  Week  Dayofyear  JulianDate  Latitude  \\\n",
              "437        6/23/09  2009      6  25.0      174.0   2455005.5   30.8715   \n",
              "1476    2012-00-00  2012      0   NaN        NaN         NaN   30.7194   \n",
              "1477    2012-00-00  2012      0   NaN        NaN         NaN   30.7196   \n",
              "2212        6/6/13  2013      6  22.0      157.0   2456449.5   30.8630   \n",
              "2350       6/22/13  2013      6  24.0      173.0   2456465.5   30.7993   \n",
              "\n",
              "      Longitude Relocation  Relocation Latitude  Relocation Longitude  \\\n",
              "437    -81.4185    in situ                  NaN                   NaN   \n",
              "1476   -81.4696    in situ                  NaN                   NaN   \n",
              "1477   -81.4698    in situ                  NaN                   NaN   \n",
              "2212   -81.4210    in situ                  NaN                   NaN   \n",
              "2350   -81.4514    in situ                  NaN                   NaN   \n",
              "\n",
              "     Relocation Location  Washovers  Loss Reports  Prerelocations  \\\n",
              "437                  NaN        NaN             1               0   \n",
              "1476                 NaN        NaN             0               0   \n",
              "1477                 NaN        NaN             0               0   \n",
              "2212                 NaN        NaN             0               0   \n",
              "2350                 NaN        NaN             1               0   \n",
              "\n",
              "      Total Lost Eggs  Total Lost Hatchlings  Lost Nest Emerge Date  \\\n",
              "437               1.0                    NaN        NaN     8/21/09   \n",
              "1476              NaN                    NaN        NaN         NaN   \n",
              "1477              NaN                    NaN        NaN         NaN   \n",
              "2212              NaN                    NaN        NaN      8/9/13   \n",
              "2350              1.0                    NaN        NaN         NaN   \n",
              "\n",
              "     Inventory Date  Incubation (days)  Clutch Count  Shells>50%  \\\n",
              "437             NaN               59.0           NaN         NaN   \n",
              "1476            NaN                NaN           NaN         NaN   \n",
              "1477            NaN                NaN           NaN         NaN   \n",
              "2212            NaN               64.0           NaN         NaN   \n",
              "2350            NaN                NaN           NaN         NaN   \n",
              "\n",
              "      Unhatched Eggs  Dead Hatchlings  Live Hatchlings  \\\n",
              "437              NaN              NaN              NaN   \n",
              "1476             NaN              NaN              NaN   \n",
              "1477             NaN              NaN              NaN   \n",
              "2212             NaN              NaN              NaN   \n",
              "2350             NaN              NaN              NaN   \n",
              "\n",
              "      Misoriented Hatchlings  Final Status Unknown  Exclude From Calc  \\\n",
              "437                      NaN                   1.0                NaN   \n",
              "1476                     NaN                   1.0                NaN   \n",
              "1477                     NaN                   1.0                NaN   \n",
              "2212                     NaN                   1.0                NaN   \n",
              "2350                     NaN                   1.0                NaN   \n",
              "\n",
              "      Hatch Success  Emergence Success  \n",
              "437             NaN                NaN  \n",
              "1476            NaN                NaN  \n",
              "1477            NaN                NaN  \n",
              "2212            NaN                NaN  \n",
              "2350            NaN                NaN  "
            ]
          },
          "execution_count": 3,
          "metadata": {},
          "output_type": "execute_result"
        }
      ],
      "source": [
        "cuis.loc[cuis['Final Status Unknown'] == 1].head()"
      ]
    },
    {
      "cell_type": "code",
      "execution_count": null,
      "metadata": {
        "scrolled": true,
        "id": "1QavLHEPyaKS",
        "outputId": "4127cf9a-e14e-4680-b12c-42214715b300"
      },
      "outputs": [
        {
          "data": {
            "text/html": [
              "<div>\n",
              "<style scoped>\n",
              "    .dataframe tbody tr th:only-of-type {\n",
              "        vertical-align: middle;\n",
              "    }\n",
              "\n",
              "    .dataframe tbody tr th {\n",
              "        vertical-align: top;\n",
              "    }\n",
              "\n",
              "    .dataframe thead th {\n",
              "        text-align: right;\n",
              "    }\n",
              "</style>\n",
              "<table border=\"1\" class=\"dataframe\">\n",
              "  <thead>\n",
              "    <tr style=\"text-align: right;\">\n",
              "      <th></th>\n",
              "      <th>UID</th>\n",
              "      <th>Activity #</th>\n",
              "      <th>Nest #</th>\n",
              "      <th>Year</th>\n",
              "      <th>Month</th>\n",
              "      <th>Week</th>\n",
              "      <th>Dayofyear</th>\n",
              "      <th>JulianDate</th>\n",
              "      <th>Latitude</th>\n",
              "      <th>Longitude</th>\n",
              "      <th>Relocation Latitude</th>\n",
              "      <th>Relocation Longitude</th>\n",
              "      <th>Washovers</th>\n",
              "      <th>Loss Reports</th>\n",
              "      <th>Prerelocations</th>\n",
              "      <th>Total Lost Eggs</th>\n",
              "      <th>Total Lost Hatchlings</th>\n",
              "      <th>Lost Nest</th>\n",
              "      <th>Incubation (days)</th>\n",
              "      <th>Clutch Count</th>\n",
              "      <th>Shells&gt;50%</th>\n",
              "      <th>Unhatched Eggs</th>\n",
              "      <th>Dead Hatchlings</th>\n",
              "      <th>Live Hatchlings</th>\n",
              "      <th>Misoriented Hatchlings</th>\n",
              "      <th>Final Status Unknown</th>\n",
              "      <th>Exclude From Calc</th>\n",
              "      <th>Hatch Success</th>\n",
              "      <th>Emergence Success</th>\n",
              "    </tr>\n",
              "  </thead>\n",
              "  <tbody>\n",
              "    <tr>\n",
              "      <th>count</th>\n",
              "      <td>10292.000000</td>\n",
              "      <td>10292.000000</td>\n",
              "      <td>10292.000000</td>\n",
              "      <td>10292.000000</td>\n",
              "      <td>10292.000000</td>\n",
              "      <td>10095.000000</td>\n",
              "      <td>10095.000000</td>\n",
              "      <td>1.009500e+04</td>\n",
              "      <td>10287.000000</td>\n",
              "      <td>10287.000000</td>\n",
              "      <td>3054.000000</td>\n",
              "      <td>3054.000000</td>\n",
              "      <td>7145.000000</td>\n",
              "      <td>10292.000000</td>\n",
              "      <td>10292.0</td>\n",
              "      <td>9711.000000</td>\n",
              "      <td>351.000000</td>\n",
              "      <td>268.0</td>\n",
              "      <td>6949.000000</td>\n",
              "      <td>9468.000000</td>\n",
              "      <td>9228.000000</td>\n",
              "      <td>9228.000000</td>\n",
              "      <td>9228.000000</td>\n",
              "      <td>9228.000000</td>\n",
              "      <td>3503.000000</td>\n",
              "      <td>805.0</td>\n",
              "      <td>4.0</td>\n",
              "      <td>9485.000000</td>\n",
              "      <td>9485.000000</td>\n",
              "    </tr>\n",
              "    <tr>\n",
              "      <th>mean</th>\n",
              "      <td>202418.435095</td>\n",
              "      <td>653.756607</td>\n",
              "      <td>387.078508</td>\n",
              "      <td>2017.113098</td>\n",
              "      <td>6.053148</td>\n",
              "      <td>24.646756</td>\n",
              "      <td>172.012580</td>\n",
              "      <td>2.457961e+06</td>\n",
              "      <td>30.857059</td>\n",
              "      <td>-81.425084</td>\n",
              "      <td>30.853586</td>\n",
              "      <td>-81.426514</td>\n",
              "      <td>0.333520</td>\n",
              "      <td>1.070443</td>\n",
              "      <td>0.0</td>\n",
              "      <td>2.015240</td>\n",
              "      <td>7.222222</td>\n",
              "      <td>1.0</td>\n",
              "      <td>58.124478</td>\n",
              "      <td>106.220215</td>\n",
              "      <td>75.870178</td>\n",
              "      <td>26.129714</td>\n",
              "      <td>1.647703</td>\n",
              "      <td>1.367794</td>\n",
              "      <td>1.129603</td>\n",
              "      <td>1.0</td>\n",
              "      <td>1.0</td>\n",
              "      <td>69.269899</td>\n",
              "      <td>66.540107</td>\n",
              "    </tr>\n",
              "    <tr>\n",
              "      <th>std</th>\n",
              "      <td>118608.301828</td>\n",
              "      <td>483.113569</td>\n",
              "      <td>280.782147</td>\n",
              "      <td>4.461502</td>\n",
              "      <td>1.126786</td>\n",
              "      <td>3.008382</td>\n",
              "      <td>20.900496</td>\n",
              "      <td>1.628324e+03</td>\n",
              "      <td>0.057945</td>\n",
              "      <td>0.018945</td>\n",
              "      <td>0.056832</td>\n",
              "      <td>0.019307</td>\n",
              "      <td>1.343779</td>\n",
              "      <td>0.495625</td>\n",
              "      <td>0.0</td>\n",
              "      <td>6.771417</td>\n",
              "      <td>14.307108</td>\n",
              "      <td>0.0</td>\n",
              "      <td>4.955463</td>\n",
              "      <td>22.680940</td>\n",
              "      <td>34.850677</td>\n",
              "      <td>30.591279</td>\n",
              "      <td>6.750437</td>\n",
              "      <td>8.648449</td>\n",
              "      <td>6.205163</td>\n",
              "      <td>0.0</td>\n",
              "      <td>0.0</td>\n",
              "      <td>30.831031</td>\n",
              "      <td>31.941269</td>\n",
              "    </tr>\n",
              "    <tr>\n",
              "      <th>min</th>\n",
              "      <td>388.000000</td>\n",
              "      <td>1.000000</td>\n",
              "      <td>1.000000</td>\n",
              "      <td>2008.000000</td>\n",
              "      <td>0.000000</td>\n",
              "      <td>16.000000</td>\n",
              "      <td>116.000000</td>\n",
              "      <td>2.454596e+06</td>\n",
              "      <td>30.713190</td>\n",
              "      <td>-81.472280</td>\n",
              "      <td>30.713360</td>\n",
              "      <td>-81.490200</td>\n",
              "      <td>0.000000</td>\n",
              "      <td>0.000000</td>\n",
              "      <td>0.0</td>\n",
              "      <td>0.000000</td>\n",
              "      <td>1.000000</td>\n",
              "      <td>1.0</td>\n",
              "      <td>43.000000</td>\n",
              "      <td>0.000000</td>\n",
              "      <td>0.000000</td>\n",
              "      <td>0.000000</td>\n",
              "      <td>0.000000</td>\n",
              "      <td>0.000000</td>\n",
              "      <td>0.000000</td>\n",
              "      <td>1.0</td>\n",
              "      <td>1.0</td>\n",
              "      <td>0.000000</td>\n",
              "      <td>-52.500000</td>\n",
              "    </tr>\n",
              "    <tr>\n",
              "      <th>25%</th>\n",
              "      <td>92605.750000</td>\n",
              "      <td>262.000000</td>\n",
              "      <td>162.000000</td>\n",
              "      <td>2013.000000</td>\n",
              "      <td>6.000000</td>\n",
              "      <td>22.000000</td>\n",
              "      <td>156.000000</td>\n",
              "      <td>2.456490e+06</td>\n",
              "      <td>30.817470</td>\n",
              "      <td>-81.442125</td>\n",
              "      <td>30.811400</td>\n",
              "      <td>-81.445500</td>\n",
              "      <td>0.000000</td>\n",
              "      <td>1.000000</td>\n",
              "      <td>0.0</td>\n",
              "      <td>1.000000</td>\n",
              "      <td>1.000000</td>\n",
              "      <td>1.0</td>\n",
              "      <td>55.000000</td>\n",
              "      <td>92.000000</td>\n",
              "      <td>59.000000</td>\n",
              "      <td>6.000000</td>\n",
              "      <td>0.000000</td>\n",
              "      <td>0.000000</td>\n",
              "      <td>0.000000</td>\n",
              "      <td>1.0</td>\n",
              "      <td>1.0</td>\n",
              "      <td>58.620700</td>\n",
              "      <td>52.671800</td>\n",
              "    </tr>\n",
              "    <tr>\n",
              "      <th>50%</th>\n",
              "      <td>224202.500000</td>\n",
              "      <td>554.000000</td>\n",
              "      <td>329.000000</td>\n",
              "      <td>2018.000000</td>\n",
              "      <td>6.000000</td>\n",
              "      <td>25.000000</td>\n",
              "      <td>172.000000</td>\n",
              "      <td>2.458284e+06</td>\n",
              "      <td>30.857840</td>\n",
              "      <td>-81.422820</td>\n",
              "      <td>30.854270</td>\n",
              "      <td>-81.424100</td>\n",
              "      <td>0.000000</td>\n",
              "      <td>1.000000</td>\n",
              "      <td>0.0</td>\n",
              "      <td>1.000000</td>\n",
              "      <td>1.000000</td>\n",
              "      <td>1.0</td>\n",
              "      <td>58.000000</td>\n",
              "      <td>107.000000</td>\n",
              "      <td>83.000000</td>\n",
              "      <td>13.000000</td>\n",
              "      <td>0.000000</td>\n",
              "      <td>0.000000</td>\n",
              "      <td>0.000000</td>\n",
              "      <td>1.0</td>\n",
              "      <td>1.0</td>\n",
              "      <td>82.352900</td>\n",
              "      <td>80.172400</td>\n",
              "    </tr>\n",
              "    <tr>\n",
              "      <th>75%</th>\n",
              "      <td>312130.250000</td>\n",
              "      <td>946.250000</td>\n",
              "      <td>556.000000</td>\n",
              "      <td>2021.000000</td>\n",
              "      <td>7.000000</td>\n",
              "      <td>27.000000</td>\n",
              "      <td>187.000000</td>\n",
              "      <td>2.459392e+06</td>\n",
              "      <td>30.904760</td>\n",
              "      <td>-81.404670</td>\n",
              "      <td>30.901808</td>\n",
              "      <td>-81.405400</td>\n",
              "      <td>0.000000</td>\n",
              "      <td>1.000000</td>\n",
              "      <td>0.0</td>\n",
              "      <td>1.000000</td>\n",
              "      <td>5.000000</td>\n",
              "      <td>1.0</td>\n",
              "      <td>61.000000</td>\n",
              "      <td>121.000000</td>\n",
              "      <td>100.000000</td>\n",
              "      <td>32.000000</td>\n",
              "      <td>1.000000</td>\n",
              "      <td>0.000000</td>\n",
              "      <td>0.000000</td>\n",
              "      <td>1.0</td>\n",
              "      <td>1.0</td>\n",
              "      <td>91.538500</td>\n",
              "      <td>90.598300</td>\n",
              "    </tr>\n",
              "    <tr>\n",
              "      <th>max</th>\n",
              "      <td>382668.000000</td>\n",
              "      <td>2066.000000</td>\n",
              "      <td>1254.000000</td>\n",
              "      <td>2023.000000</td>\n",
              "      <td>8.000000</td>\n",
              "      <td>34.000000</td>\n",
              "      <td>240.000000</td>\n",
              "      <td>2.460166e+06</td>\n",
              "      <td>30.988600</td>\n",
              "      <td>-81.401700</td>\n",
              "      <td>30.956330</td>\n",
              "      <td>-81.402220</td>\n",
              "      <td>50.000000</td>\n",
              "      <td>7.000000</td>\n",
              "      <td>0.0</td>\n",
              "      <td>117.000000</td>\n",
              "      <td>99.000000</td>\n",
              "      <td>1.0</td>\n",
              "      <td>80.000000</td>\n",
              "      <td>200.000000</td>\n",
              "      <td>162.000000</td>\n",
              "      <td>172.000000</td>\n",
              "      <td>121.000000</td>\n",
              "      <td>154.000000</td>\n",
              "      <td>100.000000</td>\n",
              "      <td>1.0</td>\n",
              "      <td>1.0</td>\n",
              "      <td>161.643800</td>\n",
              "      <td>158.904100</td>\n",
              "    </tr>\n",
              "  </tbody>\n",
              "</table>\n",
              "</div>"
            ],
            "text/plain": [
              "                 UID    Activity #        Nest #          Year         Month  \\\n",
              "count   10292.000000  10292.000000  10292.000000  10292.000000  10292.000000   \n",
              "mean   202418.435095    653.756607    387.078508   2017.113098      6.053148   \n",
              "std    118608.301828    483.113569    280.782147      4.461502      1.126786   \n",
              "min       388.000000      1.000000      1.000000   2008.000000      0.000000   \n",
              "25%     92605.750000    262.000000    162.000000   2013.000000      6.000000   \n",
              "50%    224202.500000    554.000000    329.000000   2018.000000      6.000000   \n",
              "75%    312130.250000    946.250000    556.000000   2021.000000      7.000000   \n",
              "max    382668.000000   2066.000000   1254.000000   2023.000000      8.000000   \n",
              "\n",
              "               Week     Dayofyear    JulianDate      Latitude     Longitude  \\\n",
              "count  10095.000000  10095.000000  1.009500e+04  10287.000000  10287.000000   \n",
              "mean      24.646756    172.012580  2.457961e+06     30.857059    -81.425084   \n",
              "std        3.008382     20.900496  1.628324e+03      0.057945      0.018945   \n",
              "min       16.000000    116.000000  2.454596e+06     30.713190    -81.472280   \n",
              "25%       22.000000    156.000000  2.456490e+06     30.817470    -81.442125   \n",
              "50%       25.000000    172.000000  2.458284e+06     30.857840    -81.422820   \n",
              "75%       27.000000    187.000000  2.459392e+06     30.904760    -81.404670   \n",
              "max       34.000000    240.000000  2.460166e+06     30.988600    -81.401700   \n",
              "\n",
              "       Relocation Latitude  Relocation Longitude    Washovers  Loss Reports  \\\n",
              "count          3054.000000           3054.000000  7145.000000  10292.000000   \n",
              "mean             30.853586            -81.426514     0.333520      1.070443   \n",
              "std               0.056832              0.019307     1.343779      0.495625   \n",
              "min              30.713360            -81.490200     0.000000      0.000000   \n",
              "25%              30.811400            -81.445500     0.000000      1.000000   \n",
              "50%              30.854270            -81.424100     0.000000      1.000000   \n",
              "75%              30.901808            -81.405400     0.000000      1.000000   \n",
              "max              30.956330            -81.402220    50.000000      7.000000   \n",
              "\n",
              "       Prerelocations  Total Lost Eggs  Total Lost Hatchlings  Lost Nest  \\\n",
              "count         10292.0      9711.000000             351.000000      268.0   \n",
              "mean              0.0         2.015240               7.222222        1.0   \n",
              "std               0.0         6.771417              14.307108        0.0   \n",
              "min               0.0         0.000000               1.000000        1.0   \n",
              "25%               0.0         1.000000               1.000000        1.0   \n",
              "50%               0.0         1.000000               1.000000        1.0   \n",
              "75%               0.0         1.000000               5.000000        1.0   \n",
              "max               0.0       117.000000              99.000000        1.0   \n",
              "\n",
              "       Incubation (days)  Clutch Count   Shells>50%  Unhatched Eggs  \\\n",
              "count        6949.000000   9468.000000  9228.000000     9228.000000   \n",
              "mean           58.124478    106.220215    75.870178       26.129714   \n",
              "std             4.955463     22.680940    34.850677       30.591279   \n",
              "min            43.000000      0.000000     0.000000        0.000000   \n",
              "25%            55.000000     92.000000    59.000000        6.000000   \n",
              "50%            58.000000    107.000000    83.000000       13.000000   \n",
              "75%            61.000000    121.000000   100.000000       32.000000   \n",
              "max            80.000000    200.000000   162.000000      172.000000   \n",
              "\n",
              "       Dead Hatchlings  Live Hatchlings  Misoriented Hatchlings  \\\n",
              "count      9228.000000      9228.000000             3503.000000   \n",
              "mean          1.647703         1.367794                1.129603   \n",
              "std           6.750437         8.648449                6.205163   \n",
              "min           0.000000         0.000000                0.000000   \n",
              "25%           0.000000         0.000000                0.000000   \n",
              "50%           0.000000         0.000000                0.000000   \n",
              "75%           1.000000         0.000000                0.000000   \n",
              "max         121.000000       154.000000              100.000000   \n",
              "\n",
              "       Final Status Unknown  Exclude From Calc  Hatch Success  \\\n",
              "count                 805.0                4.0    9485.000000   \n",
              "mean                    1.0                1.0      69.269899   \n",
              "std                     0.0                0.0      30.831031   \n",
              "min                     1.0                1.0       0.000000   \n",
              "25%                     1.0                1.0      58.620700   \n",
              "50%                     1.0                1.0      82.352900   \n",
              "75%                     1.0                1.0      91.538500   \n",
              "max                     1.0                1.0     161.643800   \n",
              "\n",
              "       Emergence Success  \n",
              "count        9485.000000  \n",
              "mean           66.540107  \n",
              "std            31.941269  \n",
              "min           -52.500000  \n",
              "25%            52.671800  \n",
              "50%            80.172400  \n",
              "75%            90.598300  \n",
              "max           158.904100  "
            ]
          },
          "execution_count": 4,
          "metadata": {},
          "output_type": "execute_result"
        }
      ],
      "source": [
        "cuis.describe()"
      ]
    },
    {
      "cell_type": "code",
      "execution_count": null,
      "metadata": {
        "id": "n_DpgaweyaKS",
        "outputId": "c64f5dbc-32bf-4362-8fa1-bf3097ab5e07"
      },
      "outputs": [
        {
          "name": "stdout",
          "output_type": "stream",
          "text": [
            "2008-05-01\n",
            "2023-10-31\n"
          ]
        }
      ],
      "source": [
        "print(dw['DATE'].min())\n",
        "print(dw['DATE'].max())"
      ]
    },
    {
      "cell_type": "code",
      "execution_count": null,
      "metadata": {
        "scrolled": true,
        "id": "Bype_sVpyaKS",
        "outputId": "57c81b1c-127c-4886-fa3b-870c88b2962a"
      },
      "outputs": [
        {
          "name": "stdout",
          "output_type": "stream",
          "text": [
            "2003-05\n",
            "2023-10\n"
          ]
        }
      ],
      "source": [
        "print(mw['DATE'].min())\n",
        "print(mw['DATE'].max())"
      ]
    },
    {
      "cell_type": "code",
      "execution_count": null,
      "metadata": {
        "id": "K5u7ufoDyaKT",
        "outputId": "9d51425a-686a-41c1-bc84-c7447b56000e"
      },
      "outputs": [
        {
          "data": {
            "text/html": [
              "<div>\n",
              "<style scoped>\n",
              "    .dataframe tbody tr th:only-of-type {\n",
              "        vertical-align: middle;\n",
              "    }\n",
              "\n",
              "    .dataframe tbody tr th {\n",
              "        vertical-align: top;\n",
              "    }\n",
              "\n",
              "    .dataframe thead th {\n",
              "        text-align: right;\n",
              "    }\n",
              "</style>\n",
              "<table border=\"1\" class=\"dataframe\">\n",
              "  <thead>\n",
              "    <tr style=\"text-align: right;\">\n",
              "      <th></th>\n",
              "      <th>Unnamed: 0</th>\n",
              "      <th>Longitude(deg)</th>\n",
              "      <th>Latitude(deg)</th>\n",
              "      <th>VLMrate(cm/yr)</th>\n",
              "      <th>VLMerror(cm/yr)</th>\n",
              "    </tr>\n",
              "  </thead>\n",
              "  <tbody>\n",
              "    <tr>\n",
              "      <th>count</th>\n",
              "      <td>1.231300e+04</td>\n",
              "      <td>12313.000000</td>\n",
              "      <td>12313.000000</td>\n",
              "      <td>12313.000000</td>\n",
              "      <td>12313.000000</td>\n",
              "    </tr>\n",
              "    <tr>\n",
              "      <th>mean</th>\n",
              "      <td>2.753392e+06</td>\n",
              "      <td>-81.439538</td>\n",
              "      <td>30.867881</td>\n",
              "      <td>0.014255</td>\n",
              "      <td>0.053331</td>\n",
              "    </tr>\n",
              "    <tr>\n",
              "      <th>std</th>\n",
              "      <td>4.549850e+03</td>\n",
              "      <td>0.018496</td>\n",
              "      <td>0.048872</td>\n",
              "      <td>0.020054</td>\n",
              "      <td>0.027126</td>\n",
              "    </tr>\n",
              "    <tr>\n",
              "      <th>min</th>\n",
              "      <td>2.736587e+06</td>\n",
              "      <td>-81.490000</td>\n",
              "      <td>30.722498</td>\n",
              "      <td>-0.061000</td>\n",
              "      <td>0.000000</td>\n",
              "    </tr>\n",
              "    <tr>\n",
              "      <th>25%</th>\n",
              "      <td>2.750343e+06</td>\n",
              "      <td>-81.453000</td>\n",
              "      <td>30.835706</td>\n",
              "      <td>0.001000</td>\n",
              "      <td>0.033000</td>\n",
              "    </tr>\n",
              "    <tr>\n",
              "      <th>50%</th>\n",
              "      <td>2.753712e+06</td>\n",
              "      <td>-81.439000</td>\n",
              "      <td>30.873744</td>\n",
              "      <td>0.015000</td>\n",
              "      <td>0.051000</td>\n",
              "    </tr>\n",
              "    <tr>\n",
              "      <th>75%</th>\n",
              "      <td>2.756952e+06</td>\n",
              "      <td>-81.427000</td>\n",
              "      <td>30.908699</td>\n",
              "      <td>0.028000</td>\n",
              "      <td>0.069000</td>\n",
              "    </tr>\n",
              "    <tr>\n",
              "      <th>max</th>\n",
              "      <td>2.761310e+06</td>\n",
              "      <td>-81.402000</td>\n",
              "      <td>30.970617</td>\n",
              "      <td>0.088000</td>\n",
              "      <td>0.188000</td>\n",
              "    </tr>\n",
              "  </tbody>\n",
              "</table>\n",
              "</div>"
            ],
            "text/plain": [
              "         Unnamed: 0  Longitude(deg)   Latitude(deg)   VLMrate(cm/yr)  \\\n",
              "count  1.231300e+04    12313.000000    12313.000000     12313.000000   \n",
              "mean   2.753392e+06      -81.439538       30.867881         0.014255   \n",
              "std    4.549850e+03        0.018496        0.048872         0.020054   \n",
              "min    2.736587e+06      -81.490000       30.722498        -0.061000   \n",
              "25%    2.750343e+06      -81.453000       30.835706         0.001000   \n",
              "50%    2.753712e+06      -81.439000       30.873744         0.015000   \n",
              "75%    2.756952e+06      -81.427000       30.908699         0.028000   \n",
              "max    2.761310e+06      -81.402000       30.970617         0.088000   \n",
              "\n",
              "        VLMerror(cm/yr)  \n",
              "count      12313.000000  \n",
              "mean           0.053331  \n",
              "std            0.027126  \n",
              "min            0.000000  \n",
              "25%            0.033000  \n",
              "50%            0.051000  \n",
              "75%            0.069000  \n",
              "max            0.188000  "
            ]
          },
          "execution_count": 7,
          "metadata": {},
          "output_type": "execute_result"
        }
      ],
      "source": [
        "vlm.describe()"
      ]
    },
    {
      "cell_type": "markdown",
      "metadata": {
        "id": "42-ZvWOEyaKT"
      },
      "source": [
        "## Data Cleaning (10 points)\n",
        "\n",
        "\n",
        "\n",
        "In this data cleaning process, we took several steps to enhance the dataset's quality. We eliminated rows with nonsensical dates, such as '2009-00-0,' as they lacked meaningful information and were predominantly filled with NaN values. Converting date-related variables into datetime objects helped us merge datasets based on dates. To determine the hatching date and corresponding night temperature, we calculated the estimated emergence date by adding the mean incubation days to the Activity Date, representing the nest's creation.\n",
        "For temperature analysis, we computed the monthly night temperature using a weighted average of 80% minimum and 20% maximum temperature. This average filled in missing daily night temperatures, crucial for representing the hatching temperature, considering sea turtles hatch at night. Additionally, we introduced features for the final latitude and longitude, accounting for relocated nests. Missing coordinates were imputed with the mean emergence latitude and longitude.\n",
        "\n",
        "\n",
        "Post data cleaning, we merged sea turtle data with monthly and daily weather data based on dates. Challenges arose when integrating vertical land motion data due to specific latitude and longitude values. To address this, we employed a function to identify the closest coordinates between the two datasets, facilitating a comprehensive overview of the incubation and emergence circumstances.\n",
        "\n",
        "\n",
        "Our approach aimed to retain as much data as possible for accurate predictions. We excluded data with minimal contribution to models and filled missing values with representative data to enhance the dataset's reliability.\n"
      ]
    },
    {
      "cell_type": "code",
      "execution_count": null,
      "metadata": {
        "id": "tA_GbEFjyaKT"
      },
      "outputs": [],
      "source": [
        "# Drop rows with weird dates\n",
        "cuis_cleaned = cuis.drop(cuis.loc[np.isnan(cuis['Week']) == True].index)\n",
        "cuis_cleaned['Activity Date'] = pd.to_datetime(cuis_cleaned['Activity Date'])\n",
        "\n",
        "# Make objects in cuis into dates\n",
        "cuis_cleaned['Emerge Date'] = pd.to_datetime(cuis_cleaned['Emerge Date'])\n",
        "cuis_cleaned['Emerge_month'] = cuis_cleaned['Emerge Date'].dt.month\n",
        "\n",
        "# Make estimated emergence date column\n",
        "mean_incub_days = cuis_cleaned[\"Incubation (days)\"].mean().round()\n",
        "cuis_cleaned['est_incub_(days)'] = cuis_cleaned['Activity Date'] + pd.DateOffset(days=mean_incub_days)\n",
        "\n",
        "# make objects in dw and mw into dates\n",
        "dw['DATE'] = pd.to_datetime(dw['DATE'])\n",
        "mw['DATE'] = pd.to_datetime(mw['DATE'])\n",
        "mw['Month'] = mw['DATE'].dt.month\n",
        "mw['Year'] = mw['DATE'].dt.year\n",
        "\n",
        "# make a night avg temp in monthly weather data\n",
        "mw['Monthly_Night_TAVG'] = mw['TMIN']*0.8 + mw['TMAX']*0.2\n",
        "\n",
        "# set a column of final location in cuis\n",
        "cuis_cleaned['Emerge_Lat'] = cuis_cleaned['Latitude']\n",
        "reloc_or_loc = ~np.isnan(cuis_cleaned['Relocation Latitude'])\n",
        "cuis_cleaned.loc[reloc_or_loc, 'Emerge_Lat'] = cuis_cleaned.loc[reloc_or_loc, 'Relocation Latitude']\n",
        "\n",
        "cuis_cleaned['Emerge_Lon'] = cuis_cleaned['Longitude']\n",
        "reloc_or_loc = ~np.isnan(cuis_cleaned['Relocation Longitude'])\n",
        "cuis_cleaned.loc[reloc_or_loc, 'Emerge_Lon'] = cuis_cleaned.loc[reloc_or_loc, 'Relocation Longitude']\n"
      ]
    },
    {
      "cell_type": "markdown",
      "metadata": {
        "id": "1lo3jbi9yaKT"
      },
      "source": [
        "Now, we merge the nesting data with the weather dataframes. We grab monthly data to approximate conditions during incubation, and then match the nightly average temperature to the estimated date of emergence (we calculated using the mean incubation period) to approximate conditions during the actual emergence event."
      ]
    },
    {
      "cell_type": "code",
      "execution_count": null,
      "metadata": {
        "id": "MRI03g3XyaKT"
      },
      "outputs": [],
      "source": [
        "cuis_merged = cuis_cleaned.merge(mw[['Monthly_Night_TAVG', 'Month', 'Year']], how = 'inner', on = ['Month', 'Year'])\n",
        "cuis_merged = cuis_merged.merge(dw[['DATE', 'NIGHT_TAVG']], how='left', left_on='est_incub_(days)', right_on='DATE')"
      ]
    },
    {
      "cell_type": "markdown",
      "metadata": {
        "id": "mZtmvNcmyaKT"
      },
      "source": [
        "Now we set up the dataframes to merge vertical land movement with the other data."
      ]
    },
    {
      "cell_type": "code",
      "execution_count": null,
      "metadata": {
        "id": "DUvgbuPOyaKT"
      },
      "outputs": [],
      "source": [
        "vlm.rename(columns={' Latitude(deg)': 'Latitude(deg)', ' VLMerror(cm/yr)': 'VLMerror(cm/yr)', ' VLMrate(cm/yr)': 'VLMrate(cm/yr)'}, inplace=True)"
      ]
    },
    {
      "cell_type": "code",
      "execution_count": null,
      "metadata": {
        "id": "eTyt38MLyaKT",
        "outputId": "467c2999-7847-488d-b7ea-39dcc65939f9"
      },
      "outputs": [
        {
          "data": {
            "text/plain": [
              "<matplotlib.collections.PathCollection at 0x7f2ae8159af0>"
            ]
          },
          "execution_count": 11,
          "metadata": {},
          "output_type": "execute_result"
        },
        {
          "data": {
            "image/png": "[encoded data removed]",
            "text/plain": [
              "<Figure size 640x480 with 1 Axes>"
            ]
          },
          "metadata": {},
          "output_type": "display_data"
        }
      ],
      "source": [
        "plt.scatter(vlm['Longitude(deg)'], vlm['Latitude(deg)'])\n",
        "plt.scatter(cuis_cleaned['Emerge_Lon'], cuis_cleaned['Emerge_Lat'])"
      ]
    },
    {
      "cell_type": "code",
      "execution_count": null,
      "metadata": {
        "id": "ty8JfmZ7yaKT"
      },
      "outputs": [],
      "source": [
        "#setting missing emerge lat and lon to mean emerge lat and lon\n",
        "missing_lat_idx = np.isnan(cuis_merged['Emerge_Lat'])\n",
        "cuis_merged.loc[missing_lat_idx, 'Emerge_Lat'] = np.mean(cuis_merged['Emerge_Lat'])\n",
        "cuis_merged.loc[missing_lat_idx, 'Emerge_Lon'] = np.mean(cuis_merged['Emerge_Lon'])"
      ]
    },
    {
      "cell_type": "code",
      "execution_count": null,
      "metadata": {
        "id": "MKWZfYyayaKU",
        "outputId": "0d1c6b7d-c130-4651-a6ca-885f7e0efdbe"
      },
      "outputs": [
        {
          "name": "stdout",
          "output_type": "stream",
          "text": [
            "Collecting haversine\n",
            "  Using cached haversine-2.8.0-py2.py3-none-any.whl (7.7 kB)\n",
            "Installing collected packages: haversine\n",
            "Successfully installed haversine-2.8.0\n"
          ]
        }
      ],
      "source": [
        "!pip install haversine"
      ]
    },
    {
      "cell_type": "code",
      "execution_count": null,
      "metadata": {
        "id": "Kj7jhayPyaKU"
      },
      "outputs": [],
      "source": [
        "# function to find the closest lat-lon coordinates in vlm to emergence lat-lon coordinates in cuis\n",
        "from haversine import haversine\n",
        "def closest_coor(lat, lon, df):\n",
        "  dist = []\n",
        "  coord1 = (lat, lon)\n",
        "  for _, row in df.iterrows():\n",
        "    coord2 = (row['Latitude(deg)'], row['Longitude(deg)'])\n",
        "    dist.append(haversine(coord1, coord2))\n",
        "\n",
        "  min_dist_idx = np.argmin(dist)\n",
        "  return df.loc[min_dist_idx, 'Latitude(deg)'], df.loc[min_dist_idx, 'Longitude(deg)']\n",
        "\n",
        "#insert closest vlm lat and lon to corresponding emerge lat and lon\n",
        "closest_coords = []\n",
        "for _, row in cuis_merged.iterrows():\n",
        "  closest_coords.append(closest_coor(row['Emerge_Lat'], row['Emerge_Lon'], vlm))\n",
        "\n",
        "cuis_merged['vlm lat'], cuis_merged['vlm lon'] = zip(*closest_coords)"
      ]
    },
    {
      "cell_type": "code",
      "execution_count": null,
      "metadata": {
        "id": "HODm8FtEyaKU"
      },
      "outputs": [],
      "source": [
        "cuis_merged = cuis_merged.merge(vlm[['Latitude(deg)', 'Longitude(deg)', 'VLMrate(cm/yr)', 'VLMerror(cm/yr)']], how = 'inner', left_on = ['vlm lat', 'vlm lon'], right_on=['Latitude(deg)', 'Longitude(deg)'])\n",
        "cuis_merged"
      ]
    },
    {
      "cell_type": "code",
      "execution_count": null,
      "metadata": {
        "id": "OkA3zXMPyaKU"
      },
      "outputs": [],
      "source": [
        "cuis_merged.to_csv('cuis_merged.csv', index=False)"
      ]
    },
    {
      "cell_type": "markdown",
      "metadata": {
        "id": "reQf9gX2yaKU"
      },
      "source": [
        "Since the above code takes a long time to run, we saved the merged dataframe as a csv file to load back in when we were working with the notebook."
      ]
    },
    {
      "cell_type": "markdown",
      "metadata": {
        "id": "nUAIJXw_yaKU"
      },
      "source": [
        "## Data Summary and Exploratory Data Analysis (10 points)\n",
        "\n",
        "In this section you should provide a tour through some of the basic trends and patterns in your data.  This includes providing initial plots to summarize the data, such as box plots, histograms, trends over time, scatter plots relating one variable or another.  "
      ]
    },
    {
      "cell_type": "markdown",
      "metadata": {
        "id": "YYDbh76oyaKU"
      },
      "source": [
        "Here, we load in the merged dataframe to avoid the time it takes to run the merge process."
      ]
    },
    {
      "cell_type": "code",
      "execution_count": null,
      "metadata": {
        "id": "hN2BVmuDyaKU"
      },
      "outputs": [],
      "source": [
        "cuis_merged = pd.read_csv('cuis_merged.csv')\n"
      ]
    },
    {
      "cell_type": "code",
      "execution_count": null,
      "metadata": {
        "scrolled": true,
        "id": "vHi_-WANyaKU",
        "outputId": "8b8fec08-04f5-4e52-f0bc-853868ff49f5"
      },
      "outputs": [
        {
          "data": {
            "text/plain": [
              "count    8599.000000\n",
              "mean       69.532760\n",
              "std        30.705003\n",
              "min         0.000000\n",
              "25%        59.566650\n",
              "50%        82.539700\n",
              "75%        91.472900\n",
              "max       161.643800\n",
              "Name: Hatch Success, dtype: float64"
            ]
          },
          "execution_count": 18,
          "metadata": {},
          "output_type": "execute_result"
        }
      ],
      "source": [
        "cuis_merged['Hatch Success'].describe()"
      ]
    },
    {
      "cell_type": "code",
      "execution_count": null,
      "metadata": {
        "id": "o0eAS_tHyaKU",
        "outputId": "0ded780e-c484-469b-f514-57be053f9c06"
      },
      "outputs": [
        {
          "data": {
            "text/plain": [
              "count    8599.000000\n",
              "mean       67.041573\n",
              "std        31.591287\n",
              "min       -52.500000\n",
              "25%        53.632800\n",
              "50%        80.373800\n",
              "75%        90.598300\n",
              "max       158.904100\n",
              "Name: Emergence Success, dtype: float64"
            ]
          },
          "execution_count": 19,
          "metadata": {},
          "output_type": "execute_result"
        }
      ],
      "source": [
        "cuis_merged['Emergence Success'].describe()"
      ]
    },
    {
      "cell_type": "markdown",
      "metadata": {
        "id": "9hEcDUOLyaKU"
      },
      "source": [
        "Here we see that some of our values for Hatch & Emergence Success, which are supposed to be a percentages, are above 100, which is strange. We will recalculate our values of hatch success and emergence success to ensure they are realistic. Hatch Success is the percentage out of the total clutch count that hatch. Emergence success is the percentage of eggs that hatch and make it out of the nest, which is the total hatched eggs minus live and dead hatchlings found in the nest, divided by the total clutch count."
      ]
    },
    {
      "cell_type": "code",
      "execution_count": null,
      "metadata": {
        "id": "-kS6HZQjyaKU",
        "outputId": "81418cb9-b899-4f51-9c98-dbfa610b855f"
      },
      "outputs": [
        {
          "data": {
            "text/plain": [
              "count    8349.000000\n",
              "mean        0.755664\n",
              "std         0.277365\n",
              "min        -0.386555\n",
              "25%         0.698925\n",
              "50%         0.875000\n",
              "75%         0.939024\n",
              "max         1.000000\n",
              "Name: Hatch Success Corrected, dtype: float64"
            ]
          },
          "execution_count": 20,
          "metadata": {},
          "output_type": "execute_result"
        }
      ],
      "source": [
        "cuis_merged['Hatch Success Corrected'] = (cuis_merged['Clutch Count'] - cuis_merged['Unhatched Eggs'])/cuis_merged['Clutch Count']\n",
        "cuis_merged['Hatch Success Corrected'].describe()"
      ]
    },
    {
      "cell_type": "code",
      "execution_count": null,
      "metadata": {
        "id": "03czitpryaKV",
        "outputId": "bf55a486-374f-4232-cdbf-398bacb4afda"
      },
      "outputs": [
        {
          "data": {
            "text/plain": [
              "count    8349.000000\n",
              "mean        0.730006\n",
              "std         0.289359\n",
              "min        -0.388889\n",
              "25%         0.646552\n",
              "50%         0.857143\n",
              "75%         0.929032\n",
              "max         1.000000\n",
              "Name: Emergence Success Corrected, dtype: float64"
            ]
          },
          "execution_count": 21,
          "metadata": {},
          "output_type": "execute_result"
        }
      ],
      "source": [
        "subtraction_var = cuis_merged['Unhatched Eggs'] + cuis_merged['Live Hatchlings'] + cuis_merged['Dead Hatchlings']\n",
        "cuis_merged['Emergence Success Corrected'] = (cuis_merged['Clutch Count'] - subtraction_var)/cuis_merged['Clutch Count']\n",
        "cuis_merged['Emergence Success Corrected'].describe()"
      ]
    },
    {
      "cell_type": "code",
      "execution_count": null,
      "metadata": {
        "id": "NinlZsOxyaKV",
        "outputId": "7033d0ad-6420-4300-8a9a-5021a106d7af"
      },
      "outputs": [
        {
          "data": {
            "text/plain": [
              "750"
            ]
          },
          "execution_count": 22,
          "metadata": {},
          "output_type": "execute_result"
        }
      ],
      "source": [
        "cuis_merged_clean = cuis_merged.drop(cuis_merged.loc[cuis_merged['Hatch Success Corrected'] < 0].index)\n",
        "cuis_merged_clean = cuis_merged.drop(cuis_merged.loc[cuis_merged['Emergence Success Corrected'] < 0].index)\n",
        "cuis_merged_clean['Emergence Success Corrected'].describe()\n",
        "len(cuis_merged_clean.loc[cuis_merged_clean['Final Status Unknown'] == 1.0])"
      ]
    },
    {
      "cell_type": "code",
      "execution_count": null,
      "metadata": {
        "id": "KM39AMm9yaKV",
        "outputId": "d2f1aeb2-5bfe-483e-989e-0cff7c887b84"
      },
      "outputs": [
        {
          "data": {
            "text/plain": [
              "[Text(0.5, 0, 'Relocation (Y/N)'),\n",
              " Text(0, 0.5, 'Emergence Success'),\n",
              " Text(0.5, 1.0, 'In situ vs. Relocated Nest Em. Success Rate')]"
            ]
          },
          "execution_count": 23,
          "metadata": {},
          "output_type": "execute_result"
        },
        {
          "data": {
            "image/png": "[encoded data removed]",
            "text/plain": [
              "<Figure size 640x480 with 1 Axes>"
            ]
          },
          "metadata": {},
          "output_type": "display_data"
        }
      ],
      "source": [
        "rel = cuis_merged_clean.loc[cuis['Relocation'] == 'relocated']['Emergence Success Corrected']\n",
        "ins = cuis_merged_clean.loc[cuis['Relocation'] == 'in situ']['Emergence Success Corrected']\n",
        "bxplt_array = [ins, rel]\n",
        "sns.boxplot(data = bxplt_array).set(xlabel = 'Relocation (Y/N)', ylabel = 'Emergence Success', title = \"In situ vs. Relocated Nest Em. Success Rate\")"
      ]
    },
    {
      "cell_type": "code",
      "execution_count": null,
      "metadata": {
        "id": "EblpR0eoyaKV",
        "outputId": "9ee3acd8-a00f-43fc-a708-898ae2990c90"
      },
      "outputs": [
        {
          "data": {
            "text/plain": [
              "Text(0.5, 1.0, 'Erosion vs. Em. Success Rate')"
            ]
          },
          "execution_count": 24,
          "metadata": {},
          "output_type": "execute_result"
        },
        {
          "data": {
            "image/png": "[encoded data removed]",
            "text/plain": [
              "<Figure size 640x480 with 1 Axes>"
            ]
          },
          "metadata": {},
          "output_type": "display_data"
        }
      ],
      "source": [
        "plt.scatter(cuis_merged_clean['VLMrate(cm/yr)'], cuis_merged_clean['Emergence Success Corrected'], alpha = 0.1, color = 'gray')\n",
        "plt.xlabel('Vertical Land Movement Rate (cm/yr)')\n",
        "plt.ylabel('Emergence Success')\n",
        "plt.title('Erosion vs. Em. Success Rate')"
      ]
    },
    {
      "cell_type": "code",
      "execution_count": null,
      "metadata": {
        "id": "0RNP9TECyaKV",
        "outputId": "3d90da77-b3eb-486c-9097-545f6200a7c5"
      },
      "outputs": [
        {
          "data": {
            "text/plain": [
              "Text(0.5, 1.0, 'Temperature vs. Em. Success Rate')"
            ]
          },
          "execution_count": 25,
          "metadata": {},
          "output_type": "execute_result"
        },
        {
          "data": {
            "image/png": "[encoded data removed]",
            "text/plain": [
              "<Figure size 640x480 with 1 Axes>"
            ]
          },
          "metadata": {},
          "output_type": "display_data"
        }
      ],
      "source": [
        "plt.scatter(cuis_merged_clean['Monthly_Night_TAVG'], cuis_merged_clean['Emergence Success Corrected'], alpha = 0.2, color = 'pink')\n",
        "plt.xlabel('Monthly Nighttime Average Temperature (C)')\n",
        "plt.ylabel('Emergence Success')\n",
        "plt.title('Temperature vs. Em. Success Rate')"
      ]
    },
    {
      "cell_type": "code",
      "execution_count": null,
      "metadata": {
        "id": "dKc04Xt9yaKV",
        "outputId": "80c75cb6-7f97-4f9d-ec76-485c3dbfd953"
      },
      "outputs": [
        {
          "data": {
            "text/html": [
              "<div>\n",
              "<style scoped>\n",
              "    .dataframe tbody tr th:only-of-type {\n",
              "        vertical-align: middle;\n",
              "    }\n",
              "\n",
              "    .dataframe tbody tr th {\n",
              "        vertical-align: top;\n",
              "    }\n",
              "\n",
              "    .dataframe thead th {\n",
              "        text-align: right;\n",
              "    }\n",
              "</style>\n",
              "<table border=\"1\" class=\"dataframe\">\n",
              "  <thead>\n",
              "    <tr style=\"text-align: right;\">\n",
              "      <th></th>\n",
              "      <th>UID</th>\n",
              "      <th>Beach</th>\n",
              "      <th>County</th>\n",
              "      <th>Activity #</th>\n",
              "      <th>Activity</th>\n",
              "      <th>Nest #</th>\n",
              "      <th>Ref #</th>\n",
              "      <th>Activity Date</th>\n",
              "      <th>Year</th>\n",
              "      <th>Month</th>\n",
              "      <th>Week</th>\n",
              "      <th>Dayofyear</th>\n",
              "      <th>JulianDate</th>\n",
              "      <th>Latitude</th>\n",
              "      <th>Longitude</th>\n",
              "      <th>Relocation</th>\n",
              "      <th>Relocation Latitude</th>\n",
              "      <th>Relocation Longitude</th>\n",
              "      <th>Relocation Location</th>\n",
              "      <th>Washovers</th>\n",
              "      <th>Loss Reports</th>\n",
              "      <th>Prerelocations</th>\n",
              "      <th>Total Lost Eggs</th>\n",
              "      <th>Total Lost Hatchlings</th>\n",
              "      <th>Lost Nest</th>\n",
              "      <th>Emerge Date</th>\n",
              "      <th>Inventory Date</th>\n",
              "      <th>Incubation (days)</th>\n",
              "      <th>Clutch Count</th>\n",
              "      <th>Shells&gt;50%</th>\n",
              "      <th>Unhatched Eggs</th>\n",
              "      <th>Dead Hatchlings</th>\n",
              "      <th>Live Hatchlings</th>\n",
              "      <th>Misoriented Hatchlings</th>\n",
              "      <th>Final Status Unknown</th>\n",
              "      <th>Exclude From Calc</th>\n",
              "      <th>Hatch Success</th>\n",
              "      <th>Emergence Success</th>\n",
              "      <th>Emerge_month</th>\n",
              "      <th>est_incub_(days)</th>\n",
              "      <th>Emerge_Lat</th>\n",
              "      <th>Emerge_Lon</th>\n",
              "      <th>Monthly_Night_TAVG</th>\n",
              "      <th>DATE</th>\n",
              "      <th>NIGHT_TAVG</th>\n",
              "      <th>vlm lat</th>\n",
              "      <th>vlm lon</th>\n",
              "      <th>Latitude(deg)</th>\n",
              "      <th>Longitude(deg)</th>\n",
              "      <th>VLMrate(cm/yr)</th>\n",
              "      <th>VLMerror(cm/yr)</th>\n",
              "      <th>Hatch Success Corrected</th>\n",
              "      <th>Emergence Success Corrected</th>\n",
              "    </tr>\n",
              "  </thead>\n",
              "  <tbody>\n",
              "    <tr>\n",
              "      <th>0</th>\n",
              "      <td>99003</td>\n",
              "      <td>Cumberland</td>\n",
              "      <td>Camden</td>\n",
              "      <td>1</td>\n",
              "      <td>N</td>\n",
              "      <td>1</td>\n",
              "      <td>NaN</td>\n",
              "      <td>2008-05-09</td>\n",
              "      <td>2008</td>\n",
              "      <td>5</td>\n",
              "      <td>18.0</td>\n",
              "      <td>130.0</td>\n",
              "      <td>2454595.5</td>\n",
              "      <td>30.81768</td>\n",
              "      <td>-81.44213</td>\n",
              "      <td>in situ</td>\n",
              "      <td>NaN</td>\n",
              "      <td>NaN</td>\n",
              "      <td>NaN</td>\n",
              "      <td>0.0</td>\n",
              "      <td>0</td>\n",
              "      <td>0</td>\n",
              "      <td>NaN</td>\n",
              "      <td>NaN</td>\n",
              "      <td>NaN</td>\n",
              "      <td>2008-07-15</td>\n",
              "      <td>NaN</td>\n",
              "      <td>67.0</td>\n",
              "      <td>123.0</td>\n",
              "      <td>89.0</td>\n",
              "      <td>34.0</td>\n",
              "      <td>1.0</td>\n",
              "      <td>0.0</td>\n",
              "      <td>NaN</td>\n",
              "      <td>NaN</td>\n",
              "      <td>NaN</td>\n",
              "      <td>72.3577</td>\n",
              "      <td>71.5447</td>\n",
              "      <td>7.0</td>\n",
              "      <td>2008-07-06</td>\n",
              "      <td>30.81768</td>\n",
              "      <td>-81.44213</td>\n",
              "      <td>19.758</td>\n",
              "      <td>2008-07-06</td>\n",
              "      <td>75.2</td>\n",
              "      <td>30.817591</td>\n",
              "      <td>-81.445</td>\n",
              "      <td>30.817591</td>\n",
              "      <td>-81.445</td>\n",
              "      <td>0.029</td>\n",
              "      <td>0.093</td>\n",
              "      <td>0.723577</td>\n",
              "      <td>0.715447</td>\n",
              "    </tr>\n",
              "    <tr>\n",
              "      <th>1</th>\n",
              "      <td>99965</td>\n",
              "      <td>Cumberland</td>\n",
              "      <td>Camden</td>\n",
              "      <td>148</td>\n",
              "      <td>N</td>\n",
              "      <td>84</td>\n",
              "      <td>NaN</td>\n",
              "      <td>2008-06-09</td>\n",
              "      <td>2008</td>\n",
              "      <td>6</td>\n",
              "      <td>23.0</td>\n",
              "      <td>161.0</td>\n",
              "      <td>2454626.5</td>\n",
              "      <td>30.81803</td>\n",
              "      <td>-81.44197</td>\n",
              "      <td>in situ</td>\n",
              "      <td>NaN</td>\n",
              "      <td>NaN</td>\n",
              "      <td>NaN</td>\n",
              "      <td>0.0</td>\n",
              "      <td>0</td>\n",
              "      <td>0</td>\n",
              "      <td>NaN</td>\n",
              "      <td>NaN</td>\n",
              "      <td>NaN</td>\n",
              "      <td>2008-08-11</td>\n",
              "      <td>NaN</td>\n",
              "      <td>63.0</td>\n",
              "      <td>150.0</td>\n",
              "      <td>127.0</td>\n",
              "      <td>23.0</td>\n",
              "      <td>1.0</td>\n",
              "      <td>0.0</td>\n",
              "      <td>NaN</td>\n",
              "      <td>NaN</td>\n",
              "      <td>NaN</td>\n",
              "      <td>84.6667</td>\n",
              "      <td>84.0000</td>\n",
              "      <td>8.0</td>\n",
              "      <td>2008-08-06</td>\n",
              "      <td>30.81803</td>\n",
              "      <td>-81.44197</td>\n",
              "      <td>23.578</td>\n",
              "      <td>2008-08-06</td>\n",
              "      <td>81.2</td>\n",
              "      <td>30.817591</td>\n",
              "      <td>-81.445</td>\n",
              "      <td>30.817591</td>\n",
              "      <td>-81.445</td>\n",
              "      <td>0.029</td>\n",
              "      <td>0.093</td>\n",
              "      <td>0.846667</td>\n",
              "      <td>0.840000</td>\n",
              "    </tr>\n",
              "    <tr>\n",
              "      <th>2</th>\n",
              "      <td>100546</td>\n",
              "      <td>Cumberland</td>\n",
              "      <td>Camden</td>\n",
              "      <td>225</td>\n",
              "      <td>N</td>\n",
              "      <td>133</td>\n",
              "      <td>NaN</td>\n",
              "      <td>2008-06-19</td>\n",
              "      <td>2008</td>\n",
              "      <td>6</td>\n",
              "      <td>24.0</td>\n",
              "      <td>171.0</td>\n",
              "      <td>2454636.5</td>\n",
              "      <td>30.81868</td>\n",
              "      <td>-81.44142</td>\n",
              "      <td>in situ</td>\n",
              "      <td>NaN</td>\n",
              "      <td>NaN</td>\n",
              "      <td>NaN</td>\n",
              "      <td>2.0</td>\n",
              "      <td>0</td>\n",
              "      <td>0</td>\n",
              "      <td>NaN</td>\n",
              "      <td>NaN</td>\n",
              "      <td>NaN</td>\n",
              "      <td>NaN</td>\n",
              "      <td>NaN</td>\n",
              "      <td>NaN</td>\n",
              "      <td>93.0</td>\n",
              "      <td>0.0</td>\n",
              "      <td>93.0</td>\n",
              "      <td>0.0</td>\n",
              "      <td>0.0</td>\n",
              "      <td>NaN</td>\n",
              "      <td>NaN</td>\n",
              "      <td>NaN</td>\n",
              "      <td>0.0000</td>\n",
              "      <td>0.0000</td>\n",
              "      <td>NaN</td>\n",
              "      <td>2008-08-16</td>\n",
              "      <td>30.81868</td>\n",
              "      <td>-81.44142</td>\n",
              "      <td>23.578</td>\n",
              "      <td>2008-08-16</td>\n",
              "      <td>76.4</td>\n",
              "      <td>30.817591</td>\n",
              "      <td>-81.445</td>\n",
              "      <td>30.817591</td>\n",
              "      <td>-81.445</td>\n",
              "      <td>0.029</td>\n",
              "      <td>0.093</td>\n",
              "      <td>0.000000</td>\n",
              "      <td>0.000000</td>\n",
              "    </tr>\n",
              "    <tr>\n",
              "      <th>3</th>\n",
              "      <td>101127</td>\n",
              "      <td>Cumberland</td>\n",
              "      <td>Camden</td>\n",
              "      <td>327</td>\n",
              "      <td>N</td>\n",
              "      <td>190</td>\n",
              "      <td>NaN</td>\n",
              "      <td>2008-06-28</td>\n",
              "      <td>2008</td>\n",
              "      <td>6</td>\n",
              "      <td>25.0</td>\n",
              "      <td>180.0</td>\n",
              "      <td>2454645.5</td>\n",
              "      <td>30.81895</td>\n",
              "      <td>-81.44138</td>\n",
              "      <td>in situ</td>\n",
              "      <td>NaN</td>\n",
              "      <td>NaN</td>\n",
              "      <td>NaN</td>\n",
              "      <td>1.0</td>\n",
              "      <td>0</td>\n",
              "      <td>0</td>\n",
              "      <td>NaN</td>\n",
              "      <td>NaN</td>\n",
              "      <td>NaN</td>\n",
              "      <td>NaN</td>\n",
              "      <td>NaN</td>\n",
              "      <td>NaN</td>\n",
              "      <td>124.0</td>\n",
              "      <td>0.0</td>\n",
              "      <td>124.0</td>\n",
              "      <td>0.0</td>\n",
              "      <td>0.0</td>\n",
              "      <td>NaN</td>\n",
              "      <td>NaN</td>\n",
              "      <td>NaN</td>\n",
              "      <td>0.0000</td>\n",
              "      <td>0.0000</td>\n",
              "      <td>NaN</td>\n",
              "      <td>2008-08-25</td>\n",
              "      <td>30.81895</td>\n",
              "      <td>-81.44138</td>\n",
              "      <td>23.578</td>\n",
              "      <td>2008-08-25</td>\n",
              "      <td>73.8</td>\n",
              "      <td>30.817591</td>\n",
              "      <td>-81.445</td>\n",
              "      <td>30.817591</td>\n",
              "      <td>-81.445</td>\n",
              "      <td>0.029</td>\n",
              "      <td>0.093</td>\n",
              "      <td>0.000000</td>\n",
              "      <td>0.000000</td>\n",
              "    </tr>\n",
              "    <tr>\n",
              "      <th>4</th>\n",
              "      <td>427</td>\n",
              "      <td>Cumberland</td>\n",
              "      <td>Camden</td>\n",
              "      <td>5</td>\n",
              "      <td>N</td>\n",
              "      <td>5</td>\n",
              "      <td>NaN</td>\n",
              "      <td>2009-05-14</td>\n",
              "      <td>2009</td>\n",
              "      <td>5</td>\n",
              "      <td>19.0</td>\n",
              "      <td>134.0</td>\n",
              "      <td>2454965.5</td>\n",
              "      <td>30.81910</td>\n",
              "      <td>-81.44110</td>\n",
              "      <td>relocated</td>\n",
              "      <td>30.8192</td>\n",
              "      <td>-81.4413</td>\n",
              "      <td>NaN</td>\n",
              "      <td>0.0</td>\n",
              "      <td>2</td>\n",
              "      <td>0</td>\n",
              "      <td>1.0</td>\n",
              "      <td>1.0</td>\n",
              "      <td>NaN</td>\n",
              "      <td>2009-07-21</td>\n",
              "      <td>7/29/09</td>\n",
              "      <td>68.0</td>\n",
              "      <td>120.0</td>\n",
              "      <td>73.0</td>\n",
              "      <td>41.0</td>\n",
              "      <td>1.0</td>\n",
              "      <td>0.0</td>\n",
              "      <td>NaN</td>\n",
              "      <td>NaN</td>\n",
              "      <td>NaN</td>\n",
              "      <td>60.8333</td>\n",
              "      <td>60.0000</td>\n",
              "      <td>7.0</td>\n",
              "      <td>2009-07-11</td>\n",
              "      <td>30.81920</td>\n",
              "      <td>-81.44130</td>\n",
              "      <td>20.992</td>\n",
              "      <td>2009-07-11</td>\n",
              "      <td>76.4</td>\n",
              "      <td>30.817591</td>\n",
              "      <td>-81.445</td>\n",
              "      <td>30.817591</td>\n",
              "      <td>-81.445</td>\n",
              "      <td>0.029</td>\n",
              "      <td>0.093</td>\n",
              "      <td>0.658333</td>\n",
              "      <td>0.650000</td>\n",
              "    </tr>\n",
              "  </tbody>\n",
              "</table>\n",
              "</div>"
            ],
            "text/plain": [
              "      UID       Beach  County  Activity # Activity  Nest # Ref #  \\\n",
              "0   99003  Cumberland  Camden           1        N       1   NaN   \n",
              "1   99965  Cumberland  Camden         148        N      84   NaN   \n",
              "2  100546  Cumberland  Camden         225        N     133   NaN   \n",
              "3  101127  Cumberland  Camden         327        N     190   NaN   \n",
              "4     427  Cumberland  Camden           5        N       5   NaN   \n",
              "\n",
              "  Activity Date  Year  Month  Week  Dayofyear  JulianDate  Latitude  \\\n",
              "0    2008-05-09  2008      5  18.0      130.0   2454595.5  30.81768   \n",
              "1    2008-06-09  2008      6  23.0      161.0   2454626.5  30.81803   \n",
              "2    2008-06-19  2008      6  24.0      171.0   2454636.5  30.81868   \n",
              "3    2008-06-28  2008      6  25.0      180.0   2454645.5  30.81895   \n",
              "4    2009-05-14  2009      5  19.0      134.0   2454965.5  30.81910   \n",
              "\n",
              "   Longitude Relocation  Relocation Latitude  Relocation Longitude  \\\n",
              "0  -81.44213    in situ                  NaN                   NaN   \n",
              "1  -81.44197    in situ                  NaN                   NaN   \n",
              "2  -81.44142    in situ                  NaN                   NaN   \n",
              "3  -81.44138    in situ                  NaN                   NaN   \n",
              "4  -81.44110  relocated              30.8192              -81.4413   \n",
              "\n",
              "  Relocation Location  Washovers  Loss Reports  Prerelocations  \\\n",
              "0                 NaN        0.0             0               0   \n",
              "1                 NaN        0.0             0               0   \n",
              "2                 NaN        2.0             0               0   \n",
              "3                 NaN        1.0             0               0   \n",
              "4                 NaN        0.0             2               0   \n",
              "\n",
              "   Total Lost Eggs  Total Lost Hatchlings  Lost Nest Emerge Date  \\\n",
              "0              NaN                    NaN        NaN  2008-07-15   \n",
              "1              NaN                    NaN        NaN  2008-08-11   \n",
              "2              NaN                    NaN        NaN         NaN   \n",
              "3              NaN                    NaN        NaN         NaN   \n",
              "4              1.0                    1.0        NaN  2009-07-21   \n",
              "\n",
              "  Inventory Date  Incubation (days)  Clutch Count  Shells>50%  Unhatched Eggs  \\\n",
              "0            NaN               67.0         123.0        89.0            34.0   \n",
              "1            NaN               63.0         150.0       127.0            23.0   \n",
              "2            NaN                NaN          93.0         0.0            93.0   \n",
              "3            NaN                NaN         124.0         0.0           124.0   \n",
              "4        7/29/09               68.0         120.0        73.0            41.0   \n",
              "\n",
              "   Dead Hatchlings  Live Hatchlings  Misoriented Hatchlings  \\\n",
              "0              1.0              0.0                     NaN   \n",
              "1              1.0              0.0                     NaN   \n",
              "2              0.0              0.0                     NaN   \n",
              "3              0.0              0.0                     NaN   \n",
              "4              1.0              0.0                     NaN   \n",
              "\n",
              "   Final Status Unknown  Exclude From Calc  Hatch Success  Emergence Success  \\\n",
              "0                   NaN                NaN        72.3577            71.5447   \n",
              "1                   NaN                NaN        84.6667            84.0000   \n",
              "2                   NaN                NaN         0.0000             0.0000   \n",
              "3                   NaN                NaN         0.0000             0.0000   \n",
              "4                   NaN                NaN        60.8333            60.0000   \n",
              "\n",
              "   Emerge_month est_incub_(days)  Emerge_Lat  Emerge_Lon  Monthly_Night_TAVG  \\\n",
              "0           7.0       2008-07-06    30.81768   -81.44213              19.758   \n",
              "1           8.0       2008-08-06    30.81803   -81.44197              23.578   \n",
              "2           NaN       2008-08-16    30.81868   -81.44142              23.578   \n",
              "3           NaN       2008-08-25    30.81895   -81.44138              23.578   \n",
              "4           7.0       2009-07-11    30.81920   -81.44130              20.992   \n",
              "\n",
              "         DATE  NIGHT_TAVG    vlm lat  vlm lon  Latitude(deg)  Longitude(deg)  \\\n",
              "0  2008-07-06        75.2  30.817591  -81.445      30.817591         -81.445   \n",
              "1  2008-08-06        81.2  30.817591  -81.445      30.817591         -81.445   \n",
              "2  2008-08-16        76.4  30.817591  -81.445      30.817591         -81.445   \n",
              "3  2008-08-25        73.8  30.817591  -81.445      30.817591         -81.445   \n",
              "4  2009-07-11        76.4  30.817591  -81.445      30.817591         -81.445   \n",
              "\n",
              "   VLMrate(cm/yr)  VLMerror(cm/yr)  Hatch Success Corrected  \\\n",
              "0           0.029            0.093                 0.723577   \n",
              "1           0.029            0.093                 0.846667   \n",
              "2           0.029            0.093                 0.000000   \n",
              "3           0.029            0.093                 0.000000   \n",
              "4           0.029            0.093                 0.658333   \n",
              "\n",
              "   Emergence Success Corrected  \n",
              "0                     0.715447  \n",
              "1                     0.840000  \n",
              "2                     0.000000  \n",
              "3                     0.000000  \n",
              "4                     0.650000  "
            ]
          },
          "execution_count": 26,
          "metadata": {},
          "output_type": "execute_result"
        }
      ],
      "source": [
        "cuis_merged_clean.head()"
      ]
    },
    {
      "cell_type": "code",
      "execution_count": null,
      "metadata": {
        "scrolled": false,
        "id": "kiaO3RY9yaKV",
        "outputId": "835ec34f-b35e-4154-d5d1-fe928cbeb26a"
      },
      "outputs": [
        {
          "data": {
            "text/plain": [
              "Text(0.5, 1.0, 'Washovers vs. VLM')"
            ]
          },
          "execution_count": 27,
          "metadata": {},
          "output_type": "execute_result"
        },
        {
          "data": {
            "image/png": "[encoded data removed]",
            "text/plain": [
              "<Figure size 640x480 with 1 Axes>"
            ]
          },
          "metadata": {},
          "output_type": "display_data"
        }
      ],
      "source": [
        "plt.scatter(cuis_merged_clean.Washovers, cuis_merged_clean['VLMrate(cm/yr)'], c='brown', alpha = 0.2)\n",
        "plt.xlabel('Number of Washovers')\n",
        "plt.ylabel('Vertical Land Movement (cm/yr)')\n",
        "plt.title('Washovers vs. VLM')"
      ]
    },
    {
      "cell_type": "code",
      "execution_count": null,
      "metadata": {
        "id": "eL59F5kqyaKV",
        "outputId": "3cc5fac7-b909-445a-a5f4-0320b1684dfa"
      },
      "outputs": [
        {
          "data": {
            "text/plain": [
              "Text(0.5, 0, 'Months')"
            ]
          },
          "execution_count": 28,
          "metadata": {},
          "output_type": "execute_result"
        },
        {
          "data": {
            "image/png": "[encoded data removed]",
            "text/plain": [
              "<Figure size 640x480 with 1 Axes>"
            ]
          },
          "metadata": {},
          "output_type": "display_data"
        }
      ],
      "source": [
        "plt.hist(cuis_merged_clean['Month'])\n",
        "plt.title(\"Frequency of Nests per month, 2008-2023\")\n",
        "plt.xlabel('Months')"
      ]
    },
    {
      "cell_type": "markdown",
      "metadata": {
        "id": "xUvF_8QPyaKV"
      },
      "source": [
        "## Forecasting and Prediction Modeling (25 points)\n",
        "\n",
        "This section is where the rubber meets the road.  In it you must:\n",
        "1. Explore at least 3 prediction modeling approaches for each prediction question, ranging from the simple (e.g. linear regression, KNN) to the complex (e.g. SVM, random forests, Lasso).  \n",
        "2. Motivate all your modeling decisions.  This includes parameter choices (e.g., how many folds in k-fold cross validation, what time window you use for averaging your data) as well as model form (e.g., If you use regression trees, why?  If you include nonlinear features in a regression model, why?).\n",
        "1. Carefully describe your cross validation and model selection process.  You should partition your data into training and testing data sets.  The training data set is what you use for cross-validation (i.e. you sample from within it to create folds, etc.).  The testing data set is held to the very end of your efforts, and used to compare qualitatively different models (e.g. OLS vs random forests).\n",
        "4. Very carefully document your workflow.  We will be reading a lot of projects, so we need you to explain each basic step in your analysis.  \n",
        "5. Seek opportunities to write functions allow you to avoid doing things over and over, and that make your code more succinct and readable."
      ]
    },
    {
      "cell_type": "markdown",
      "metadata": {
        "id": "TUeReE10yaKV"
      },
      "source": [
        "We convert the categorical \"Relocation\" variable into a numeric (0/1) variable in order to include it in our regression."
      ]
    },
    {
      "cell_type": "code",
      "execution_count": null,
      "metadata": {
        "id": "MqerHXHuyaKV"
      },
      "outputs": [],
      "source": [
        "cuis_merged_clean['Relocation'] = cuis_merged_clean.Relocation.eq('relocated').mul(1)"
      ]
    },
    {
      "cell_type": "markdown",
      "metadata": {
        "id": "s0sioV7dyaKV"
      },
      "source": [
        "Here, we split our data into the testing and training datasets that will be used to train and validate our model, and to predict on."
      ]
    },
    {
      "cell_type": "code",
      "execution_count": null,
      "metadata": {
        "id": "oSr3AaUJyaKV",
        "outputId": "3018d140-915c-4d51-8d54-cab9745689b7"
      },
      "outputs": [
        {
          "data": {
            "text/plain": [
              "8325"
            ]
          },
          "execution_count": 30,
          "metadata": {},
          "output_type": "execute_result"
        }
      ],
      "source": [
        "cuis_merged_clean_training = cuis_merged_clean.drop(cuis_merged_clean.loc[cuis_merged_clean['Final Status Unknown'] == 1.0].index)\n",
        "\n",
        "cuis_merged_clean_test = cuis_merged_clean.loc[cuis_merged_clean['Final Status Unknown'] == 1.0]\n",
        "\n",
        "X_to_predict = cuis_merged_clean_test[['Year', 'Month', 'Emerge_Lat', 'Emerge_Lon', 'VLMrate(cm/yr)', 'Monthly_Night_TAVG', 'NIGHT_TAVG', 'Relocation']]\n",
        "\n",
        "cuis_merged_clean_training = cuis_merged_clean_training.drop(cuis_merged_clean_training.loc[np.isnan(cuis_merged_clean_training['Hatch Success Corrected']) == True].index)\n",
        "len(cuis_merged_clean_training)"
      ]
    },
    {
      "cell_type": "markdown",
      "metadata": {
        "id": "tHAoSHRayaKW"
      },
      "source": [
        "### Regression"
      ]
    },
    {
      "cell_type": "markdown",
      "metadata": {
        "id": "vfj7BSPOyaKW"
      },
      "source": [
        "Here we are selecting the relevant features to include in our modeling of Hatch Success (corrected)."
      ]
    },
    {
      "cell_type": "code",
      "execution_count": null,
      "metadata": {
        "id": "cdhLvOOQyaKW"
      },
      "outputs": [],
      "source": [
        "X = cuis_merged_clean_training[['Year', 'Month', 'Emerge_Lat', 'Emerge_Lon', 'VLMrate(cm/yr)', 'Monthly_Night_TAVG', 'NIGHT_TAVG', 'Relocation']] #specify the features\n",
        "y = cuis_merged_clean_training['Hatch Success Corrected'] #specify the target variable"
      ]
    },
    {
      "cell_type": "markdown",
      "metadata": {
        "id": "f9nc6jVpyaKW"
      },
      "source": [
        "Here we use k-fold cross validation with 10 folds. We decided on 10 folds as we have over 8000 observations to train our data on, so splitting the data 10 times will lead to large sample sizes each time without being too computationally intensive. We wrote a function to perform this validation so the code is more readable."
      ]
    },
    {
      "cell_type": "code",
      "execution_count": null,
      "metadata": {
        "id": "qAYpJMJcyaKW"
      },
      "outputs": [],
      "source": [
        "from sklearn.model_selection import KFold\n",
        "from sklearn import linear_model\n",
        "from sklearn.linear_model import LinearRegression\n",
        "from sklearn.metrics import r2_score, mean_squared_error\n",
        "from sklearn.linear_model import Ridge\n",
        "from sklearn.linear_model import Lasso\n",
        "\n",
        "def kfold_crossval_model(SKL_model, X, y, alpha, n_folds):\n",
        "    \"\"\"\n",
        "    Objective: This function will perform k-fold cross validation and calculate MSE for each fold, using multiple models.\n",
        "\n",
        "    Outputs: array of RMSE values across folds and mean RMSE value from all folds\n",
        "    \"\"\"\n",
        "\n",
        "    # YOUR CODE HERE\n",
        "\n",
        "    # Initialize the model, differentiating between models that require and do not require the alpha parameter\n",
        "    if SKL_model == LinearRegression:\n",
        "        model = SKL_model()\n",
        "    else:\n",
        "        model = SKL_model(alpha = alpha)\n",
        "\n",
        "    # Fit the model on the training data and get the mean squared error on the test data\n",
        "    kf = KFold(n_splits = n_folds, shuffle = True, random_state = 10)\n",
        "\n",
        "    fold_rmse = [] # initiate a list to hold the MSE associated with each fold\n",
        "\n",
        "    for t_index, v_index in kf.split(X):\n",
        "        # Subset X and y into training and validation subsets\n",
        "        X_fold_train = X.iloc[t_index]\n",
        "        y_fold_train = y.iloc[t_index]\n",
        "        X_fold_val = X.iloc[v_index]\n",
        "        y_fold_val = y.iloc[v_index]\n",
        "\n",
        "        # Initiate and fit a linear regression model using the training data\n",
        "        model.fit(X_fold_train, y_fold_train)\n",
        "\n",
        "        # Predict the Y-values associated with the validation data\n",
        "        y_pred = model.predict(X_fold_val)\n",
        "\n",
        "        # Find the testing MSE and append it to fold_mse\n",
        "        fold_rmse.append(np.sqrt(mean_squared_error(y_fold_val, y_pred)))\n",
        "        mean_rmse = np.mean(fold_rmse)\n",
        "\n",
        "    return fold_rmse, mean_rmse"
      ]
    },
    {
      "cell_type": "code",
      "execution_count": null,
      "metadata": {
        "id": "R7qRIhi3yaKW",
        "outputId": "d6441884-eab3-4a0a-f4c0-7583320e7c43"
      },
      "outputs": [
        {
          "data": {
            "text/plain": [
              "([0.27751384347077745,\n",
              "  0.28551730828910354,\n",
              "  0.27371478016256273,\n",
              "  0.28357777874371415,\n",
              "  0.2685591600175452,\n",
              "  0.2687402384460932,\n",
              "  0.2636598526948538,\n",
              "  0.274293035431503,\n",
              "  0.27121774938774657,\n",
              "  0.2752282261647822],\n",
              " 0.2742021972808682)"
            ]
          },
          "execution_count": 35,
          "metadata": {},
          "output_type": "execute_result"
        }
      ],
      "source": [
        "kfold_crossval_model(LinearRegression, X, y, alpha = 0.5, n_folds = 10)"
      ]
    },
    {
      "cell_type": "code",
      "execution_count": null,
      "metadata": {
        "id": "6wpKLJ4ByaKW",
        "outputId": "a07f4415-229e-4605-c7cb-388d46b5293d"
      },
      "outputs": [
        {
          "name": "stdout",
          "output_type": "stream",
          "text": [
            "[-0.00277961 -0.03747007 -0.22496665  0.41005262 -0.10478683  0.00405657\n",
            " -0.00231884  0.05307021]\n"
          ]
        }
      ],
      "source": [
        "lm_hatch = LinearRegression()\n",
        "lm_hatch.fit(X, y)\n",
        "\n",
        "print(lm_hatch.coef_)"
      ]
    },
    {
      "cell_type": "code",
      "execution_count": null,
      "metadata": {
        "id": "2zFy94EOyaKW",
        "outputId": "65f5fee0-717b-4637-9386-b7ae47060333"
      },
      "outputs": [
        {
          "data": {
            "text/html": [
              "<div>\n",
              "<style scoped>\n",
              "    .dataframe tbody tr th:only-of-type {\n",
              "        vertical-align: middle;\n",
              "    }\n",
              "\n",
              "    .dataframe tbody tr th {\n",
              "        vertical-align: top;\n",
              "    }\n",
              "\n",
              "    .dataframe thead th {\n",
              "        text-align: right;\n",
              "    }\n",
              "</style>\n",
              "<table border=\"1\" class=\"dataframe\">\n",
              "  <thead>\n",
              "    <tr style=\"text-align: right;\">\n",
              "      <th></th>\n",
              "      <th>0</th>\n",
              "    </tr>\n",
              "  </thead>\n",
              "  <tbody>\n",
              "    <tr>\n",
              "      <th>count</th>\n",
              "      <td>750.000000</td>\n",
              "    </tr>\n",
              "    <tr>\n",
              "      <th>mean</th>\n",
              "      <td>0.730837</td>\n",
              "    </tr>\n",
              "    <tr>\n",
              "      <th>std</th>\n",
              "      <td>0.028735</td>\n",
              "    </tr>\n",
              "    <tr>\n",
              "      <th>min</th>\n",
              "      <td>0.649024</td>\n",
              "    </tr>\n",
              "    <tr>\n",
              "      <th>25%</th>\n",
              "      <td>0.709826</td>\n",
              "    </tr>\n",
              "    <tr>\n",
              "      <th>50%</th>\n",
              "      <td>0.728657</td>\n",
              "    </tr>\n",
              "    <tr>\n",
              "      <th>75%</th>\n",
              "      <td>0.749667</td>\n",
              "    </tr>\n",
              "    <tr>\n",
              "      <th>max</th>\n",
              "      <td>0.817179</td>\n",
              "    </tr>\n",
              "  </tbody>\n",
              "</table>\n",
              "</div>"
            ],
            "text/plain": [
              "                0\n",
              "count  750.000000\n",
              "mean     0.730837\n",
              "std      0.028735\n",
              "min      0.649024\n",
              "25%      0.709826\n",
              "50%      0.728657\n",
              "75%      0.749667\n",
              "max      0.817179"
            ]
          },
          "execution_count": 37,
          "metadata": {},
          "output_type": "execute_result"
        }
      ],
      "source": [
        "lm_hatch_ypred = pd.DataFrame(lm_hatch.predict(X_to_predict))\n",
        "lm_hatch_ypred.describe()"
      ]
    },
    {
      "cell_type": "markdown",
      "metadata": {
        "id": "QqiZY49gyaKW"
      },
      "source": [
        "Here we run the same regression, but using the Ridge model. We chose an alpha value of 0.5 to penalize added variables that do not provide information without overly penalizing added features. We determined this by manually changing the alpha parameter and observing the MSE results from k-fold cross validation."
      ]
    },
    {
      "cell_type": "code",
      "execution_count": null,
      "metadata": {
        "scrolled": true,
        "id": "H71ElkHtyaKW",
        "outputId": "f0f14d24-17b8-40b6-f9e7-00c9275b675e"
      },
      "outputs": [
        {
          "data": {
            "text/plain": [
              "([0.2775251028052225,\n",
              "  0.28549920081369046,\n",
              "  0.27370112426048676,\n",
              "  0.2835499421610755,\n",
              "  0.2682378809321699,\n",
              "  0.26871143512996426,\n",
              "  0.2637002049548184,\n",
              "  0.274330934434998,\n",
              "  0.2711212972877436,\n",
              "  0.2751977093332388],\n",
              " 0.2741574832113408)"
            ]
          },
          "execution_count": 38,
          "metadata": {},
          "output_type": "execute_result"
        }
      ],
      "source": [
        "kfold_crossval_model(Ridge, X, y, alpha = 0.5, n_folds = 10)"
      ]
    },
    {
      "cell_type": "markdown",
      "metadata": {
        "id": "risVjKeYyaKW"
      },
      "source": [
        "The MSE's were not very high, and I doubt we could lower them without incorporating better features, so we will train the model on our entire training set. Here we output the values of the coefficients in the model."
      ]
    },
    {
      "cell_type": "code",
      "execution_count": null,
      "metadata": {
        "id": "3YYnVOQpyaKW",
        "outputId": "ca9044cf-c793-4ce6-ae3e-74c1004e95e9"
      },
      "outputs": [
        {
          "name": "stdout",
          "output_type": "stream",
          "text": [
            "[-0.00278971 -0.03744058 -0.12373518  0.10020934 -0.09790349  0.00405168\n",
            " -0.00231999  0.05292977]\n"
          ]
        }
      ],
      "source": [
        "ridge_hatch = Ridge(alpha = 0.5)\n",
        "ridge_hatch.fit(X, y)\n",
        "\n",
        "print(ridge_hatch.coef_)"
      ]
    },
    {
      "cell_type": "markdown",
      "metadata": {
        "id": "TjgVotNhyaKW"
      },
      "source": [
        "Now we will use the fitted model from the cell above to predict Hatch Success Rate for the nests where this data was unable to be collected."
      ]
    },
    {
      "cell_type": "code",
      "execution_count": null,
      "metadata": {
        "scrolled": false,
        "id": "BIfJxvdPyaKW",
        "outputId": "6f0fce9d-aaf3-40c2-9ca4-7c60e9bcadfd"
      },
      "outputs": [
        {
          "data": {
            "text/html": [
              "<div>\n",
              "<style scoped>\n",
              "    .dataframe tbody tr th:only-of-type {\n",
              "        vertical-align: middle;\n",
              "    }\n",
              "\n",
              "    .dataframe tbody tr th {\n",
              "        vertical-align: top;\n",
              "    }\n",
              "\n",
              "    .dataframe thead th {\n",
              "        text-align: right;\n",
              "    }\n",
              "</style>\n",
              "<table border=\"1\" class=\"dataframe\">\n",
              "  <thead>\n",
              "    <tr style=\"text-align: right;\">\n",
              "      <th></th>\n",
              "      <th>0</th>\n",
              "    </tr>\n",
              "  </thead>\n",
              "  <tbody>\n",
              "    <tr>\n",
              "      <th>count</th>\n",
              "      <td>750.000000</td>\n",
              "    </tr>\n",
              "    <tr>\n",
              "      <th>mean</th>\n",
              "      <td>0.730827</td>\n",
              "    </tr>\n",
              "    <tr>\n",
              "      <th>std</th>\n",
              "      <td>0.028487</td>\n",
              "    </tr>\n",
              "    <tr>\n",
              "      <th>min</th>\n",
              "      <td>0.650703</td>\n",
              "    </tr>\n",
              "    <tr>\n",
              "      <th>25%</th>\n",
              "      <td>0.710077</td>\n",
              "    </tr>\n",
              "    <tr>\n",
              "      <th>50%</th>\n",
              "      <td>0.728931</td>\n",
              "    </tr>\n",
              "    <tr>\n",
              "      <th>75%</th>\n",
              "      <td>0.749951</td>\n",
              "    </tr>\n",
              "    <tr>\n",
              "      <th>max</th>\n",
              "      <td>0.819498</td>\n",
              "    </tr>\n",
              "  </tbody>\n",
              "</table>\n",
              "</div>"
            ],
            "text/plain": [
              "                0\n",
              "count  750.000000\n",
              "mean     0.730827\n",
              "std      0.028487\n",
              "min      0.650703\n",
              "25%      0.710077\n",
              "50%      0.728931\n",
              "75%      0.749951\n",
              "max      0.819498"
            ]
          },
          "execution_count": 40,
          "metadata": {},
          "output_type": "execute_result"
        }
      ],
      "source": [
        "ridge_hatch_ypred = pd.DataFrame(ridge_hatch.predict(X_to_predict))\n",
        "ridge_hatch_ypred.describe()"
      ]
    },
    {
      "cell_type": "markdown",
      "metadata": {
        "id": "ZHHFu70kyaKX"
      },
      "source": [
        "Now, we will run Lasso regression via the same methods, except with a much lower alpha value so that our model penalizes added features less heavily, as our features are not great predictors of our target variable (uh oh)."
      ]
    },
    {
      "cell_type": "code",
      "execution_count": null,
      "metadata": {
        "id": "GE09el9tyaKX",
        "outputId": "18dfe98f-c17f-430b-e17f-b54c47ec4f09"
      },
      "outputs": [
        {
          "data": {
            "text/plain": [
              "([0.27771437435195473,\n",
              "  0.28519080616760023,\n",
              "  0.273272534484958,\n",
              "  0.2837379598193187,\n",
              "  0.2683177449170203,\n",
              "  0.2683217715552033,\n",
              "  0.2639100064664687,\n",
              "  0.27443810962321374,\n",
              "  0.2713777619851771,\n",
              "  0.275031324888707],\n",
              " 0.2741312394259622)"
            ]
          },
          "execution_count": 41,
          "metadata": {},
          "output_type": "execute_result"
        }
      ],
      "source": [
        "kfold_crossval_model(Lasso, X, y, alpha = 0.001, n_folds = 10)"
      ]
    },
    {
      "cell_type": "code",
      "execution_count": null,
      "metadata": {
        "id": "ltzxqS8pyaKX",
        "outputId": "e55fac24-e0e6-487a-ac39-e48b5fba2912"
      },
      "outputs": [
        {
          "name": "stdout",
          "output_type": "stream",
          "text": [
            "[-0.00270148 -0.02629596 -0.         -0.         -0.          0.\n",
            " -0.00199691  0.04860102]\n"
          ]
        }
      ],
      "source": [
        "lasso_hatch = Lasso(alpha = 0.001)\n",
        "lasso_hatch.fit(X, y)\n",
        "\n",
        "print(lasso_hatch.coef_)"
      ]
    },
    {
      "cell_type": "markdown",
      "metadata": {
        "id": "JPqqj46PyaKX"
      },
      "source": [
        "As we can see above, the Lasso model determines most of our features are not useful, even at our low alpha level of 0.001. Now we will predict using our lasso model:"
      ]
    },
    {
      "cell_type": "code",
      "execution_count": null,
      "metadata": {
        "id": "f6uvovEwyaKX",
        "outputId": "6bc8ae2e-4916-4f86-9216-1decedb1990b"
      },
      "outputs": [
        {
          "data": {
            "text/html": [
              "<div>\n",
              "<style scoped>\n",
              "    .dataframe tbody tr th:only-of-type {\n",
              "        vertical-align: middle;\n",
              "    }\n",
              "\n",
              "    .dataframe tbody tr th {\n",
              "        vertical-align: top;\n",
              "    }\n",
              "\n",
              "    .dataframe thead th {\n",
              "        text-align: right;\n",
              "    }\n",
              "</style>\n",
              "<table border=\"1\" class=\"dataframe\">\n",
              "  <thead>\n",
              "    <tr style=\"text-align: right;\">\n",
              "      <th></th>\n",
              "      <th>0</th>\n",
              "    </tr>\n",
              "  </thead>\n",
              "  <tbody>\n",
              "    <tr>\n",
              "      <th>count</th>\n",
              "      <td>750.000000</td>\n",
              "    </tr>\n",
              "    <tr>\n",
              "      <th>mean</th>\n",
              "      <td>0.733377</td>\n",
              "    </tr>\n",
              "    <tr>\n",
              "      <th>std</th>\n",
              "      <td>0.025776</td>\n",
              "    </tr>\n",
              "    <tr>\n",
              "      <th>min</th>\n",
              "      <td>0.674461</td>\n",
              "    </tr>\n",
              "    <tr>\n",
              "      <th>25%</th>\n",
              "      <td>0.714112</td>\n",
              "    </tr>\n",
              "    <tr>\n",
              "      <th>50%</th>\n",
              "      <td>0.727452</td>\n",
              "    </tr>\n",
              "    <tr>\n",
              "      <th>75%</th>\n",
              "      <td>0.751669</td>\n",
              "    </tr>\n",
              "    <tr>\n",
              "      <th>max</th>\n",
              "      <td>0.806263</td>\n",
              "    </tr>\n",
              "  </tbody>\n",
              "</table>\n",
              "</div>"
            ],
            "text/plain": [
              "                0\n",
              "count  750.000000\n",
              "mean     0.733377\n",
              "std      0.025776\n",
              "min      0.674461\n",
              "25%      0.714112\n",
              "50%      0.727452\n",
              "75%      0.751669\n",
              "max      0.806263"
            ]
          },
          "execution_count": 43,
          "metadata": {},
          "output_type": "execute_result"
        }
      ],
      "source": [
        "lasso_hatch_ypred = pd.DataFrame(lasso_hatch.predict(X_to_predict))\n",
        "lasso_hatch_ypred.describe()"
      ]
    },
    {
      "cell_type": "markdown",
      "metadata": {
        "id": "bWP7OcX8yaKX"
      },
      "source": [
        "Now, we will change our X and y to predict Emergence success rather than Hatch Success. We will run all the same models and adjust the hyperparameters accordingly."
      ]
    },
    {
      "cell_type": "code",
      "execution_count": null,
      "metadata": {
        "id": "ip65D2xdyaKX"
      },
      "outputs": [],
      "source": [
        "X = cuis_merged_clean_training[['Year', 'Month', 'Emerge_Lat', 'Emerge_Lon', 'VLMrate(cm/yr)', 'Monthly_Night_TAVG', 'NIGHT_TAVG', 'Relocation']] #specify the features\n",
        "y = cuis_merged_clean_training['Emergence Success Corrected'] #specify the target variable"
      ]
    },
    {
      "cell_type": "code",
      "execution_count": null,
      "metadata": {
        "id": "kAdLUfk8yaKX",
        "outputId": "3394d73f-5133-4d2f-a82f-5b7d8477ec0d"
      },
      "outputs": [
        {
          "data": {
            "text/plain": [
              "([0.2933984107794873,\n",
              "  0.2916425384143592,\n",
              "  0.280714106358638,\n",
              "  0.29136381008260176,\n",
              "  0.2803670466089671,\n",
              "  0.2788502089512199,\n",
              "  0.2804520082160618,\n",
              "  0.28351429203821776,\n",
              "  0.28204863810887665,\n",
              "  0.28605895355477995],\n",
              " 0.28484100131132095)"
            ]
          },
          "execution_count": 56,
          "metadata": {},
          "output_type": "execute_result"
        }
      ],
      "source": [
        "kfold_crossval_model(LinearRegression, X, y, alpha = 0.5, n_folds = 10)"
      ]
    },
    {
      "cell_type": "markdown",
      "metadata": {
        "id": "uHvGdqGVyaKX"
      },
      "source": [
        "Now, print out the coefficients:"
      ]
    },
    {
      "cell_type": "code",
      "execution_count": null,
      "metadata": {
        "id": "Z9ipDb1pyaKX",
        "outputId": "01b04780-a6df-4fbe-eb9d-87e396e10eaa"
      },
      "outputs": [
        {
          "name": "stdout",
          "output_type": "stream",
          "text": [
            "[-0.00223498 -0.04225061 -0.33945921  0.81314848 -0.05330132  0.00800946\n",
            " -0.00252498  0.04753858]\n"
          ]
        }
      ],
      "source": [
        "lm_em = LinearRegression()\n",
        "lm_em.fit(X, y)\n",
        "\n",
        "print(lm_em.coef_)"
      ]
    },
    {
      "cell_type": "code",
      "execution_count": null,
      "metadata": {
        "scrolled": true,
        "id": "9d51S-NIyaKX",
        "outputId": "f4d8be71-9a61-4b04-bd8f-8af9fe926990"
      },
      "outputs": [
        {
          "data": {
            "text/html": [
              "<div>\n",
              "<style scoped>\n",
              "    .dataframe tbody tr th:only-of-type {\n",
              "        vertical-align: middle;\n",
              "    }\n",
              "\n",
              "    .dataframe tbody tr th {\n",
              "        vertical-align: top;\n",
              "    }\n",
              "\n",
              "    .dataframe thead th {\n",
              "        text-align: right;\n",
              "    }\n",
              "</style>\n",
              "<table border=\"1\" class=\"dataframe\">\n",
              "  <thead>\n",
              "    <tr style=\"text-align: right;\">\n",
              "      <th></th>\n",
              "      <th>0</th>\n",
              "    </tr>\n",
              "  </thead>\n",
              "  <tbody>\n",
              "    <tr>\n",
              "      <th>count</th>\n",
              "      <td>750.000000</td>\n",
              "    </tr>\n",
              "    <tr>\n",
              "      <th>mean</th>\n",
              "      <td>0.708718</td>\n",
              "    </tr>\n",
              "    <tr>\n",
              "      <th>std</th>\n",
              "      <td>0.026451</td>\n",
              "    </tr>\n",
              "    <tr>\n",
              "      <th>min</th>\n",
              "      <td>0.628376</td>\n",
              "    </tr>\n",
              "    <tr>\n",
              "      <th>25%</th>\n",
              "      <td>0.692284</td>\n",
              "    </tr>\n",
              "    <tr>\n",
              "      <th>50%</th>\n",
              "      <td>0.705067</td>\n",
              "    </tr>\n",
              "    <tr>\n",
              "      <th>75%</th>\n",
              "      <td>0.726842</td>\n",
              "    </tr>\n",
              "    <tr>\n",
              "      <th>max</th>\n",
              "      <td>0.787936</td>\n",
              "    </tr>\n",
              "  </tbody>\n",
              "</table>\n",
              "</div>"
            ],
            "text/plain": [
              "                0\n",
              "count  750.000000\n",
              "mean     0.708718\n",
              "std      0.026451\n",
              "min      0.628376\n",
              "25%      0.692284\n",
              "50%      0.705067\n",
              "75%      0.726842\n",
              "max      0.787936"
            ]
          },
          "execution_count": 58,
          "metadata": {},
          "output_type": "execute_result"
        }
      ],
      "source": [
        "lm_em_ypred = pd.DataFrame(lm_em.predict(X_to_predict))\n",
        "lm_em_ypred.describe()"
      ]
    },
    {
      "cell_type": "code",
      "execution_count": null,
      "metadata": {
        "id": "Q4voXKkTyaKX",
        "outputId": "1b7b641a-d356-4983-cf68-7e18b8a77c15"
      },
      "outputs": [
        {
          "data": {
            "text/plain": [
              "([0.29347391878952506,\n",
              "  0.2915907134989155,\n",
              "  0.2808175936165159,\n",
              "  0.29132464345351555,\n",
              "  0.2800018809671525,\n",
              "  0.278855275026683,\n",
              "  0.28048902783531626,\n",
              "  0.2836095928033745,\n",
              "  0.2819570186938424,\n",
              "  0.2860536180316038],\n",
              " 0.2848173282716444)"
            ]
          },
          "execution_count": 48,
          "metadata": {},
          "output_type": "execute_result"
        }
      ],
      "source": [
        "kfold_crossval_model(Ridge, X, y, alpha = 0.5, n_folds = 10)"
      ]
    },
    {
      "cell_type": "code",
      "execution_count": null,
      "metadata": {
        "id": "6QxwHwMyyaKX",
        "outputId": "5ecc6820-6c57-4768-d90d-55fa363b1454"
      },
      "outputs": [
        {
          "name": "stdout",
          "output_type": "stream",
          "text": [
            "[-0.00224976 -0.04219608 -0.14789595  0.21707904 -0.06135813  0.00800293\n",
            " -0.00252704  0.04726698]\n"
          ]
        }
      ],
      "source": [
        "ridge_em = Ridge(alpha = 0.5)\n",
        "ridge_em.fit(X, y)\n",
        "\n",
        "print(ridge_em.coef_)"
      ]
    },
    {
      "cell_type": "code",
      "execution_count": null,
      "metadata": {
        "id": "bA_lnarGyaKX",
        "outputId": "1ba0feb1-45a3-4864-c575-fff89b21544e"
      },
      "outputs": [
        {
          "data": {
            "text/html": [
              "<div>\n",
              "<style scoped>\n",
              "    .dataframe tbody tr th:only-of-type {\n",
              "        vertical-align: middle;\n",
              "    }\n",
              "\n",
              "    .dataframe tbody tr th {\n",
              "        vertical-align: top;\n",
              "    }\n",
              "\n",
              "    .dataframe thead th {\n",
              "        text-align: right;\n",
              "    }\n",
              "</style>\n",
              "<table border=\"1\" class=\"dataframe\">\n",
              "  <thead>\n",
              "    <tr style=\"text-align: right;\">\n",
              "      <th></th>\n",
              "      <th>0</th>\n",
              "    </tr>\n",
              "  </thead>\n",
              "  <tbody>\n",
              "    <tr>\n",
              "      <th>count</th>\n",
              "      <td>750.000000</td>\n",
              "    </tr>\n",
              "    <tr>\n",
              "      <th>mean</th>\n",
              "      <td>0.708754</td>\n",
              "    </tr>\n",
              "    <tr>\n",
              "      <th>std</th>\n",
              "      <td>0.025796</td>\n",
              "    </tr>\n",
              "    <tr>\n",
              "      <th>min</th>\n",
              "      <td>0.631557</td>\n",
              "    </tr>\n",
              "    <tr>\n",
              "      <th>25%</th>\n",
              "      <td>0.692331</td>\n",
              "    </tr>\n",
              "    <tr>\n",
              "      <th>50%</th>\n",
              "      <td>0.704967</td>\n",
              "    </tr>\n",
              "    <tr>\n",
              "      <th>75%</th>\n",
              "      <td>0.725702</td>\n",
              "    </tr>\n",
              "    <tr>\n",
              "      <th>max</th>\n",
              "      <td>0.792446</td>\n",
              "    </tr>\n",
              "  </tbody>\n",
              "</table>\n",
              "</div>"
            ],
            "text/plain": [
              "                0\n",
              "count  750.000000\n",
              "mean     0.708754\n",
              "std      0.025796\n",
              "min      0.631557\n",
              "25%      0.692331\n",
              "50%      0.704967\n",
              "75%      0.725702\n",
              "max      0.792446"
            ]
          },
          "execution_count": 60,
          "metadata": {},
          "output_type": "execute_result"
        }
      ],
      "source": [
        "ridge_em_ypred = pd.DataFrame(ridge_em.predict(X_to_predict))\n",
        "ridge_em_ypred.describe()"
      ]
    },
    {
      "cell_type": "code",
      "execution_count": null,
      "metadata": {
        "id": "Nw5nKvg1yaKY",
        "outputId": "afc6cbfc-4ca6-4734-c159-53c2fd77901b"
      },
      "outputs": [
        {
          "data": {
            "text/plain": [
              "([0.29370793702977904,\n",
              "  0.29124818075027337,\n",
              "  0.2805872338049711,\n",
              "  0.29145357744928746,\n",
              "  0.2799963995194221,\n",
              "  0.2786804055469424,\n",
              "  0.28072539306003197,\n",
              "  0.2836736235094091,\n",
              "  0.28210014370709724,\n",
              "  0.2859283014137956],\n",
              " 0.28481011957910096)"
            ]
          },
          "execution_count": 51,
          "metadata": {},
          "output_type": "execute_result"
        }
      ],
      "source": [
        "kfold_crossval_model(Lasso, X, y, alpha = 0.001, n_folds = 10)"
      ]
    },
    {
      "cell_type": "code",
      "execution_count": null,
      "metadata": {
        "id": "i0DnoPmLyaKY",
        "outputId": "dec62db4-141c-46fc-e5ca-08b2eb925610"
      },
      "outputs": [
        {
          "name": "stdout",
          "output_type": "stream",
          "text": [
            "[-0.00216211 -0.03087726 -0.         -0.         -0.          0.00387034\n",
            " -0.00220149  0.04280416]\n"
          ]
        }
      ],
      "source": [
        "lasso_em = Lasso(alpha = 0.001)\n",
        "lasso_em.fit(X, y)\n",
        "\n",
        "print(lasso_em.coef_)"
      ]
    },
    {
      "cell_type": "code",
      "execution_count": null,
      "metadata": {
        "id": "RPUlsnCvyaKY",
        "outputId": "b331c50c-0793-4f5c-ac23-201526b83910"
      },
      "outputs": [
        {
          "data": {
            "text/html": [
              "<div>\n",
              "<style scoped>\n",
              "    .dataframe tbody tr th:only-of-type {\n",
              "        vertical-align: middle;\n",
              "    }\n",
              "\n",
              "    .dataframe tbody tr th {\n",
              "        vertical-align: top;\n",
              "    }\n",
              "\n",
              "    .dataframe thead th {\n",
              "        text-align: right;\n",
              "    }\n",
              "</style>\n",
              "<table border=\"1\" class=\"dataframe\">\n",
              "  <thead>\n",
              "    <tr style=\"text-align: right;\">\n",
              "      <th></th>\n",
              "      <th>0</th>\n",
              "    </tr>\n",
              "  </thead>\n",
              "  <tbody>\n",
              "    <tr>\n",
              "      <th>count</th>\n",
              "      <td>750.000000</td>\n",
              "    </tr>\n",
              "    <tr>\n",
              "      <th>mean</th>\n",
              "      <td>0.711454</td>\n",
              "    </tr>\n",
              "    <tr>\n",
              "      <th>std</th>\n",
              "      <td>0.022485</td>\n",
              "    </tr>\n",
              "    <tr>\n",
              "      <th>min</th>\n",
              "      <td>0.654549</td>\n",
              "    </tr>\n",
              "    <tr>\n",
              "      <th>25%</th>\n",
              "      <td>0.696007</td>\n",
              "    </tr>\n",
              "    <tr>\n",
              "      <th>50%</th>\n",
              "      <td>0.707957</td>\n",
              "    </tr>\n",
              "    <tr>\n",
              "      <th>75%</th>\n",
              "      <td>0.726276</td>\n",
              "    </tr>\n",
              "    <tr>\n",
              "      <th>max</th>\n",
              "      <td>0.780550</td>\n",
              "    </tr>\n",
              "  </tbody>\n",
              "</table>\n",
              "</div>"
            ],
            "text/plain": [
              "                0\n",
              "count  750.000000\n",
              "mean     0.711454\n",
              "std      0.022485\n",
              "min      0.654549\n",
              "25%      0.696007\n",
              "50%      0.707957\n",
              "75%      0.726276\n",
              "max      0.780550"
            ]
          },
          "execution_count": 63,
          "metadata": {},
          "output_type": "execute_result"
        }
      ],
      "source": [
        "lasso_em_ypred = pd.DataFrame(lasso_em.predict(X_to_predict))\n",
        "lasso_em_ypred.describe()"
      ]
    },
    {
      "cell_type": "markdown",
      "metadata": {
        "id": "vl4s616OyaKY"
      },
      "source": [
        "### Classification:"
      ]
    },
    {
      "cell_type": "markdown",
      "metadata": {
        "id": "pLYJxWK5yaKY"
      },
      "source": [
        "We are using classification to predict relocation because it is a categorical variable listing nests as either \"in situ\" or \"relocated.\" To do this, I created the erosion_reloc dataframe displaying the relevant features. First, we convert relocated values to 1 and in situ values to 0 in order to express each category in binary terms."
      ]
    },
    {
      "cell_type": "code",
      "execution_count": null,
      "metadata": {
        "id": "cJ735zb7yaKY"
      },
      "outputs": [],
      "source": [
        "erosion_reloc = cuis_merged_clean[['Beach', 'Latitude', 'Longitude', 'Relocation','Clutch Count', 'Emerge_Lat', 'Emerge_Lon', 'Washovers', 'VLMrate(cm/yr)', 'VLMerror(cm/yr)']]"
      ]
    },
    {
      "cell_type": "markdown",
      "metadata": {
        "id": "kZ9O4PHMyaKY"
      },
      "source": [
        "We get rid of all the NaN values."
      ]
    },
    {
      "cell_type": "code",
      "execution_count": null,
      "metadata": {
        "id": "aGFazxEOyaKY"
      },
      "outputs": [],
      "source": [
        "erosion_reloc = erosion_reloc.drop(erosion_reloc.loc[np.isnan(erosion_reloc['Latitude']) == True].index)\n",
        "erosion_reloc = erosion_reloc.drop(erosion_reloc.loc[np.isnan(erosion_reloc['Longitude']) == True].index)\n",
        "erosion_reloc = wash_reloc = erosion_reloc.drop(erosion_reloc.loc[np.isnan(erosion_reloc['Washovers']) == True].index)\n",
        "erosion_reloc = erosion_reloc.drop(erosion_reloc.loc[np.isnan(erosion_reloc['Clutch Count']) == True].index)"
      ]
    },
    {
      "cell_type": "markdown",
      "metadata": {
        "id": "DkbwA30AyaKY"
      },
      "source": [
        "We add a column of ones to the dataframe so that statsmodels can run this as an intercept value to construct a logistic curve."
      ]
    },
    {
      "cell_type": "code",
      "execution_count": null,
      "metadata": {
        "scrolled": true,
        "id": "GVQGhblByaKY",
        "outputId": "e478cde1-01b2-4cf8-805e-f22d1e001c23"
      },
      "outputs": [
        {
          "data": {
            "text/html": [
              "<div>\n",
              "<style scoped>\n",
              "    .dataframe tbody tr th:only-of-type {\n",
              "        vertical-align: middle;\n",
              "    }\n",
              "\n",
              "    .dataframe tbody tr th {\n",
              "        vertical-align: top;\n",
              "    }\n",
              "\n",
              "    .dataframe thead th {\n",
              "        text-align: right;\n",
              "    }\n",
              "</style>\n",
              "<table border=\"1\" class=\"dataframe\">\n",
              "  <thead>\n",
              "    <tr style=\"text-align: right;\">\n",
              "      <th></th>\n",
              "      <th>Beach</th>\n",
              "      <th>Latitude</th>\n",
              "      <th>Longitude</th>\n",
              "      <th>Relocation</th>\n",
              "      <th>Clutch Count</th>\n",
              "      <th>Emerge_Lat</th>\n",
              "      <th>Emerge_Lon</th>\n",
              "      <th>Washovers</th>\n",
              "      <th>VLMrate(cm/yr)</th>\n",
              "      <th>VLMerror(cm/yr)</th>\n",
              "      <th>intercept</th>\n",
              "    </tr>\n",
              "  </thead>\n",
              "  <tbody>\n",
              "    <tr>\n",
              "      <th>0</th>\n",
              "      <td>Cumberland</td>\n",
              "      <td>30.81768</td>\n",
              "      <td>-81.44213</td>\n",
              "      <td>0</td>\n",
              "      <td>123.0</td>\n",
              "      <td>30.81768</td>\n",
              "      <td>-81.44213</td>\n",
              "      <td>0.0</td>\n",
              "      <td>0.029</td>\n",
              "      <td>0.093</td>\n",
              "      <td>1.0</td>\n",
              "    </tr>\n",
              "    <tr>\n",
              "      <th>1</th>\n",
              "      <td>Cumberland</td>\n",
              "      <td>30.81803</td>\n",
              "      <td>-81.44197</td>\n",
              "      <td>0</td>\n",
              "      <td>150.0</td>\n",
              "      <td>30.81803</td>\n",
              "      <td>-81.44197</td>\n",
              "      <td>0.0</td>\n",
              "      <td>0.029</td>\n",
              "      <td>0.093</td>\n",
              "      <td>1.0</td>\n",
              "    </tr>\n",
              "    <tr>\n",
              "      <th>2</th>\n",
              "      <td>Cumberland</td>\n",
              "      <td>30.81868</td>\n",
              "      <td>-81.44142</td>\n",
              "      <td>0</td>\n",
              "      <td>93.0</td>\n",
              "      <td>30.81868</td>\n",
              "      <td>-81.44142</td>\n",
              "      <td>2.0</td>\n",
              "      <td>0.029</td>\n",
              "      <td>0.093</td>\n",
              "      <td>1.0</td>\n",
              "    </tr>\n",
              "    <tr>\n",
              "      <th>3</th>\n",
              "      <td>Cumberland</td>\n",
              "      <td>30.81895</td>\n",
              "      <td>-81.44138</td>\n",
              "      <td>0</td>\n",
              "      <td>124.0</td>\n",
              "      <td>30.81895</td>\n",
              "      <td>-81.44138</td>\n",
              "      <td>1.0</td>\n",
              "      <td>0.029</td>\n",
              "      <td>0.093</td>\n",
              "      <td>1.0</td>\n",
              "    </tr>\n",
              "    <tr>\n",
              "      <th>4</th>\n",
              "      <td>Cumberland</td>\n",
              "      <td>30.81910</td>\n",
              "      <td>-81.44110</td>\n",
              "      <td>1</td>\n",
              "      <td>120.0</td>\n",
              "      <td>30.81920</td>\n",
              "      <td>-81.44130</td>\n",
              "      <td>0.0</td>\n",
              "      <td>0.029</td>\n",
              "      <td>0.093</td>\n",
              "      <td>1.0</td>\n",
              "    </tr>\n",
              "  </tbody>\n",
              "</table>\n",
              "</div>"
            ],
            "text/plain": [
              "        Beach  Latitude  Longitude  Relocation  Clutch Count  Emerge_Lat  \\\n",
              "0  Cumberland  30.81768  -81.44213           0         123.0    30.81768   \n",
              "1  Cumberland  30.81803  -81.44197           0         150.0    30.81803   \n",
              "2  Cumberland  30.81868  -81.44142           0          93.0    30.81868   \n",
              "3  Cumberland  30.81895  -81.44138           0         124.0    30.81895   \n",
              "4  Cumberland  30.81910  -81.44110           1         120.0    30.81920   \n",
              "\n",
              "   Emerge_Lon  Washovers  VLMrate(cm/yr)  VLMerror(cm/yr)  intercept  \n",
              "0   -81.44213        0.0           0.029            0.093        1.0  \n",
              "1   -81.44197        0.0           0.029            0.093        1.0  \n",
              "2   -81.44142        2.0           0.029            0.093        1.0  \n",
              "3   -81.44138        1.0           0.029            0.093        1.0  \n",
              "4   -81.44130        0.0           0.029            0.093        1.0  "
            ]
          },
          "execution_count": 90,
          "metadata": {},
          "output_type": "execute_result"
        }
      ],
      "source": [
        "erosion_reloc['intercept'] = np.ones(len(erosion_reloc))\n",
        "erosion_reloc.head()"
      ]
    },
    {
      "cell_type": "markdown",
      "metadata": {
        "id": "hox5ZkZZyaKY"
      },
      "source": [
        "We use the vertical land movement rate column and intercept column as features for the logistic curve."
      ]
    },
    {
      "cell_type": "code",
      "execution_count": null,
      "metadata": {
        "scrolled": true,
        "id": "eCybs2a-yaKY",
        "outputId": "2cb693b7-f624-4dd4-c307-f9d107c0566d"
      },
      "outputs": [
        {
          "name": "stdout",
          "output_type": "stream",
          "text": [
            "Optimization terminated successfully.\n",
            "         Current function value: 0.627246\n",
            "         Iterations 5\n"
          ]
        },
        {
          "data": {
            "text/plain": [
              "VLMrate(cm/yr)   -0.918683\n",
              "Clutch Count      0.005224\n",
              "intercept        -1.279521\n",
              "dtype: float64"
            ]
          },
          "execution_count": 96,
          "metadata": {},
          "output_type": "execute_result"
        }
      ],
      "source": [
        "import statsmodels.api as sm\n",
        "y = erosion_reloc['Relocation']\n",
        "X = erosion_reloc[['VLMrate(cm/yr)', 'Clutch Count', 'intercept']]\n",
        "logit = sm.Logit(y, X)\n",
        "logit_fit = logit.fit()\n",
        "logit_fit.params"
      ]
    },
    {
      "cell_type": "markdown",
      "metadata": {
        "id": "1bHg6xNhyaKY"
      },
      "source": [
        "Using these parameters and the features, we return a vector of probabilities using the following formula: ![Screenshot%202023-12-13%203.15.58%20PM.png](attachment:Screenshot%202023-12-13%203.15.58%20PM.png)"
      ]
    },
    {
      "cell_type": "code",
      "execution_count": null,
      "metadata": {
        "id": "sowEL3nTyaKY",
        "outputId": "e81be60a-1159-439d-9b25-390f6ab218aa"
      },
      "outputs": [
        {
          "data": {
            "text/plain": [
              "array([0.33991701, 0.37223796, 0.30568492, ..., 0.28191125, 0.2942106 ,\n",
              "       0.3348878 ])"
            ]
          },
          "execution_count": 97,
          "metadata": {},
          "output_type": "execute_result"
        }
      ],
      "source": [
        "x_weight = 0\n",
        "for i in range(len(logit_fit.params)):\n",
        "    x_weight = x_weight + logit_fit.params[i] * X.iloc[:, i]\n",
        "probs = np.exp(x_weight) / (1+np.exp(x_weight))\n",
        "probs.values"
      ]
    },
    {
      "cell_type": "markdown",
      "metadata": {
        "id": "EnkLKefnyaKY"
      },
      "source": [
        "The plot below represents the logistic curve for vertical land movement rate and relocation."
      ]
    },
    {
      "cell_type": "code",
      "execution_count": null,
      "metadata": {
        "scrolled": true,
        "id": "sFn86mP0yaKY",
        "outputId": "e618f732-b119-4d62-dbbd-e8479b683206"
      },
      "outputs": [
        {
          "data": {
            "text/plain": [
              "[<matplotlib.lines.Line2D at 0x7f2a4f388e80>]"
            ]
          },
          "execution_count": 98,
          "metadata": {},
          "output_type": "execute_result"
        },
        {
          "data": {
            "image/png": "[encoded data removed]",
            "text/plain": [
              "<Figure size 640x480 with 1 Axes>"
            ]
          },
          "metadata": {},
          "output_type": "display_data"
        }
      ],
      "source": [
        "X_plot = erosion_reloc[['VLMrate(cm/yr)', 'intercept']].sort_values(by = 'VLMrate(cm/yr)')\n",
        "plt.scatter(erosion_reloc['VLMrate(cm/yr)'], erosion_reloc['Relocation'])\n",
        "y = probs.values\n",
        "plt.plot(X_plot[\"VLMrate(cm/yr)\"], y, c = 'y')"
      ]
    },
    {
      "cell_type": "markdown",
      "metadata": {
        "id": "S7-kYPgvyaKY"
      },
      "source": [
        "Now we try a logistic curve with washovers and intercept as features."
      ]
    },
    {
      "cell_type": "code",
      "execution_count": null,
      "metadata": {
        "scrolled": true,
        "id": "zTj-d1dNyaKY",
        "outputId": "0163423b-5fdc-4e47-e52f-e735119d3aa5"
      },
      "outputs": [
        {
          "name": "stdout",
          "output_type": "stream",
          "text": [
            "Optimization terminated successfully.\n",
            "         Current function value: 0.617823\n",
            "         Iterations 7\n"
          ]
        },
        {
          "data": {
            "text/plain": [
              "Washovers        -0.468888\n",
              "VLMrate(cm/yr)   -0.789337\n",
              "Clutch Count      0.004566\n",
              "intercept        -1.112248\n",
              "dtype: float64"
            ]
          },
          "execution_count": 108,
          "metadata": {},
          "output_type": "execute_result"
        }
      ],
      "source": [
        "y = erosion_reloc['Relocation']\n",
        "X = erosion_reloc[['Washovers', 'VLMrate(cm/yr)', 'Clutch Count', 'intercept']]\n",
        "logit = sm.Logit(y, X)\n",
        "logit_fit = logit.fit()\n",
        "logit_fit.params"
      ]
    },
    {
      "cell_type": "code",
      "execution_count": null,
      "metadata": {
        "id": "bLt2MoBwyaKY",
        "outputId": "b4353795-0275-43b9-aaf3-b6bf50bb8a02"
      },
      "outputs": [
        {
          "data": {
            "text/plain": [
              "array([0.36043617, 0.38931829, 0.16134708, ..., 0.30772966, 0.31907074,\n",
              "       0.01281136])"
            ]
          },
          "execution_count": 109,
          "metadata": {},
          "output_type": "execute_result"
        }
      ],
      "source": [
        "x_w = 0\n",
        "for i in range(len(logit_fit.params)):\n",
        "    x_w = x_w + logit_fit.params[i] * X.iloc[:, i]\n",
        "p = np.exp(x_w) / (1+np.exp(x_w))\n",
        "p.values"
      ]
    },
    {
      "cell_type": "code",
      "execution_count": null,
      "metadata": {
        "id": "TR6busuYyaKY",
        "outputId": "246499d6-942b-4767-f147-ea3e9d8fa11b"
      },
      "outputs": [
        {
          "data": {
            "text/plain": [
              "[<matplotlib.lines.Line2D at 0x7f2a4e1d0160>]"
            ]
          },
          "execution_count": 110,
          "metadata": {},
          "output_type": "execute_result"
        },
        {
          "data": {
            "image/png": "[encoded data removed]",
            "text/plain": [
              "<Figure size 640x480 with 1 Axes>"
            ]
          },
          "metadata": {},
          "output_type": "display_data"
        }
      ],
      "source": [
        "X_plot = erosion_reloc[['Washovers', 'intercept']].sort_values(by = 'Washovers')\n",
        "plt.scatter(erosion_reloc[['Washovers']], erosion_reloc['Relocation'])\n",
        "y = p.values\n",
        "plt.plot(X_plot[\"Washovers\"], y, c = 'y')"
      ]
    },
    {
      "cell_type": "markdown",
      "metadata": {
        "id": "IW2wmOM6yaKZ"
      },
      "source": [
        "We will test out different decision trees by fitting them to the training data and then scoring them with the training and validation data"
      ]
    },
    {
      "cell_type": "code",
      "execution_count": null,
      "metadata": {
        "id": "oU9ru-CCyaKZ"
      },
      "outputs": [],
      "source": [
        "from sklearn.model_selection import train_test_split\n",
        "\n",
        "target = erosion_reloc['Relocation']\n",
        "features = erosion_reloc[['Washovers', 'VLMrate(cm/yr)', 'Clutch Count', 'intercept']]\n",
        "X, X_test, y, y_test = train_test_split(features, target, test_size = 0.2, train_size = 0.8)\n",
        "X_train, X_val, y_train, y_val = train_test_split(X, y, test_size = 0.25, train_size = 0.75)"
      ]
    },
    {
      "cell_type": "code",
      "execution_count": null,
      "metadata": {
        "id": "mzoZr7ujyaKZ",
        "outputId": "8d76b9d7-0ef2-42cc-e729-b5afa67aea22"
      },
      "outputs": [
        {
          "name": "stdout",
          "output_type": "stream",
          "text": [
            "Number of features: 4\n",
            "Number of nodes (internal and terminal): 3057 \n",
            "\n",
            "Train Score:  0.898273572377158\n",
            "Validation Score:  0.607484076433121\n"
          ]
        }
      ],
      "source": [
        "from sklearn.tree import DecisionTreeClassifier\n",
        "from sklearn.model_selection import cross_val_score\n",
        "from sklearn import tree\n",
        "\n",
        "features = erosion_reloc[['VLMrate(cm/yr)', 'Washovers', 'Longitude', 'Latitude']]\n",
        "target = erosion_reloc['Relocation']\n",
        "\n",
        "tree = DecisionTreeClassifier()\n",
        "tree.fit(X_train, y_train)\n",
        "print(\"Number of features: {}\".format(tree.tree_.n_features))\n",
        "print(\"Number of nodes (internal and terminal): {}\".format(tree.tree_.node_count), \"\\n\")\n",
        "train_score = tree.score(X_train, y_train)\n",
        "val_score = tree.score(X_val, y_val)\n",
        "print('Train Score: ', train_score)\n",
        "print('Validation Score: ', val_score)"
      ]
    },
    {
      "cell_type": "markdown",
      "metadata": {
        "id": "gU36LHHYyaKZ"
      },
      "source": [
        "We can use this initial tree to rank the importance of the features. This shows that vertical land movement is the most important feature."
      ]
    },
    {
      "cell_type": "code",
      "execution_count": null,
      "metadata": {
        "id": "z_zhIXrAyaKZ",
        "outputId": "8aca49b6-77f6-4be6-81a2-8fb30974a2e1"
      },
      "outputs": [
        {
          "data": {
            "text/html": [
              "<div>\n",
              "<style scoped>\n",
              "    .dataframe tbody tr th:only-of-type {\n",
              "        vertical-align: middle;\n",
              "    }\n",
              "\n",
              "    .dataframe tbody tr th {\n",
              "        vertical-align: top;\n",
              "    }\n",
              "\n",
              "    .dataframe thead th {\n",
              "        text-align: right;\n",
              "    }\n",
              "</style>\n",
              "<table border=\"1\" class=\"dataframe\">\n",
              "  <thead>\n",
              "    <tr style=\"text-align: right;\">\n",
              "      <th></th>\n",
              "      <th>Feature</th>\n",
              "      <th>Importance</th>\n",
              "    </tr>\n",
              "  </thead>\n",
              "  <tbody>\n",
              "    <tr>\n",
              "      <th>0</th>\n",
              "      <td>VLMrate(cm/yr)</td>\n",
              "      <td>0.031279</td>\n",
              "    </tr>\n",
              "    <tr>\n",
              "      <th>1</th>\n",
              "      <td>Washovers</td>\n",
              "      <td>0.385747</td>\n",
              "    </tr>\n",
              "    <tr>\n",
              "      <th>2</th>\n",
              "      <td>Longitude</td>\n",
              "      <td>0.582974</td>\n",
              "    </tr>\n",
              "    <tr>\n",
              "      <th>3</th>\n",
              "      <td>Latitude</td>\n",
              "      <td>0.000000</td>\n",
              "    </tr>\n",
              "  </tbody>\n",
              "</table>\n",
              "</div>"
            ],
            "text/plain": [
              "          Feature  Importance\n",
              "0  VLMrate(cm/yr)    0.031279\n",
              "1       Washovers    0.385747\n",
              "2       Longitude    0.582974\n",
              "3        Latitude    0.000000"
            ]
          },
          "execution_count": 131,
          "metadata": {},
          "output_type": "execute_result"
        }
      ],
      "source": [
        "pd.DataFrame({'Feature': features.columns, 'Importance': tree.feature_importances_})"
      ]
    },
    {
      "cell_type": "markdown",
      "metadata": {
        "id": "iURhGFZ3yaKZ"
      },
      "source": [
        "Now we will compare our initial tree with a bagging classifier using our four features and the default number of estimators."
      ]
    },
    {
      "cell_type": "code",
      "execution_count": null,
      "metadata": {
        "id": "lVYahWBoyaKZ",
        "outputId": "983d00d4-b110-43a8-9fbd-2a5b6350cb78"
      },
      "outputs": [
        {
          "name": "stdout",
          "output_type": "stream",
          "text": [
            "Train Score:  0.7195219123505976\n",
            "Validation Score:  0.6735668789808917\n"
          ]
        }
      ],
      "source": [
        "from sklearn.ensemble import BaggingClassifier\n",
        "\n",
        "bag_tree = BaggingClassifier(n_estimators = 10,max_features = 2)\n",
        "bag_tree.fit(X_train, y_train)\n",
        "bag_train_score = bag_tree.score(X_train, y_train)\n",
        "bag_val_score = bag_tree.score(X_val, y_val)\n",
        "print('Train Score: ', bag_train_score)\n",
        "print('Validation Score: ', bag_val_score)"
      ]
    },
    {
      "cell_type": "markdown",
      "metadata": {
        "id": "QFYTCINHyaKZ"
      },
      "source": [
        "Let's compare these scores to a random forest ensemble method:"
      ]
    },
    {
      "cell_type": "code",
      "execution_count": null,
      "metadata": {
        "id": "gY6j3m6AyaKZ",
        "outputId": "a754b294-047f-4fbf-aed2-32b7aad2fb6a"
      },
      "outputs": [
        {
          "name": "stdout",
          "output_type": "stream",
          "text": [
            "Train Score:  0.8786188579017264\n",
            "Validation Score:  0.6106687898089171\n"
          ]
        }
      ],
      "source": [
        "from sklearn.ensemble import RandomForestClassifier\n",
        "\n",
        "rf_tree = RandomForestClassifier(n_estimators = 10)\n",
        "rf_tree.fit(X_train, y_train)\n",
        "rf_train_score = rf_tree.score(X_train, y_train)\n",
        "rf_val_score = rf_tree.score(X_val, y_val)\n",
        "print('Train Score: ', rf_train_score)\n",
        "print('Validation Score: ', rf_val_score)"
      ]
    },
    {
      "cell_type": "markdown",
      "metadata": {
        "id": "0xyrHQ3PyaKZ"
      },
      "source": [
        "We can cross-validate to find the best hyperparameters for the random forest using RandomizedSearchCV. This filters through various possible hyperparameters."
      ]
    },
    {
      "cell_type": "code",
      "execution_count": null,
      "metadata": {
        "id": "TFlsW-PGyaKZ",
        "outputId": "5bf7367e-cb41-4310-a695-729410c55f47"
      },
      "outputs": [
        {
          "data": {
            "text/html": [
              "<style>#sk-container-id-2 {color: black;background-color: white;}#sk-container-id-2 pre{padding: 0;}#sk-container-id-2 div.sk-toggleable {background-color: white;}#sk-container-id-2 label.sk-toggleable__label {cursor: pointer;display: block;width: 100%;margin-bottom: 0;padding: 0.3em;box-sizing: border-box;text-align: center;}#sk-container-id-2 label.sk-toggleable__label-arrow:before {content: \"▸\";float: left;margin-right: 0.25em;color: #696969;}#sk-container-id-2 label.sk-toggleable__label-arrow:hover:before {color: black;}#sk-container-id-2 div.sk-estimator:hover label.sk-toggleable__label-arrow:before {color: black;}#sk-container-id-2 div.sk-toggleable__content {max-height: 0;max-width: 0;overflow: hidden;text-align: left;background-color: #f0f8ff;}#sk-container-id-2 div.sk-toggleable__content pre {margin: 0.2em;color: black;border-radius: 0.25em;background-color: #f0f8ff;}#sk-container-id-2 input.sk-toggleable__control:checked~div.sk-toggleable__content {max-height: 200px;max-width: 100%;overflow: auto;}#sk-container-id-2 input.sk-toggleable__control:checked~label.sk-toggleable__label-arrow:before {content: \"▾\";}#sk-container-id-2 div.sk-estimator input.sk-toggleable__control:checked~label.sk-toggleable__label {background-color: #d4ebff;}#sk-container-id-2 div.sk-label input.sk-toggleable__control:checked~label.sk-toggleable__label {background-color: #d4ebff;}#sk-container-id-2 input.sk-hidden--visually {border: 0;clip: rect(1px 1px 1px 1px);clip: rect(1px, 1px, 1px, 1px);height: 1px;margin: -1px;overflow: hidden;padding: 0;position: absolute;width: 1px;}#sk-container-id-2 div.sk-estimator {font-family: monospace;background-color: #f0f8ff;border: 1px dotted black;border-radius: 0.25em;box-sizing: border-box;margin-bottom: 0.5em;}#sk-container-id-2 div.sk-estimator:hover {background-color: #d4ebff;}#sk-container-id-2 div.sk-parallel-item::after {content: \"\";width: 100%;border-bottom: 1px solid gray;flex-grow: 1;}#sk-container-id-2 div.sk-label:hover label.sk-toggleable__label {background-color: #d4ebff;}#sk-container-id-2 div.sk-serial::before {content: \"\";position: absolute;border-left: 1px solid gray;box-sizing: border-box;top: 0;bottom: 0;left: 50%;z-index: 0;}#sk-container-id-2 div.sk-serial {display: flex;flex-direction: column;align-items: center;background-color: white;padding-right: 0.2em;padding-left: 0.2em;position: relative;}#sk-container-id-2 div.sk-item {position: relative;z-index: 1;}#sk-container-id-2 div.sk-parallel {display: flex;align-items: stretch;justify-content: center;background-color: white;position: relative;}#sk-container-id-2 div.sk-item::before, #sk-container-id-2 div.sk-parallel-item::before {content: \"\";position: absolute;border-left: 1px solid gray;box-sizing: border-box;top: 0;bottom: 0;left: 50%;z-index: -1;}#sk-container-id-2 div.sk-parallel-item {display: flex;flex-direction: column;z-index: 1;position: relative;background-color: white;}#sk-container-id-2 div.sk-parallel-item:first-child::after {align-self: flex-end;width: 50%;}#sk-container-id-2 div.sk-parallel-item:last-child::after {align-self: flex-start;width: 50%;}#sk-container-id-2 div.sk-parallel-item:only-child::after {width: 0;}#sk-container-id-2 div.sk-dashed-wrapped {border: 1px dashed gray;margin: 0 0.4em 0.5em 0.4em;box-sizing: border-box;padding-bottom: 0.4em;background-color: white;}#sk-container-id-2 div.sk-label label {font-family: monospace;font-weight: bold;display: inline-block;line-height: 1.2em;}#sk-container-id-2 div.sk-label-container {text-align: center;}#sk-container-id-2 div.sk-container {/* jupyter's `normalize.less` sets `[hidden] { display: none; }` but bootstrap.min.css set `[hidden] { display: none !important; }` so we also need the `!important` here to be able to override the default hidden behavior on the sphinx rendered scikit-learn.org. See: https://github.com/scikit-learn/scikit-learn/issues/21755 */display: inline-block !important;position: relative;}#sk-container-id-2 div.sk-text-repr-fallback {display: none;}</style><div id=\"sk-container-id-2\" class=\"sk-top-container\"><div class=\"sk-text-repr-fallback\"><pre>RandomizedSearchCV(cv=5, estimator=RandomForestClassifier(n_estimators=10),\n",
              "                   n_iter=5,\n",
              "                   param_distributions={&#x27;max_leaf_nodes&#x27;: &lt;scipy.stats._distn_infrastructure.rv_discrete_frozen object at 0x7f2a4decf910&gt;,\n",
              "                                        &#x27;min_samples_leaf&#x27;: &lt;scipy.stats._distn_infrastructure.rv_discrete_frozen object at 0x7f2a4ded25e0&gt;,\n",
              "                                        &#x27;min_samples_split&#x27;: &lt;scipy.stats._distn_infrastructure.rv_discrete_frozen object at 0x7f2a4decf3d0&gt;},\n",
              "                   random_state=2021)</pre><b>In a Jupyter environment, please rerun this cell to show the HTML representation or trust the notebook. <br />On GitHub, the HTML representation is unable to render, please try loading this page with nbviewer.org.</b></div><div class=\"sk-container\" hidden><div class=\"sk-item sk-dashed-wrapped\"><div class=\"sk-label-container\"><div class=\"sk-label sk-toggleable\"><input class=\"sk-toggleable__control sk-hidden--visually\" id=\"sk-estimator-id-4\" type=\"checkbox\" ><label for=\"sk-estimator-id-4\" class=\"sk-toggleable__label sk-toggleable__label-arrow\">RandomizedSearchCV</label><div class=\"sk-toggleable__content\"><pre>RandomizedSearchCV(cv=5, estimator=RandomForestClassifier(n_estimators=10),\n",
              "                   n_iter=5,\n",
              "                   param_distributions={&#x27;max_leaf_nodes&#x27;: &lt;scipy.stats._distn_infrastructure.rv_discrete_frozen object at 0x7f2a4decf910&gt;,\n",
              "                                        &#x27;min_samples_leaf&#x27;: &lt;scipy.stats._distn_infrastructure.rv_discrete_frozen object at 0x7f2a4ded25e0&gt;,\n",
              "                                        &#x27;min_samples_split&#x27;: &lt;scipy.stats._distn_infrastructure.rv_discrete_frozen object at 0x7f2a4decf3d0&gt;},\n",
              "                   random_state=2021)</pre></div></div></div><div class=\"sk-parallel\"><div class=\"sk-parallel-item\"><div class=\"sk-item\"><div class=\"sk-label-container\"><div class=\"sk-label sk-toggleable\"><input class=\"sk-toggleable__control sk-hidden--visually\" id=\"sk-estimator-id-5\" type=\"checkbox\" ><label for=\"sk-estimator-id-5\" class=\"sk-toggleable__label sk-toggleable__label-arrow\">estimator: RandomForestClassifier</label><div class=\"sk-toggleable__content\"><pre>RandomForestClassifier(n_estimators=10)</pre></div></div></div><div class=\"sk-serial\"><div class=\"sk-item\"><div class=\"sk-estimator sk-toggleable\"><input class=\"sk-toggleable__control sk-hidden--visually\" id=\"sk-estimator-id-6\" type=\"checkbox\" ><label for=\"sk-estimator-id-6\" class=\"sk-toggleable__label sk-toggleable__label-arrow\">RandomForestClassifier</label><div class=\"sk-toggleable__content\"><pre>RandomForestClassifier(n_estimators=10)</pre></div></div></div></div></div></div></div></div></div></div>"
            ],
            "text/plain": [
              "RandomizedSearchCV(cv=5, estimator=RandomForestClassifier(n_estimators=10),\n",
              "                   n_iter=5,\n",
              "                   param_distributions={'max_leaf_nodes': <scipy.stats._distn_infrastructure.rv_discrete_frozen object at 0x7f2a4decf910>,\n",
              "                                        'min_samples_leaf': <scipy.stats._distn_infrastructure.rv_discrete_frozen object at 0x7f2a4ded25e0>,\n",
              "                                        'min_samples_split': <scipy.stats._distn_infrastructure.rv_discrete_frozen object at 0x7f2a4decf3d0>},\n",
              "                   random_state=2021)"
            ]
          },
          "execution_count": 134,
          "metadata": {},
          "output_type": "execute_result"
        }
      ],
      "source": [
        "from sklearn.model_selection import RandomizedSearchCV\n",
        "from scipy.stats import randint\n",
        "\n",
        "param_dist = {'max_leaf_nodes': randint(3, 100),'min_samples_leaf': randint(1, 10),'min_samples_split': randint(2, 20)}\n",
        "rf_tree_rnd_search = RandomizedSearchCV(rf_tree, param_distributions=param_dist,cv=5, n_iter=5, random_state = 2021)\n",
        "rf_tree_rnd_search.fit(X_train, y_train)"
      ]
    },
    {
      "cell_type": "markdown",
      "metadata": {
        "id": "_FbMNy3cyaKZ"
      },
      "source": [
        "This shows the best hyperparameters for the random forest:"
      ]
    },
    {
      "cell_type": "code",
      "execution_count": null,
      "metadata": {
        "id": "RzlzIzJGyaKZ",
        "outputId": "87795ba9-debd-4d9f-ac0e-27b0685135a7"
      },
      "outputs": [
        {
          "name": "stdout",
          "output_type": "stream",
          "text": [
            "0.6671978751660026\n",
            "{'max_leaf_nodes': 36, 'min_samples_leaf': 6, 'min_samples_split': 9}\n"
          ]
        }
      ],
      "source": [
        "print(rf_tree_rnd_search.best_score_)\n",
        "print(rf_tree_rnd_search.best_params_)"
      ]
    },
    {
      "cell_type": "markdown",
      "metadata": {
        "id": "uljmgkGEyaKZ"
      },
      "source": [
        "We chose to do boosting using GradientBoosterClassifier rather than AdaBoostClassifier because of the outliers we observed in the \"Washovers\" column, since AdaBoostClassifier does not handle outliers well."
      ]
    },
    {
      "cell_type": "code",
      "execution_count": null,
      "metadata": {
        "id": "_f_1LhL_yaKZ",
        "outputId": "761defc0-2e48-4602-bc9d-9dd77c7691ce"
      },
      "outputs": [
        {
          "name": "stdout",
          "output_type": "stream",
          "text": [
            "Train Score:  0.6905710491367862\n",
            "Validation Score:  0.6719745222929936\n"
          ]
        }
      ],
      "source": [
        "from sklearn.ensemble import GradientBoostingClassifier\n",
        "\n",
        "gb_tree = GradientBoostingClassifier()\n",
        "gb_tree.fit(X_train, y_train)\n",
        "gb_train_score = gb_tree.score(X_train, y_train)\n",
        "gb_val_score = gb_tree.score(X_val, y_val)\n",
        "print('Train Score: ', gb_train_score)\n",
        "print('Validation Score: ', gb_val_score)"
      ]
    },
    {
      "cell_type": "markdown",
      "metadata": {
        "id": "yupa1obXyaKZ"
      },
      "source": [
        "I chose two parameters to search over -- max leaf nodes and min samples split. I chose the range that includes the values from the cross-validated best values."
      ]
    },
    {
      "cell_type": "code",
      "execution_count": null,
      "metadata": {
        "id": "3caQNsjUyaKa",
        "outputId": "af90b26e-5cf9-4ddd-9d29-0212b99d966d"
      },
      "outputs": [
        {
          "name": "stdout",
          "output_type": "stream",
          "text": [
            "{'max_leaf_nodes': 82, 'min_samples_split': 29}\n"
          ]
        }
      ],
      "source": [
        "param_dist = {'max_leaf_nodes': randint(3, 100),\n",
        "              'min_samples_split': randint(4, 30)}\n",
        "\n",
        "rnd_gb_search = RandomizedSearchCV(gb_tree,param_distributions=param_dist,\n",
        "                                cv=5, n_iter=10)\n",
        "\n",
        "rnd_gb_search.fit(X_train, y_train)\n",
        "\n",
        "print(rnd_gb_search.best_params_)"
      ]
    },
    {
      "cell_type": "code",
      "execution_count": null,
      "metadata": {
        "id": "z0U0IH0DyaKa",
        "outputId": "12b76f70-dfa7-419a-81a6-dab815007653"
      },
      "outputs": [
        {
          "name": "stdout",
          "output_type": "stream",
          "text": [
            "Train Score:  0.6903054448871182\n",
            "Validation Score:  0.6711783439490446\n"
          ]
        }
      ],
      "source": [
        "gb_tree = GradientBoostingClassifier(max_leaf_nodes = 11, min_samples_split = 20)\n",
        "gb_tree.fit(X_train, y_train)\n",
        "\n",
        "\n",
        "gb_train_score = gb_tree.score(X_train, y_train)\n",
        "gb_val_score = gb_tree.score(X_val, y_val)\n",
        "\n",
        "print('Train Score: ', gb_train_score)\n",
        "print('Validation Score: ', gb_val_score)"
      ]
    },
    {
      "cell_type": "markdown",
      "metadata": {
        "id": "YVLtCLsJyaKa"
      },
      "source": [
        "Out of our models, gradient boosting performs best on the testing data. We can use this model for our confusion matrix."
      ]
    },
    {
      "cell_type": "code",
      "execution_count": null,
      "metadata": {
        "id": "0mZQ6Ts4yaKa",
        "outputId": "8a030812-ea58-4209-fcbc-0dfff245b8f3"
      },
      "outputs": [
        {
          "name": "stdout",
          "output_type": "stream",
          "text": [
            "Test Score:  0.5788216560509554\n",
            "Test Score:  0.6759554140127388\n",
            "Test Score:  0.5939490445859873\n",
            "Test Score:  0.6807324840764332\n",
            "Test Score:  0.677547770700637\n"
          ]
        }
      ],
      "source": [
        "models = [tree, bag_tree, rf_tree, rf_tree_rnd_search, gb_tree]\n",
        "for i in models:\n",
        "    print('Test Score: ', i.score(X_test, y_test))"
      ]
    },
    {
      "cell_type": "code",
      "execution_count": null,
      "metadata": {
        "id": "2gg_EgdMyaKa",
        "outputId": "75626611-56d5-484a-9087-f55af63adc22"
      },
      "outputs": [
        {
          "data": {
            "text/plain": [
              "array([[847,  18],\n",
              "       [387,   4]])"
            ]
          },
          "execution_count": 140,
          "metadata": {},
          "output_type": "execute_result"
        }
      ],
      "source": [
        "from sklearn.metrics import confusion_matrix\n",
        "\n",
        "confusion_matrix(y_test , gb_tree.predict(X_test))"
      ]
    },
    {
      "cell_type": "markdown",
      "metadata": {
        "id": "txAn1s4ByaKa"
      },
      "source": [
        "## Interpretation and Conclusions (20 points)\n",
        "Regression:\n",
        "\n",
        "For both hatch and emergence success, we used regression models to predict our success rates (in percentage of total clutch count). Given that we did not have individual data for each egg, we could not determine a binary measure of mortality that we could use a classification model to predict. To evaluate the performance of our regression models, we ran k-fold cross validation on every model (OLS, Ridge, and Lasso) before choosing hyperparameters. The k-fold cross validation function calculates RMSE for each fold. Our average RMSE values were similar across the different models, and were pretty substantial. Adjusting our hyperparameters did not improve model prediction as much as we hoped originally. More specifically, our Lasso model, when given a lambda (alpha) parameter of 1 or higher, dropped all features and assigned them coefficients of zero, predicting the mean value for every observation. This indicates that our feature variables were not the best predictors of success rates, but this could be due to difficulties finding and accessing relevant datasets. When we predicted success rates for observations where there was no measured success rate, we predicted values ranging from 65-85%. This is quite a limited range and speaks to the limitations of our regression models. It is highly unlikely that none of the observations we attempted to predict had success rates below 50% or even close to zero, but our models were unable to capture that variability. This could be because our feature values do not vary significantly either, especially between different nest observations.\n",
        "\n",
        "\n",
        "Classification:\n",
        "\n",
        "We used statsmodels to create logistic regression models for washovers and VLM (vertical land movement) rate as predictor variables and relocation (1 is relocated, 0 is in situ) as the response variable. The curve represents the probability of whether or not a nest will be relocated, and plotting it with the two categories allows us to visualize our model’s accuracy. Our logistic regression model for VLM rate is not accurate because the yellow regression line does not intersect with any blue points representing in situ and relocated. This could be because the in situ and relocated values overlap on the x axis. Our logistic regression model for washovers has better accuracy because some parts of the line intersect with the points, but most points still do not intersect. Additionally, our training of the model on unbalanced data with far more “in situ” nests than “relocated” nests leads to bias in our models.\n",
        "We constructed several decision trees after splitting the data into training, testing, and validation sets. The features we selected were longitude, latitude, washovers, and VLM rate. The initial tree, random forest, and bagging methods were all very well-fit to the training data, indicating that the features we selected have high variance for those models. Out of the five models, gradient boosting scored the best on the testing data set. Thus, we selected gradient boosting as our optimal model for predicting relocation. This model gives us a precision of 0.7368 and recall of 0.06588. This indicates that when this model predicts that a nest is relocated, it is correct about 74% of the time (however, the small subset of data in the confusion matrix makes this score highly biased). Our recall score indicates that for all nests that are actually relocated, our model has correctly identified 6.5% as being relocated. These show that our model is not very good at assessing relocated nests.\n",
        "\n",
        "\n",
        "We aimed to accurately predict nest relocation in order to better understand how many nests need to be relocated each year and which features best contribute to the relocation decision. This would have shown how we should allocate nest relocation management on Cumberland Island. Our model’s performance reveals that our feature selection would need a lot of improvements in order to best answer this question. Averaging vertical land movement across long periods of time as a metric for erosion could contribute to the inaccuracy of our model. Additionally, we did not have much washover data for all nests across the island. Light pollution is also a major consideration for sea turtle nest management, yet we were not able to include this in a csv format. Given these constraints to our model, I would recommend that decision makers still consider washovers and land erosion when deciding to relocate a nest, yet also take into account these other factors.\n"
      ]
    },
    {
      "cell_type": "code",
      "execution_count": null,
      "metadata": {
        "id": "FPxppImcyaKa"
      },
      "outputs": [],
      "source": []
    }
  ],
  "metadata": {
    "kernelspec": {
      "display_name": "Python 3 (ipykernel)",
      "language": "python",
      "name": "python3"
    },
    "language_info": {
      "codemirror_mode": {
        "name": "ipython",
        "version": 3
      },
      "file_extension": ".py",
      "mimetype": "text/x-python",
      "name": "python",
      "nbconvert_exporter": "python",
      "pygments_lexer": "ipython3",
      "version": "3.9.15"
    },
    "colab": {
      "provenance": []
    }
  },
  "nbformat": 4,
  "nbformat_minor": 0
}