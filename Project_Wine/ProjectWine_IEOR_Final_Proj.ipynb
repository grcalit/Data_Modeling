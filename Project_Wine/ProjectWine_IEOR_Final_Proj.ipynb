{
  "nbformat": 4,
  "nbformat_minor": 0,
  "metadata": {
    "colab": {
      "provenance": []
    },
    "kernelspec": {
      "name": "python3",
      "display_name": "Python 3"
    },
    "language_info": {
      "name": "python"
    }
  },
  "cells": [
    {
      "cell_type": "markdown",
      "source": [
        "# Project Wine"
      ],
      "metadata": {
        "id": "dkPVf4EdQedx"
      }
    },
    {
      "cell_type": "markdown",
      "source": [
        "Team Members:\n",
        "\n",
        "Gabriella Rosal Calit,\n",
        "Sebastian Bonifasi Sanchez,\n",
        "Priya Khullar,\n",
        "KC Kim"
      ],
      "metadata": {
        "id": "WlFZzOS-PoYF"
      }
    },
    {
      "cell_type": "code",
      "source": [
        "%matplotlib inline\n",
        "\n",
        "import numpy as np\n",
        "import pandas as pd\n",
        "import matplotlib.pyplot as plt\n",
        "import statsmodels.api as sm\n",
        "\n",
        "from sklearn.pipeline import Pipeline\n",
        "from sklearn.preprocessing import StandardScaler\n",
        "from sklearn.preprocessing import scale\n",
        "from sklearn.model_selection import train_test_split, cross_val_score, RepeatedKFold, GridSearchCV\n",
        "from sklearn.linear_model import LinearRegression, Ridge, RidgeCV, Lasso, LassoCV, ElasticNet, ElasticNetCV\n",
        "from sklearn.metrics import mean_squared_error\n",
        "from numpy import mean\n",
        "from numpy import std\n",
        "from numpy import absolute\n",
        "\n"
      ],
      "metadata": {
        "id": "XtH0Jq57_gN1"
      },
      "execution_count": null,
      "outputs": []
    },
    {
      "cell_type": "code",
      "source": [
        "wine_data = pd.read_csv(\"winequality-red.csv\")\n",
        "X = wine_data.drop(\"quality\", axis=1)\n",
        "y = wine_data[\"quality\"]"
      ],
      "metadata": {
        "id": "r0asBJDKQMC5"
      },
      "execution_count": null,
      "outputs": []
    },
    {
      "cell_type": "markdown",
      "source": [
        "## Ordinary Least Squares (OLS)"
      ],
      "metadata": {
        "id": "KbETe6AiQkIe"
      }
    },
    {
      "cell_type": "code",
      "source": [
        "wineQuality = wine_data\n",
        "wineQuality"
      ],
      "metadata": {
        "id": "moHxHVPNK2NE",
        "colab": {
          "base_uri": "https://localhost:8080/",
          "height": 485
        },
        "outputId": "b426f1de-eeb7-4d4e-b592-1e3c5a08a73a"
      },
      "execution_count": null,
      "outputs": [
        {
          "output_type": "execute_result",
          "data": {
            "text/plain": [
              "      fixed acidity  volatile acidity  citric acid  residual sugar  chlorides  \\\n",
              "0               7.4             0.700         0.00             1.9      0.076   \n",
              "1               7.8             0.880         0.00             2.6      0.098   \n",
              "2               7.8             0.760         0.04             2.3      0.092   \n",
              "3              11.2             0.280         0.56             1.9      0.075   \n",
              "4               7.4             0.700         0.00             1.9      0.076   \n",
              "...             ...               ...          ...             ...        ...   \n",
              "1594            6.2             0.600         0.08             2.0      0.090   \n",
              "1595            5.9             0.550         0.10             2.2      0.062   \n",
              "1596            6.3             0.510         0.13             2.3      0.076   \n",
              "1597            5.9             0.645         0.12             2.0      0.075   \n",
              "1598            6.0             0.310         0.47             3.6      0.067   \n",
              "\n",
              "      free sulfur dioxide  total sulfur dioxide  density    pH  sulphates  \\\n",
              "0                    11.0                  34.0  0.99780  3.51       0.56   \n",
              "1                    25.0                  67.0  0.99680  3.20       0.68   \n",
              "2                    15.0                  54.0  0.99700  3.26       0.65   \n",
              "3                    17.0                  60.0  0.99800  3.16       0.58   \n",
              "4                    11.0                  34.0  0.99780  3.51       0.56   \n",
              "...                   ...                   ...      ...   ...        ...   \n",
              "1594                 32.0                  44.0  0.99490  3.45       0.58   \n",
              "1595                 39.0                  51.0  0.99512  3.52       0.76   \n",
              "1596                 29.0                  40.0  0.99574  3.42       0.75   \n",
              "1597                 32.0                  44.0  0.99547  3.57       0.71   \n",
              "1598                 18.0                  42.0  0.99549  3.39       0.66   \n",
              "\n",
              "      alcohol  quality  \n",
              "0         9.4        5  \n",
              "1         9.8        5  \n",
              "2         9.8        5  \n",
              "3         9.8        6  \n",
              "4         9.4        5  \n",
              "...       ...      ...  \n",
              "1594     10.5        5  \n",
              "1595     11.2        6  \n",
              "1596     11.0        6  \n",
              "1597     10.2        5  \n",
              "1598     11.0        6  \n",
              "\n",
              "[1599 rows x 12 columns]"
            ],
            "text/html": [
              "\n",
              "  <div id=\"df-33997105-cac2-4a20-9ae3-b8cb6d492d6b\">\n",
              "    <div class=\"colab-df-container\">\n",
              "      <div>\n",
              "<style scoped>\n",
              "    .dataframe tbody tr th:only-of-type {\n",
              "        vertical-align: middle;\n",
              "    }\n",
              "\n",
              "    .dataframe tbody tr th {\n",
              "        vertical-align: top;\n",
              "    }\n",
              "\n",
              "    .dataframe thead th {\n",
              "        text-align: right;\n",
              "    }\n",
              "</style>\n",
              "<table border=\"1\" class=\"dataframe\">\n",
              "  <thead>\n",
              "    <tr style=\"text-align: right;\">\n",
              "      <th></th>\n",
              "      <th>fixed acidity</th>\n",
              "      <th>volatile acidity</th>\n",
              "      <th>citric acid</th>\n",
              "      <th>residual sugar</th>\n",
              "      <th>chlorides</th>\n",
              "      <th>free sulfur dioxide</th>\n",
              "      <th>total sulfur dioxide</th>\n",
              "      <th>density</th>\n",
              "      <th>pH</th>\n",
              "      <th>sulphates</th>\n",
              "      <th>alcohol</th>\n",
              "      <th>quality</th>\n",
              "    </tr>\n",
              "  </thead>\n",
              "  <tbody>\n",
              "    <tr>\n",
              "      <th>0</th>\n",
              "      <td>7.4</td>\n",
              "      <td>0.700</td>\n",
              "      <td>0.00</td>\n",
              "      <td>1.9</td>\n",
              "      <td>0.076</td>\n",
              "      <td>11.0</td>\n",
              "      <td>34.0</td>\n",
              "      <td>0.99780</td>\n",
              "      <td>3.51</td>\n",
              "      <td>0.56</td>\n",
              "      <td>9.4</td>\n",
              "      <td>5</td>\n",
              "    </tr>\n",
              "    <tr>\n",
              "      <th>1</th>\n",
              "      <td>7.8</td>\n",
              "      <td>0.880</td>\n",
              "      <td>0.00</td>\n",
              "      <td>2.6</td>\n",
              "      <td>0.098</td>\n",
              "      <td>25.0</td>\n",
              "      <td>67.0</td>\n",
              "      <td>0.99680</td>\n",
              "      <td>3.20</td>\n",
              "      <td>0.68</td>\n",
              "      <td>9.8</td>\n",
              "      <td>5</td>\n",
              "    </tr>\n",
              "    <tr>\n",
              "      <th>2</th>\n",
              "      <td>7.8</td>\n",
              "      <td>0.760</td>\n",
              "      <td>0.04</td>\n",
              "      <td>2.3</td>\n",
              "      <td>0.092</td>\n",
              "      <td>15.0</td>\n",
              "      <td>54.0</td>\n",
              "      <td>0.99700</td>\n",
              "      <td>3.26</td>\n",
              "      <td>0.65</td>\n",
              "      <td>9.8</td>\n",
              "      <td>5</td>\n",
              "    </tr>\n",
              "    <tr>\n",
              "      <th>3</th>\n",
              "      <td>11.2</td>\n",
              "      <td>0.280</td>\n",
              "      <td>0.56</td>\n",
              "      <td>1.9</td>\n",
              "      <td>0.075</td>\n",
              "      <td>17.0</td>\n",
              "      <td>60.0</td>\n",
              "      <td>0.99800</td>\n",
              "      <td>3.16</td>\n",
              "      <td>0.58</td>\n",
              "      <td>9.8</td>\n",
              "      <td>6</td>\n",
              "    </tr>\n",
              "    <tr>\n",
              "      <th>4</th>\n",
              "      <td>7.4</td>\n",
              "      <td>0.700</td>\n",
              "      <td>0.00</td>\n",
              "      <td>1.9</td>\n",
              "      <td>0.076</td>\n",
              "      <td>11.0</td>\n",
              "      <td>34.0</td>\n",
              "      <td>0.99780</td>\n",
              "      <td>3.51</td>\n",
              "      <td>0.56</td>\n",
              "      <td>9.4</td>\n",
              "      <td>5</td>\n",
              "    </tr>\n",
              "    <tr>\n",
              "      <th>...</th>\n",
              "      <td>...</td>\n",
              "      <td>...</td>\n",
              "      <td>...</td>\n",
              "      <td>...</td>\n",
              "      <td>...</td>\n",
              "      <td>...</td>\n",
              "      <td>...</td>\n",
              "      <td>...</td>\n",
              "      <td>...</td>\n",
              "      <td>...</td>\n",
              "      <td>...</td>\n",
              "      <td>...</td>\n",
              "    </tr>\n",
              "    <tr>\n",
              "      <th>1594</th>\n",
              "      <td>6.2</td>\n",
              "      <td>0.600</td>\n",
              "      <td>0.08</td>\n",
              "      <td>2.0</td>\n",
              "      <td>0.090</td>\n",
              "      <td>32.0</td>\n",
              "      <td>44.0</td>\n",
              "      <td>0.99490</td>\n",
              "      <td>3.45</td>\n",
              "      <td>0.58</td>\n",
              "      <td>10.5</td>\n",
              "      <td>5</td>\n",
              "    </tr>\n",
              "    <tr>\n",
              "      <th>1595</th>\n",
              "      <td>5.9</td>\n",
              "      <td>0.550</td>\n",
              "      <td>0.10</td>\n",
              "      <td>2.2</td>\n",
              "      <td>0.062</td>\n",
              "      <td>39.0</td>\n",
              "      <td>51.0</td>\n",
              "      <td>0.99512</td>\n",
              "      <td>3.52</td>\n",
              "      <td>0.76</td>\n",
              "      <td>11.2</td>\n",
              "      <td>6</td>\n",
              "    </tr>\n",
              "    <tr>\n",
              "      <th>1596</th>\n",
              "      <td>6.3</td>\n",
              "      <td>0.510</td>\n",
              "      <td>0.13</td>\n",
              "      <td>2.3</td>\n",
              "      <td>0.076</td>\n",
              "      <td>29.0</td>\n",
              "      <td>40.0</td>\n",
              "      <td>0.99574</td>\n",
              "      <td>3.42</td>\n",
              "      <td>0.75</td>\n",
              "      <td>11.0</td>\n",
              "      <td>6</td>\n",
              "    </tr>\n",
              "    <tr>\n",
              "      <th>1597</th>\n",
              "      <td>5.9</td>\n",
              "      <td>0.645</td>\n",
              "      <td>0.12</td>\n",
              "      <td>2.0</td>\n",
              "      <td>0.075</td>\n",
              "      <td>32.0</td>\n",
              "      <td>44.0</td>\n",
              "      <td>0.99547</td>\n",
              "      <td>3.57</td>\n",
              "      <td>0.71</td>\n",
              "      <td>10.2</td>\n",
              "      <td>5</td>\n",
              "    </tr>\n",
              "    <tr>\n",
              "      <th>1598</th>\n",
              "      <td>6.0</td>\n",
              "      <td>0.310</td>\n",
              "      <td>0.47</td>\n",
              "      <td>3.6</td>\n",
              "      <td>0.067</td>\n",
              "      <td>18.0</td>\n",
              "      <td>42.0</td>\n",
              "      <td>0.99549</td>\n",
              "      <td>3.39</td>\n",
              "      <td>0.66</td>\n",
              "      <td>11.0</td>\n",
              "      <td>6</td>\n",
              "    </tr>\n",
              "  </tbody>\n",
              "</table>\n",
              "<p>1599 rows × 12 columns</p>\n",
              "</div>\n",
              "      <button class=\"colab-df-convert\" onclick=\"convertToInteractive('df-33997105-cac2-4a20-9ae3-b8cb6d492d6b')\"\n",
              "              title=\"Convert this dataframe to an interactive table.\"\n",
              "              style=\"display:none;\">\n",
              "        \n",
              "  <svg xmlns=\"http://www.w3.org/2000/svg\" height=\"24px\"viewBox=\"0 0 24 24\"\n",
              "       width=\"24px\">\n",
              "    <path d=\"M0 0h24v24H0V0z\" fill=\"none\"/>\n",
              "    <path d=\"M18.56 5.44l.94 2.06.94-2.06 2.06-.94-2.06-.94-.94-2.06-.94 2.06-2.06.94zm-11 1L8.5 8.5l.94-2.06 2.06-.94-2.06-.94L8.5 2.5l-.94 2.06-2.06.94zm10 10l.94 2.06.94-2.06 2.06-.94-2.06-.94-.94-2.06-.94 2.06-2.06.94z\"/><path d=\"M17.41 7.96l-1.37-1.37c-.4-.4-.92-.59-1.43-.59-.52 0-1.04.2-1.43.59L10.3 9.45l-7.72 7.72c-.78.78-.78 2.05 0 2.83L4 21.41c.39.39.9.59 1.41.59.51 0 1.02-.2 1.41-.59l7.78-7.78 2.81-2.81c.8-.78.8-2.07 0-2.86zM5.41 20L4 18.59l7.72-7.72 1.47 1.35L5.41 20z\"/>\n",
              "  </svg>\n",
              "      </button>\n",
              "      \n",
              "  <style>\n",
              "    .colab-df-container {\n",
              "      display:flex;\n",
              "      flex-wrap:wrap;\n",
              "      gap: 12px;\n",
              "    }\n",
              "\n",
              "    .colab-df-convert {\n",
              "      background-color: #E8F0FE;\n",
              "      border: none;\n",
              "      border-radius: 50%;\n",
              "      cursor: pointer;\n",
              "      display: none;\n",
              "      fill: #1967D2;\n",
              "      height: 32px;\n",
              "      padding: 0 0 0 0;\n",
              "      width: 32px;\n",
              "    }\n",
              "\n",
              "    .colab-df-convert:hover {\n",
              "      background-color: #E2EBFA;\n",
              "      box-shadow: 0px 1px 2px rgba(60, 64, 67, 0.3), 0px 1px 3px 1px rgba(60, 64, 67, 0.15);\n",
              "      fill: #174EA6;\n",
              "    }\n",
              "\n",
              "    [theme=dark] .colab-df-convert {\n",
              "      background-color: #3B4455;\n",
              "      fill: #D2E3FC;\n",
              "    }\n",
              "\n",
              "    [theme=dark] .colab-df-convert:hover {\n",
              "      background-color: #434B5C;\n",
              "      box-shadow: 0px 1px 3px 1px rgba(0, 0, 0, 0.15);\n",
              "      filter: drop-shadow(0px 1px 2px rgba(0, 0, 0, 0.3));\n",
              "      fill: #FFFFFF;\n",
              "    }\n",
              "  </style>\n",
              "\n",
              "      <script>\n",
              "        const buttonEl =\n",
              "          document.querySelector('#df-33997105-cac2-4a20-9ae3-b8cb6d492d6b button.colab-df-convert');\n",
              "        buttonEl.style.display =\n",
              "          google.colab.kernel.accessAllowed ? 'block' : 'none';\n",
              "\n",
              "        async function convertToInteractive(key) {\n",
              "          const element = document.querySelector('#df-33997105-cac2-4a20-9ae3-b8cb6d492d6b');\n",
              "          const dataTable =\n",
              "            await google.colab.kernel.invokeFunction('convertToInteractive',\n",
              "                                                     [key], {});\n",
              "          if (!dataTable) return;\n",
              "\n",
              "          const docLinkHtml = 'Like what you see? Visit the ' +\n",
              "            '<a target=\"_blank\" href=https://colab.research.google.com/notebooks/data_table.ipynb>data table notebook</a>'\n",
              "            + ' to learn more about interactive tables.';\n",
              "          element.innerHTML = '';\n",
              "          dataTable['output_type'] = 'display_data';\n",
              "          await google.colab.output.renderOutput(dataTable, element);\n",
              "          const docLink = document.createElement('div');\n",
              "          docLink.innerHTML = docLinkHtml;\n",
              "          element.appendChild(docLink);\n",
              "        }\n",
              "      </script>\n",
              "    </div>\n",
              "  </div>\n",
              "  "
            ]
          },
          "metadata": {},
          "execution_count": 5
        }
      ]
    },
    {
      "cell_type": "code",
      "source": [
        "wineQuality.sort_values('quality', inplace=True)"
      ],
      "metadata": {
        "id": "N83k3-mbLiSJ"
      },
      "execution_count": null,
      "outputs": []
    },
    {
      "cell_type": "code",
      "source": [
        "# Added a constant to the independent variables\n",
        "X_ols = sm.add_constant(X)\n",
        "model = sm.OLS(y, X_ols)\n",
        "results = model.fit()\n",
        "\n",
        "print(results.summary())"
      ],
      "metadata": {
        "colab": {
          "base_uri": "https://localhost:8080/"
        },
        "id": "qkiNkfrxMTmJ",
        "outputId": "5a530f6d-45ad-4fb9-cfef-8fb1be3b4bd0"
      },
      "execution_count": null,
      "outputs": [
        {
          "output_type": "stream",
          "name": "stdout",
          "text": [
            "                            OLS Regression Results                            \n",
            "==============================================================================\n",
            "Dep. Variable:                quality   R-squared:                       0.361\n",
            "Model:                            OLS   Adj. R-squared:                  0.356\n",
            "Method:                 Least Squares   F-statistic:                     81.35\n",
            "Date:                Tue, 02 May 2023   Prob (F-statistic):          1.79e-145\n",
            "Time:                        23:42:46   Log-Likelihood:                -1569.1\n",
            "No. Observations:                1599   AIC:                             3162.\n",
            "Df Residuals:                    1587   BIC:                             3227.\n",
            "Df Model:                          11                                         \n",
            "Covariance Type:            nonrobust                                         \n",
            "========================================================================================\n",
            "                           coef    std err          t      P>|t|      [0.025      0.975]\n",
            "----------------------------------------------------------------------------------------\n",
            "const                   21.9652     21.195      1.036      0.300     -19.607      63.538\n",
            "fixed acidity            0.0250      0.026      0.963      0.336      -0.026       0.076\n",
            "volatile acidity        -1.0836      0.121     -8.948      0.000      -1.321      -0.846\n",
            "citric acid             -0.1826      0.147     -1.240      0.215      -0.471       0.106\n",
            "residual sugar           0.0163      0.015      1.089      0.276      -0.013       0.046\n",
            "chlorides               -1.8742      0.419     -4.470      0.000      -2.697      -1.052\n",
            "free sulfur dioxide      0.0044      0.002      2.009      0.045       0.000       0.009\n",
            "total sulfur dioxide    -0.0033      0.001     -4.480      0.000      -0.005      -0.002\n",
            "density                -17.8812     21.633     -0.827      0.409     -60.314      24.551\n",
            "pH                      -0.4137      0.192     -2.159      0.031      -0.789      -0.038\n",
            "sulphates                0.9163      0.114      8.014      0.000       0.692       1.141\n",
            "alcohol                  0.2762      0.026     10.429      0.000       0.224       0.328\n",
            "==============================================================================\n",
            "Omnibus:                       27.376   Durbin-Watson:                   1.757\n",
            "Prob(Omnibus):                  0.000   Jarque-Bera (JB):               40.965\n",
            "Skew:                          -0.168   Prob(JB):                     1.27e-09\n",
            "Kurtosis:                       3.708   Cond. No.                     1.13e+05\n",
            "==============================================================================\n",
            "\n",
            "Notes:\n",
            "[1] Standard Errors assume that the covariance matrix of the errors is correctly specified.\n",
            "[2] The condition number is large, 1.13e+05. This might indicate that there are\n",
            "strong multicollinearity or other numerical problems.\n"
          ]
        }
      ]
    },
    {
      "cell_type": "code",
      "source": [
        "#Baseline Model\n",
        "regression = LinearRegression()\n",
        "regression.fit(X,y)\n",
        "first_model = (mean_squared_error(y_true=y, y_pred=regression.predict(X)))\n",
        "print(first_model)"
      ],
      "metadata": {
        "colab": {
          "base_uri": "https://localhost:8080/"
        },
        "id": "Uk0jD2gxjq2m",
        "outputId": "7dac3131-8dc4-474c-efbf-8b1a862373da"
      },
      "execution_count": null,
      "outputs": [
        {
          "output_type": "stream",
          "name": "stdout",
          "text": [
            "0.41676716722125007\n"
          ]
        }
      ]
    },
    {
      "cell_type": "code",
      "source": [
        "#Coefficients_OLS\n",
        "coef_dict_baseline = {}\n",
        "for coef, feat in zip(regression.coef_, X.columns) :\n",
        "    coef_dict_baseline[feat] = coef\n",
        "coef_dict_baseline"
      ],
      "metadata": {
        "colab": {
          "base_uri": "https://localhost:8080/"
        },
        "id": "Acl3ZOA0kMpI",
        "outputId": "4dd05515-e54d-4851-f9ff-00dbaebbd6f1"
      },
      "execution_count": null,
      "outputs": [
        {
          "output_type": "execute_result",
          "data": {
            "text/plain": [
              "{'fixed acidity': 0.024990552675656412,\n",
              " 'volatile acidity': -1.083590258692188,\n",
              " 'citric acid': -0.1825639484061993,\n",
              " 'residual sugar': 0.01633126976610759,\n",
              " 'chlorides': -1.8742251580848106,\n",
              " 'free sulfur dioxide': 0.0043613333090892215,\n",
              " 'total sulfur dioxide': -0.0032645797031345403,\n",
              " 'density': -17.88116383506437,\n",
              " 'pH': -0.4136531438094561,\n",
              " 'sulphates': 0.9163344127157658,\n",
              " 'alcohol': 0.27619769922229687}"
            ]
          },
          "metadata": {},
          "execution_count": 9
        }
      ]
    },
    {
      "cell_type": "markdown",
      "source": [
        "## Ridge Regression"
      ],
      "metadata": {
        "id": "s-oyaLLUKwGo"
      }
    },
    {
      "cell_type": "markdown",
      "source": [
        "Calculating the cross-validation errors for each alphas with Ridge Regression"
      ],
      "metadata": {
        "id": "GbWtHDHHQobl"
      }
    },
    {
      "cell_type": "code",
      "source": [
        "alphas = np.arange(0.1,1.01,0.01)\n",
        "errors = np.zeros(len(alphas))\n",
        "i = 0\n",
        "\n",
        "for alpha in alphas:\n",
        "    L2_cv = RidgeCV(alphas=[alpha], cv=10, scoring='neg_mean_squared_error').fit(X,y)\n",
        "    errors[i] = -L2_cv.best_score_\n",
        "    i += 1\n",
        "\n",
        "errors"
      ],
      "metadata": {
        "id": "wqCQ4an-QNPd",
        "colab": {
          "base_uri": "https://localhost:8080/"
        },
        "outputId": "338f2903-f609-492f-ba3a-ad08f6faf4b3"
      },
      "execution_count": null,
      "outputs": [
        {
          "output_type": "execute_result",
          "data": {
            "text/plain": [
              "array([0.43425534, 0.43424685, 0.43423872, 0.43423093, 0.43422347,\n",
              "       0.43421631, 0.43420944, 0.43420285, 0.43419653, 0.43419048,\n",
              "       0.43418468, 0.43417912, 0.4341738 , 0.4341687 , 0.43416384,\n",
              "       0.43415918, 0.43415475, 0.43415051, 0.43414648, 0.43414264,\n",
              "       0.43413898, 0.43413552, 0.43413223, 0.43412912, 0.43412618,\n",
              "       0.4341234 , 0.43412079, 0.43411833, 0.43411603, 0.43411388,\n",
              "       0.43411188, 0.43411001, 0.43410829, 0.4341067 , 0.43410525,\n",
              "       0.43410392, 0.43410272, 0.43410165, 0.43410069, 0.43409985,\n",
              "       0.43409912, 0.43409851, 0.434098  , 0.4340976 , 0.43409731,\n",
              "       0.43409711, 0.43409701, 0.43409701, 0.43409711, 0.43409729,\n",
              "       0.43409756, 0.43409793, 0.43409837, 0.4340989 , 0.43409951,\n",
              "       0.4341002 , 0.43410097, 0.43410181, 0.43410272, 0.43410371,\n",
              "       0.43410477, 0.43410589, 0.43410709, 0.43410834, 0.43410966,\n",
              "       0.43411105, 0.43411249, 0.43411399, 0.43411555, 0.43411717,\n",
              "       0.43411884, 0.43412056, 0.43412234, 0.43412417, 0.43412605,\n",
              "       0.43412797, 0.43412995, 0.43413197, 0.43413403, 0.43413614,\n",
              "       0.43413829, 0.43414048, 0.43414272, 0.43414499, 0.43414731,\n",
              "       0.43414966, 0.43415205, 0.43415447, 0.43415693, 0.43415942,\n",
              "       0.43416195])"
            ]
          },
          "metadata": {},
          "execution_count": 10
        }
      ]
    },
    {
      "cell_type": "markdown",
      "source": [
        "Plotting the alphas vs cross-validation errors"
      ],
      "metadata": {
        "id": "3Fjp1J3KQuiQ"
      }
    },
    {
      "cell_type": "code",
      "source": [
        "plt.plot(alphas, errors)\n",
        "plt.xlabel(\"Alpha\")\n",
        "plt.ylabel(\"Cross-Validation Error (MSE)\")\n",
        "plt.title(\"Cross-Validation Error vs Alpha\")"
      ],
      "metadata": {
        "id": "UGVEK6uYQYnc",
        "colab": {
          "base_uri": "https://localhost:8080/",
          "height": 489
        },
        "outputId": "69bcc1b4-0240-4d36-ec83-792685fd8f3c"
      },
      "execution_count": null,
      "outputs": [
        {
          "output_type": "execute_result",
          "data": {
            "text/plain": [
              "Text(0.5, 1.0, 'Cross-Validation Error vs Alpha')"
            ]
          },
          "metadata": {},
          "execution_count": 11
        },
        {
          "output_type": "display_data",
          "data": {
            "text/plain": [
              "<Figure size 640x480 with 1 Axes>"
            ],
            "image/png": "[encoded data removed]"
          },
          "metadata": {}
        }
      ]
    },
    {
      "cell_type": "markdown",
      "source": [
        "The Optimal Coefficients for Lasso Regression"
      ],
      "metadata": {
        "id": "-aF61GSUQzvI"
      }
    },
    {
      "cell_type": "code",
      "source": [
        "L2_cv = RidgeCV(alphas=alphas, cv=10, scoring='neg_mean_squared_error').fit(X,y)\n",
        "L2_coef = pd.Series(L2_cv.coef_, index=X.columns)\n",
        "L2_coef"
      ],
      "metadata": {
        "id": "dI9TcxDKQauG",
        "colab": {
          "base_uri": "https://localhost:8080/"
        },
        "outputId": "9accdf61-ff24-4647-9a51-a4c69cfac07a"
      },
      "execution_count": null,
      "outputs": [
        {
          "output_type": "execute_result",
          "data": {
            "text/plain": [
              "fixed acidity           0.011715\n",
              "volatile acidity       -1.105811\n",
              "citric acid            -0.196327\n",
              "residual sugar          0.008078\n",
              "chlorides              -1.539256\n",
              "free sulfur dioxide     0.004489\n",
              "total sulfur dioxide   -0.003248\n",
              "density                -0.033193\n",
              "pH                     -0.461639\n",
              "sulphates               0.844934\n",
              "alcohol                 0.296391\n",
              "dtype: float64"
            ]
          },
          "metadata": {},
          "execution_count": 12
        }
      ]
    },
    {
      "cell_type": "markdown",
      "source": [
        "## Lasso Regression"
      ],
      "metadata": {
        "id": "MeufJii_u2j0"
      }
    },
    {
      "cell_type": "code",
      "source": [
        "#plot alpha vs cross validation error\n",
        "lasso = Lasso(max_iter = 10000)\n",
        "errors = []\n",
        "alpha2= np.arange(0.00001, 0.0011, 0.00001)\n",
        "\n",
        "for alpha in alpha2:\n",
        "    Lasso_Graph = LassoCV(alphas=[alpha], cv=10).fit(X,y)\n",
        "    errors += [np.mean(Lasso_Graph.mse_path_)]\n",
        "print (errors)\n",
        "\n",
        "\n",
        "\n",
        "\n",
        "plt.plot(alpha2, errors)\n",
        "plt.xlabel('alpha')\n",
        "plt.ylabel('errors')\n",
        "plt.title(\"Error vs Alpha\")"
      ],
      "metadata": {
        "id": "9XlVjjcoU9Qn",
        "colab": {
          "base_uri": "https://localhost:8080/",
          "height": 527
        },
        "outputId": "1b9dd4e0-ad27-4436-92ec-f8b83200515f"
      },
      "execution_count": null,
      "outputs": [
        {
          "output_type": "stream",
          "name": "stdout",
          "text": [
            "[0.4349207254891259, 0.4343337029859756, 0.43432629719924093, 0.4343191093731312, 0.4343121400300164, 0.4343053968448035, 0.43429920739873706, 0.4342929966613339, 0.43428697322665916, 0.4342811578360376, 0.4342755822979537, 0.4342699763624152, 0.43426502464573985, 0.4342600849370505, 0.43425530878739504, 0.43425051265070147, 0.43424617957670264, 0.43424206317906455, 0.43423819308837086, 0.4342345639312672, 0.4342311244640366, 0.4342278901101544, 0.43422489482812043, 0.43422213546934063, 0.43421958379071574, 0.43421727725685555, 0.43421516709568203, 0.43421329861563346, 0.4342116418149352, 0.4342102000422573, 0.43420898146362746, 0.4342079938415172, 0.43420722410805757, 0.43420665046033474, 0.4342063155221375, 0.4342062138652424, 0.4342063260996559, 0.43420660472930095, 0.43420715897399154, 0.43420793437748645, 0.4342089309397862, 0.43421014866089047, 0.4342115875407993, 0.43421324757951274, 0.434215128777031, 0.43421719192023167, 0.4342194832013603, 0.4342220252693479, 0.43422479123993013, 0.4342277783683082, 0.43423098665442633, 0.4342344096184084, 0.4342380781672591, 0.4342419498625011, 0.43424604083627205, 0.434250352140391, 0.4342548846098572, 0.4342594665063255, 0.4342644422953992, 0.43426963924761386, 0.43427505736296973, 0.4342806966414668, 0.4342865214078865, 0.43429260558980437, 0.43429890877231553, 0.434305435302341, 0.43431218299158514, 0.4343191518400481, 0.4343263388856239, 0.43433375009242114, 0.43434134202665237, 0.4343492073910646, 0.4343572835290444, 0.4343655814091615, 0.4343737315117163, 0.43438175666437295, 0.4343899928715663, 0.43439845832049856, 0.43440703849550016, 0.4344159016700794, 0.43442503015257455, 0.43443437945101604, 0.4344439486820253, 0.4344537375649808, 0.434463747269771, 0.43447397779639585, 0.4344844269429314, 0.4344950989516391, 0.4345059420182963, 0.43451705633776544, 0.43452839149801736, 0.43453994748829067, 0.43455173600193336, 0.4345637335525874, 0.4345759519560117, 0.4345883884159728, 0.43460099551024456, 0.43461387848772076, 0.43462628848122015, 0.4346388873512992, 0.43465168980197005, 0.43466471225493963, 0.43467789816337393, 0.4346913634606281, 0.43470504875601457, 0.434718954049533, 0.4347330793411837, 0.43474736835911454, 0.4347619376207275]\n"
          ]
        },
        {
          "output_type": "execute_result",
          "data": {
            "text/plain": [
              "Text(0.5, 1.0, 'Error vs Alpha')"
            ]
          },
          "metadata": {},
          "execution_count": 13
        },
        {
          "output_type": "display_data",
          "data": {
            "text/plain": [
              "<Figure size 640x480 with 1 Axes>"
            ],
            "image/png": "[encoded data removed]"
          },
          "metadata": {}
        }
      ]
    },
    {
      "cell_type": "code",
      "source": [
        "#table of coeff\n",
        "L1_cv = LassoCV(alphas=alpha2, cv=10).fit(X,y)\n",
        "L1_coef = pd.Series(L1_cv.coef_, index=X.columns)\n",
        "L1_coef"
      ],
      "metadata": {
        "colab": {
          "base_uri": "https://localhost:8080/"
        },
        "id": "HCNiD6n-vcN8",
        "outputId": "7521f878-aefe-48e7-eba6-251f33debdcd"
      },
      "execution_count": null,
      "outputs": [
        {
          "output_type": "execute_result",
          "data": {
            "text/plain": [
              "fixed acidity           0.009732\n",
              "volatile acidity       -1.088788\n",
              "citric acid            -0.158843\n",
              "residual sugar          0.007936\n",
              "chlorides              -1.669697\n",
              "free sulfur dioxide     0.004549\n",
              "total sulfur dioxide   -0.003293\n",
              "density                -0.000000\n",
              "pH                     -0.453641\n",
              "sulphates               0.854297\n",
              "alcohol                 0.293931\n",
              "dtype: float64"
            ]
          },
          "metadata": {},
          "execution_count": 14
        }
      ]
    },
    {
      "cell_type": "markdown",
      "source": [
        "## Elastic Net"
      ],
      "metadata": {
        "id": "vbjo4hkJW5c_"
      }
    },
    {
      "cell_type": "code",
      "source": [
        "# Define the pipeline\n",
        "pipe = Pipeline([\n",
        "    ('scaler', StandardScaler()),\n",
        "    ('elastic', ElasticNet())])\n",
        "\n",
        "# Define the grid search\n",
        "search = GridSearchCV(\n",
        "    estimator=pipe,\n",
        "    param_grid={\n",
        "        'elastic__alpha': np.logspace(-5, 2, 8),\n",
        "        'elastic__l1_ratio': [0.2, 0.4, 0.6, 0.8]\n",
        "    },\n",
        "    scoring='neg_mean_squared_error',\n",
        "    n_jobs=1,\n",
        "    refit=True,\n",
        "    cv=10\n",
        ")"
      ],
      "metadata": {
        "id": "FoyM6RtgjhJf"
      },
      "execution_count": null,
      "outputs": []
    },
    {
      "cell_type": "code",
      "source": [
        "search.fit(X,y)\n",
        "print(search.best_params_)\n",
        "print(abs(search.best_score_))"
      ],
      "metadata": {
        "colab": {
          "base_uri": "https://localhost:8080/"
        },
        "id": "bowJbcWHq9rv",
        "outputId": "eefd642e-7c43-4ff7-e3cc-493d46fe525f"
      },
      "execution_count": null,
      "outputs": [
        {
          "output_type": "stream",
          "name": "stdout",
          "text": [
            "{'elastic__alpha': 0.01, 'elastic__l1_ratio': 0.8}\n",
            "0.43420396645297565\n"
          ]
        }
      ]
    },
    {
      "cell_type": "code",
      "source": [
        "model_elastic = ElasticNet(alpha=0.01, l1_ratio=0.8)\n",
        "model_elastic.fit(X,y)\n",
        "second_model_elastic = (mean_squared_error(y_true=y, y_pred=model_elastic.predict(X)))\n",
        "print(second_model_elastic)"
      ],
      "metadata": {
        "colab": {
          "base_uri": "https://localhost:8080/"
        },
        "id": "eLWXEO-DhHGf",
        "outputId": "7530a625-bb7b-445f-e755-de44a52f824c"
      },
      "execution_count": null,
      "outputs": [
        {
          "output_type": "stream",
          "name": "stdout",
          "text": [
            "0.4300141899744741\n"
          ]
        }
      ]
    },
    {
      "cell_type": "code",
      "source": [
        "ENet = ElasticNetCV(cv=10, l1_ratio=0.8).fit(X,y)\n",
        "ENet.alpha_"
      ],
      "metadata": {
        "colab": {
          "base_uri": "https://localhost:8080/"
        },
        "id": "zfm6nSjmcJ4f",
        "outputId": "83ecc780-86ac-467b-bbbf-b918d784bcf0"
      },
      "execution_count": null,
      "outputs": [
        {
          "output_type": "execute_result",
          "data": {
            "text/plain": [
              "0.006142702345626427"
            ]
          },
          "metadata": {},
          "execution_count": 19
        }
      ]
    },
    {
      "cell_type": "code",
      "source": [
        "pd.Series(ENet.coef_, index=X.columns)"
      ],
      "metadata": {
        "colab": {
          "base_uri": "https://localhost:8080/"
        },
        "id": "b4VUV7CCcUlZ",
        "outputId": "d5624916-8d69-4c0f-98dd-e7aaf341a1cd"
      },
      "execution_count": null,
      "outputs": [
        {
          "output_type": "execute_result",
          "data": {
            "text/plain": [
              "fixed acidity           0.030865\n",
              "volatile acidity       -0.956373\n",
              "citric acid            -0.000000\n",
              "residual sugar          0.000000\n",
              "chlorides              -0.000000\n",
              "free sulfur dioxide     0.004852\n",
              "total sulfur dioxide   -0.003083\n",
              "density                -0.000000\n",
              "pH                     -0.000000\n",
              "sulphates               0.514888\n",
              "alcohol                 0.302855\n",
              "dtype: float64"
            ]
          },
          "metadata": {},
          "execution_count": 20
        }
      ]
    },
    {
      "cell_type": "code",
      "source": [
        "plt.plot(ENet.alphas_, np.mean(ENet.mse_path_,axis=1))\n",
        "plt.xlabel('Alpha (a+b)') #a = L1 parameter, b = L2 parameter\n",
        "plt.ylabel(\"Cross-Validation Error (MSE)\")\n",
        "plt.title(\"Cross-Validation Error vs Alpha\")\n",
        "plt.show()"
      ],
      "metadata": {
        "colab": {
          "base_uri": "https://localhost:8080/",
          "height": 472
        },
        "id": "yeA7MQemcUZt",
        "outputId": "0109f71b-9842-4296-810b-169e03f226fe"
      },
      "execution_count": null,
      "outputs": [
        {
          "output_type": "display_data",
          "data": {
            "text/plain": [
              "<Figure size 640x480 with 1 Axes>"
            ],
            "image/png": "[encoded data removed]"
          },
          "metadata": {}
        }
      ]
    }
  ]
}